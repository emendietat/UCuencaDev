{
 "cells": [
  {
   "cell_type": "markdown",
   "metadata": {},
   "source": [
    "# Sesión de Ejercicios 1"
   ]
  },
  {
   "cell_type": "markdown",
   "metadata": {},
   "source": [
    "Este ejercicio tiene por objeto que el estudiante se familiarize con el uso de las notebooks en Python. "
   ]
  },
  {
   "cell_type": "markdown",
   "metadata": {},
   "source": [
    "## Ejercicio 1"
   ]
  },
  {
   "cell_type": "markdown",
   "metadata": {},
   "source": [
    "Ejecute los comandos que se encuentran acontinuación en la celda. Verifique los resultados"
   ]
  },
  {
   "cell_type": "code",
   "execution_count": 9,
   "metadata": {},
   "outputs": [
    {
     "name": "stdout",
     "output_type": "stream",
     "text": [
      "30\n"
     ]
    }
   ],
   "source": [
    "x = 10\n",
    "y = 20\n",
    "\n",
    "print(x+y)"
   ]
  },
  {
   "cell_type": "markdown",
   "metadata": {},
   "source": [
    "Cree 3 variables numéricas y asignelas valores. Adicionalmente, cree varias operaciones matemáticas y/o lógicas usando los distintos operadores lógicos que conoce."
   ]
  },
  {
   "cell_type": "code",
   "execution_count": 8,
   "metadata": {},
   "outputs": [
    {
     "name": "stdout",
     "output_type": "stream",
     "text": [
      "7 + 5 = 12\n",
      "7 - 5 = 2\n",
      "7 * 5 = 35\n",
      "7 / 5 = 1.4\n",
      "El número 7 o el número 5 son mayores que 10: False\n",
      "El número 7 y el número 5 son menores que 10: True\n",
      "Ni el número 7, ni el número 5 son mayores que 10: True\n"
     ]
    }
   ],
   "source": [
    "# Inserte su código aquí\n",
    "numero_1 = 7\n",
    "numero_2 = 5\n",
    "\n",
    "resultado = numero_1 + numero_2\n",
    "print(f'{numero_1} + {numero_2} = {resultado}')\n",
    "\n",
    "resultado = numero_1 - numero_2\n",
    "print(f'{numero_1} - {numero_2} = {resultado}')\n",
    "\n",
    "resultado = numero_1 * numero_2\n",
    "print(f'{numero_1} * {numero_2} = {resultado}')\n",
    "\n",
    "resultado = numero_1 / numero_2\n",
    "print(f'{numero_1} / {numero_2} = {resultado}')\n",
    "\n",
    "print(f'El número {numero_1} o el número {numero_2} son mayores que 10: {(numero_1 or numero_2) > 10}')\n",
    "print(f'El número {numero_1} y el número {numero_2} son menores que 10: {(numero_1 and numero_2) < 10}')\n",
    "print(f'Ni el número {numero_1}, ni el número {numero_2} son mayores que 10: {not (numero_1 and numero_2) > 10}')\n"
   ]
  },
  {
   "cell_type": "markdown",
   "metadata": {},
   "source": [
    "## Ejercicio 2"
   ]
  },
  {
   "cell_type": "markdown",
   "metadata": {},
   "source": [
    "Este ejercicio tiene por objetivo que el estudiante tenga conocimiento de como manipular texto enriquecido en el entorno de desarrollo de una notebook.  En la primera celda a continuación, escriba y ejecute lo siguiente: # Título 1.\n",
    "\n",
    "Nota: para usar texto enriquecido, la celda debe ser de tipo Markdown, de otra manera se interpretará como si fuese un comando de Python"
   ]
  },
  {
   "cell_type": "markdown",
   "metadata": {},
   "source": [
    "# Título 1"
   ]
  },
  {
   "cell_type": "markdown",
   "metadata": {},
   "source": [
    "A continuación, escriba y ejecute lo siguiente: ## Título 2"
   ]
  },
  {
   "cell_type": "markdown",
   "metadata": {},
   "source": [
    "## Título 2"
   ]
  },
  {
   "cell_type": "markdown",
   "metadata": {},
   "source": [
    "Finalmente, escriba y ejecute lo siguiente: ### Título 3"
   ]
  },
  {
   "cell_type": "markdown",
   "metadata": {},
   "source": [
    "### Título 3"
   ]
  },
  {
   "cell_type": "markdown",
   "metadata": {},
   "source": [
    "Para escribir texto normal, simplemente se configura la celda de tipo Markdown y se escribe normalmente"
   ]
  },
  {
   "cell_type": "markdown",
   "metadata": {},
   "source": [
    "## Ejercicio 3"
   ]
  },
  {
   "cell_type": "markdown",
   "metadata": {},
   "source": [
    "En este ejercicio se introducirán notaciones matemáticas. Estas pueden ser insertadas de forma fácil y rápida, y de forma similar a un entorno LaTex."
   ]
  },
  {
   "cell_type": "code",
   "execution_count": 5,
   "metadata": {},
   "outputs": [],
   "source": [
    "# Escriba el siguiente texto en la celda a continuación: $x_i, i \\in {1, ..., N}$"
   ]
  },
  {
   "cell_type": "markdown",
   "metadata": {},
   "source": [
    "$x_i, i \\in {1, ..., N}$"
   ]
  },
  {
   "cell_type": "markdown",
   "metadata": {},
   "source": [
    "Investigue un poco sobre la notación matemática en LaTex y cree su propio ejemplo de fórmula matemática en la celda a continuación"
   ]
  },
  {
   "cell_type": "markdown",
   "metadata": {},
   "source": [
    "$x_{1} = \\frac {-b \\pm \\sqrt {b^2 - 4ac}}{2a}$"
   ]
  }
 ],
 "metadata": {
  "kernelspec": {
   "display_name": "Python 3 (ipykernel)",
   "language": "python",
   "name": "python3"
  },
  "language_info": {
   "codemirror_mode": {
    "name": "ipython",
    "version": 3
   },
   "file_extension": ".py",
   "mimetype": "text/x-python",
   "name": "python",
   "nbconvert_exporter": "python",
   "pygments_lexer": "ipython3",
   "version": "3.9.7"
  }
 },
 "nbformat": 4,
 "nbformat_minor": 2
}
