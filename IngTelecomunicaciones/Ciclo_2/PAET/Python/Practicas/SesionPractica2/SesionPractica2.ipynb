{
 "cells": [
  {
   "cell_type": "markdown",
   "metadata": {},
   "source": [
    "# Sesión de Ejercicios 3"
   ]
  },
  {
   "cell_type": "markdown",
   "metadata": {},
   "source": [
    "En esta sesión el estudiante desarrollará habilidades para manejar problemas que tengan código que deba repetirse; específicamente estamentos `for`"
   ]
  },
  {
   "cell_type": "markdown",
   "metadata": {},
   "source": [
    "## Entendiendo la indentación"
   ]
  },
  {
   "cell_type": "markdown",
   "metadata": {},
   "source": [
    "El correcto uso de la indentación en Python es primordial, ya que de lo contrario, Python no sabría donde comienza o termina un bloque de código. "
   ]
  },
  {
   "cell_type": "markdown",
   "metadata": {},
   "source": [
    "### Ejercicio 1"
   ]
  },
  {
   "cell_type": "markdown",
   "metadata": {},
   "source": [
    "Ejecute el siguiente bloque de código en donde la indentación es correcta"
   ]
  },
  {
   "cell_type": "code",
   "execution_count": 1,
   "metadata": {},
   "outputs": [
    {
     "name": "stdout",
     "output_type": "stream",
     "text": [
      "0\n",
      "1\n",
      "2\n",
      "3\n",
      "4\n",
      "5\n",
      "6\n",
      "7\n",
      "8\n",
      "9\n",
      "45\n"
     ]
    }
   ],
   "source": [
    "suma = 0\n",
    "for i in range(10):\n",
    "    suma += i\n",
    "    print(i)\n",
    "\n",
    "print(suma)"
   ]
  },
  {
   "cell_type": "markdown",
   "metadata": {},
   "source": [
    "Ahora ejecute el siguiente código, en donde la indentación no es la correcta"
   ]
  },
  {
   "cell_type": "code",
   "execution_count": 3,
   "metadata": {},
   "outputs": [
    {
     "ename": "IndentationError",
     "evalue": "unindent does not match any outer indentation level (<tokenize>, line 4)",
     "output_type": "error",
     "traceback": [
      "\u001b[1;36m  File \u001b[1;32m<tokenize>:4\u001b[1;36m\u001b[0m\n\u001b[1;33m    print(i)\u001b[0m\n\u001b[1;37m    ^\u001b[0m\n\u001b[1;31mIndentationError\u001b[0m\u001b[1;31m:\u001b[0m unindent does not match any outer indentation level\n"
     ]
    }
   ],
   "source": [
    "suma = 0\n",
    "for i in range(10):\n",
    "     suma += i\n",
    "    print(i)\n",
    "\n",
    "print(suma)"
   ]
  },
  {
   "cell_type": "markdown",
   "metadata": {},
   "source": [
    "Python chequea las indentaciones, y si no son correctas, genera un error en tiempo de ejecución"
   ]
  },
  {
   "cell_type": "markdown",
   "metadata": {},
   "source": [
    "## Uso de la función ´range()´ para generar secuencias de numeros"
   ]
  },
  {
   "cell_type": "markdown",
   "metadata": {},
   "source": [
    "### Ejercicio 2"
   ]
  },
  {
   "cell_type": "markdown",
   "metadata": {},
   "source": [
    "El uso de la función `range()` para generar listas y secuencias de valores es muy útil en Python. En este ejercicio se crearán varias secuencias de números usando la función `range()`.\n",
    "\n",
    "La sintaxís de `range()` es la siguiente:\n",
    "\n",
    "range(start, stop, step)\n",
    "\n",
    "Donde:\n",
    "- start: Opcional. Un entero especificando en que posición comenzar. Valor por defecto es 0\n",
    "- stop: Requerido. Un entero especificando un que posición terminar.\n",
    "- step: Opcional. Un entero especificando el incremento. Valor por defecto es 1.\n",
    "\n",
    "Por defecto, ´range()´ devuelve un valor del tipo ´range´. Si se desea utilizar el resultado como una lista, este valor debe ser convertido a lista con el comando ´list´\n",
    "\n",
    "Ejecutar y analizar el siguiente código:"
   ]
  },
  {
   "cell_type": "code",
   "execution_count": 4,
   "metadata": {},
   "outputs": [
    {
     "name": "stdout",
     "output_type": "stream",
     "text": [
      "range(0, 6)\n",
      "[0, 1, 2, 3, 4, 5]\n",
      "[20, 21, 22, 23, 24, 25, 26, 27, 28, 29, 30]\n",
      "[20, 22, 24, 26, 28, 30]\n",
      "[20, 19, 18, 17, 16, 15, 14, 13, 12, 11, 10]\n"
     ]
    }
   ],
   "source": [
    "# Ejemplos de generacion de secuencias usando ´range()´\n",
    "\n",
    "# Generar valores del 0 a 5\n",
    "x = range(6)\n",
    "\n",
    "print(x)  # por defecto devuelve un valor del tipo range\n",
    "print(list(x))  # este valor puede ser convertido a una lista\n",
    "\n",
    "# generar valores del 20 al 30\n",
    "x = range(20, 31)\n",
    "\n",
    "print(list(x))\n",
    "\n",
    "# generar valores de 20 a 30 en incrementos de 2\n",
    "x = range(20, 31, 2)\n",
    "\n",
    "print(list(x))\n",
    "\n",
    "# generar valores del 20 al 10\n",
    "x = range(20, 9, -1)\n",
    "\n",
    "print(list(x))"
   ]
  },
  {
   "cell_type": "markdown",
   "metadata": {},
   "source": [
    "Generar una lista con números de 20 a 40, con incrementos de 5 y calcule su suma usando un ´for´"
   ]
  },
  {
   "cell_type": "code",
   "execution_count": 5,
   "metadata": {},
   "outputs": [
    {
     "name": "stdout",
     "output_type": "stream",
     "text": [
      "20\n",
      "25\n",
      "30\n",
      "35\n",
      "40\n",
      "La suma es: 150.\n",
      "\n"
     ]
    }
   ],
   "source": [
    "# Generamos una lista con números desde el 20 al 40, incrementando de 5 en 5.\n",
    "start, stop, step = 20, 40, 5\n",
    "numeros = list(range(start, stop + 1, step))\n",
    "\n",
    "# Sumamos todos los números de la lista.\n",
    "suma = 0\n",
    "for numero in numeros:\n",
    "    print(numero)\n",
    "    suma += numero\n",
    "\n",
    "print(f'La suma es: {suma}.\\n')"
   ]
  },
  {
   "cell_type": "markdown",
   "metadata": {},
   "source": [
    "## Uso del estamento `for`"
   ]
  },
  {
   "cell_type": "markdown",
   "metadata": {},
   "source": [
    "El estamento `for` es usado para ejecutar varias veces un mismo bloque de código. Su característica principal es que se conocen de antemano el número de iteraciones que serán ejecutadas."
   ]
  },
  {
   "cell_type": "markdown",
   "metadata": {},
   "source": [
    "### Ejercicio 3"
   ]
  },
  {
   "cell_type": "markdown",
   "metadata": {},
   "source": [
    "Modifique el código del Ejercicio 1, para que en vez de mostrar la suma total de los elementos, muestre la multiplicación de los mismos"
   ]
  },
  {
   "cell_type": "code",
   "execution_count": 6,
   "metadata": {},
   "outputs": [
    {
     "name": "stdout",
     "output_type": "stream",
     "text": [
      "0\n",
      "1\n",
      "2\n",
      "3\n",
      "4\n",
      "5\n",
      "6\n",
      "7\n",
      "8\n",
      "9\n",
      "La multiplicación es: 0.\n",
      "\n"
     ]
    }
   ],
   "source": [
    "# 1. Multiplicacion de los números 0-9\n",
    "multiplicacion = 1\n",
    "for i in range(10):\n",
    "    multiplicacion *= i\n",
    "    print(i)\n",
    "\n",
    "print(f'La multiplicación es: {multiplicacion}.\\n')"
   ]
  },
  {
   "cell_type": "markdown",
   "metadata": {},
   "source": [
    "Si el restultado es 0, la implementación es correcta. Ahora modifique su código de forma tal que se muestre la multiplicación de los primeros 10 números mayores a 0.\n",
    "\n",
    "Ayuda: revise la función `range()` y como generar valores dentro de un rango"
   ]
  },
  {
   "cell_type": "code",
   "execution_count": 7,
   "metadata": {},
   "outputs": [
    {
     "name": "stdout",
     "output_type": "stream",
     "text": [
      "1\n",
      "2\n",
      "3\n",
      "4\n",
      "5\n",
      "6\n",
      "7\n",
      "8\n",
      "9\n",
      "10\n",
      "La multiplicación es: 3628800.\n",
      "\n"
     ]
    }
   ],
   "source": [
    "# 2. Multiplicación de los 10 primeros números mayores a cero\n",
    "start, stop = 1, 10\n",
    "multiplicacion = 1\n",
    "\n",
    "for i in range(start, stop + 1):\n",
    "    print(i)\n",
    "    multiplicacion *= i\n",
    "\n",
    "print(f'La multiplicación es: {multiplicacion}.\\n')"
   ]
  },
  {
   "cell_type": "markdown",
   "metadata": {},
   "source": [
    "### Ejercicio 4"
   ]
  },
  {
   "cell_type": "markdown",
   "metadata": {},
   "source": [
    "Implemente un código que muestre los números enteros $x$ tal que $0 < x <= 30$ y $x$ sea par"
   ]
  },
  {
   "cell_type": "code",
   "execution_count": 10,
   "metadata": {},
   "outputs": [
    {
     "name": "stdout",
     "output_type": "stream",
     "text": [
      "2\n",
      "4\n",
      "6\n",
      "8\n",
      "10\n",
      "12\n",
      "14\n",
      "16\n",
      "18\n",
      "20\n",
      "22\n",
      "24\n",
      "26\n",
      "28\n",
      "30\n"
     ]
    }
   ],
   "source": [
    "# 1. Generamos e imprimimos los números pares en el rango 0 < x <= 30\n",
    "start, stop, step = 2, 30, 2\n",
    "\n",
    "for i in range(start, stop + 1, step):\n",
    "    print(i)"
   ]
  },
  {
   "cell_type": "markdown",
   "metadata": {},
   "source": [
    "Modifique su código para que muestre la suma de los numeros impares en el mismo rango"
   ]
  },
  {
   "cell_type": "code",
   "execution_count": 11,
   "metadata": {},
   "outputs": [
    {
     "name": "stdout",
     "output_type": "stream",
     "text": [
      "1\n",
      "3\n",
      "5\n",
      "7\n",
      "9\n",
      "11\n",
      "13\n",
      "15\n",
      "17\n",
      "19\n",
      "21\n",
      "23\n",
      "25\n",
      "27\n",
      "29\n",
      "La suma es: 225.\n",
      "\n"
     ]
    }
   ],
   "source": [
    "# 2. Suma de los números impares en el rango 0 < x <= 30\n",
    "start, stop, step = 1, 30, 2\n",
    "suma = 0\n",
    "\n",
    "for i in range(start, stop + 1, step):\n",
    "    print(i)\n",
    "    suma += i\n",
    "\n",
    "print(f'La suma es: {suma}.\\n')"
   ]
  },
  {
   "cell_type": "markdown",
   "metadata": {},
   "source": [
    "### Ejercicio 5"
   ]
  },
  {
   "cell_type": "markdown",
   "metadata": {},
   "source": [
    "Dada una lista con colores, pedir al usuario el ingreso de un color. Mostrar cuantas veces el color ingresado por el usuario esta presente en la lista predeterminada."
   ]
  },
  {
   "cell_type": "code",
   "execution_count": 17,
   "metadata": {},
   "outputs": [
    {
     "name": "stdout",
     "output_type": "stream",
     "text": [
      "\n",
      "Ingrese un color: amarillo\n",
      "\n",
      "El color: amarillo, se encuentra 3 vez/veces en la lista.\n",
      "\n"
     ]
    }
   ],
   "source": [
    "colores = ['amarillo', 'verde', 'rojo', 'azul', 'violeta', 'amarillo', 'violeta', 'amarillo']\n",
    "\n",
    "color = input('\\nIngrese un color: ')\n",
    "\n",
    "# Verificamos cuantas veces aparece el color en la lista.\n",
    "cont = 0\n",
    "for i in colores:\n",
    "    if color == i:\n",
    "        cont += 1\n",
    "\n",
    "print(f'\\nEl color: {color}, se encuentra {cont} vez/veces en la lista.\\n')"
   ]
  },
  {
   "cell_type": "markdown",
   "metadata": {},
   "source": [
    "### Ejercicio 6"
   ]
  },
  {
   "cell_type": "markdown",
   "metadata": {},
   "source": [
    "Para este ejercicio, el estudiante primero necesita aprender a concatenar variables/valores de tipo `str`. Para ello, se utiliza el operador suma `+`.\n",
    "\n",
    "Ejemplo:"
   ]
  },
  {
   "cell_type": "code",
   "execution_count": 18,
   "metadata": {},
   "outputs": [
    {
     "name": "stdout",
     "output_type": "stream",
     "text": [
      "Palabra1Palabra2\n",
      "Casa Arbol\n",
      "abcd\n"
     ]
    }
   ],
   "source": [
    "# concatenar 2 valores de tipo string\n",
    "print(\"Palabra1\" + 'Palabra2')\n",
    "\n",
    "# concatenar 2 variables\n",
    "palabra1 = 'Casa'\n",
    "palabra2 = 'Arbol'\n",
    "print(palabra1 + ' ' + palabra2)\n",
    "\n",
    "# concatenar caracteres\n",
    "print('a' + 'b' + 'c' + 'd')"
   ]
  },
  {
   "cell_type": "markdown",
   "metadata": {},
   "source": [
    "Adicionalmente, para seleccionar parte de una cadena, se puede usar una funcionalidad denominada `slicing` en Python\n",
    "\n",
    "Ejemplo:"
   ]
  },
  {
   "cell_type": "code",
   "execution_count": 19,
   "metadata": {},
   "outputs": [
    {
     "name": "stdout",
     "output_type": "stream",
     "text": [
      "papay\n",
      "papa\n"
     ]
    }
   ],
   "source": [
    "palabra = 'papaya'\n",
    "\n",
    "# mostrar toda la palabra, menos el ultimo caracter\n",
    "print(palabra[:-1]) # El caracter ´:´ significa seleccionar la cadena desde el inicio y el -1 implica donde debe terminar la seleccion\n",
    "\n",
    "# mostrar toda la palabra, menos los 2 ultimos caracteres\n",
    "print(palabra[:-2])"
   ]
  },
  {
   "cell_type": "markdown",
   "metadata": {},
   "source": [
    "Escribir un programa para construir el siguiente patron.\n",
    "\n",
    "`*` <br>\n",
    "`* *` <br>\n",
    "`* * *` <br>\n",
    "`* * * *` <br>\n",
    "`* * * * *` <br>\n",
    "`* * * *` <br>\n",
    "`* * *` <br>\n",
    "`* *` <br>\n",
    "`*` <br>"
   ]
  },
  {
   "cell_type": "code",
   "execution_count": 8,
   "metadata": {},
   "outputs": [
    {
     "name": "stdout",
     "output_type": "stream",
     "text": [
      "\n",
      "Número de líneas = 9:\n",
      "\n",
      "* \n",
      "* * \n",
      "* * * \n",
      "* * * * \n",
      "* * * * * \n",
      "* * * * \n",
      "* * * \n",
      "* * \n",
      "* \n"
     ]
    }
   ],
   "source": [
    "import random\n",
    "\n",
    "# Generamos un número de lineas aleatorio.\n",
    "num_lineas = random.randint(1, 20)\n",
    "print(f'\\nNúmero de líneas = {num_lineas}:\\n')\n",
    "\n",
    "# creamos un string con una cantidad de '*' igual al número de lineas.\n",
    "linea = '* ' * num_lineas\n",
    "\n",
    "# Imprimimos '* ' en orden creciente hasta la(s) linea(s) central(es) y luego en sentido decreciente.\n",
    "for i in range(1, num_lineas + 1):\n",
    "    if round(num_lineas / 2) >= i:\n",
    "        print(linea[: i * 2 ])\n",
    "    else:\n",
    "        print(linea[i * 2 - 2:])"
   ]
  },
  {
   "cell_type": "markdown",
   "metadata": {},
   "source": [
    "### Ejercicio 7"
   ]
  },
  {
   "cell_type": "markdown",
   "metadata": {},
   "source": [
    "Imprima los números $x_i$ tal que $x=[0, .., 100]$ y $x_i$ sea divisible para 5, pero no para 3"
   ]
  },
  {
   "cell_type": "code",
   "execution_count": 34,
   "metadata": {},
   "outputs": [
    {
     "name": "stdout",
     "output_type": "stream",
     "text": [
      "\n",
      "Números divisibles para 5 pero no para 3:\n",
      "\n",
      "5\n",
      "10\n",
      "20\n",
      "25\n",
      "35\n",
      "40\n",
      "50\n",
      "55\n",
      "65\n",
      "70\n",
      "80\n",
      "85\n",
      "95\n",
      "100\n"
     ]
    }
   ],
   "source": [
    "# Generamos una lista 'x' con números de 0 a 100.\n",
    "start, stop = 0, 100\n",
    "x = list(range(start, stop + 1))\n",
    "\n",
    "print('\\nNúmeros divisibles para 5 pero no para 3:\\n')\n",
    "\n",
    "# imprimimos los 'xi' de 'x' que sean números divisibles para 5 pero no para 3.\n",
    "for xi in x:\n",
    "    if xi % 5 == 0 and xi % 3 != 0:\n",
    "        print(xi)"
   ]
  },
  {
   "cell_type": "markdown",
   "metadata": {},
   "source": [
    "### Ejercicio 8"
   ]
  },
  {
   "cell_type": "markdown",
   "metadata": {},
   "source": [
    "En este ejercicio se pretende que el estudiante use `for` aninados. \n",
    "\n",
    "Se tienen 2 conjuntos de numeros enteros $x=[1,2, ...,10]$ y $y=[11, 12, ..., 15]$. Escribir un programa que muestre en pantalla todas las posibles combinaciones ${x_i, y_j}$"
   ]
  },
  {
   "cell_type": "code",
   "execution_count": 35,
   "metadata": {},
   "outputs": [
    {
     "name": "stdout",
     "output_type": "stream",
     "text": [
      "\n",
      "Posibles combinaciones (xi, yj):\n",
      "\n",
      "----\n",
      "\n",
      "(1,11)\n",
      "(1,12)\n",
      "(1,13)\n",
      "(1,14)\n",
      "(1,15)\n",
      "\n",
      "----\n",
      "\n",
      "(2,11)\n",
      "(2,12)\n",
      "(2,13)\n",
      "(2,14)\n",
      "(2,15)\n",
      "\n",
      "----\n",
      "\n",
      "(3,11)\n",
      "(3,12)\n",
      "(3,13)\n",
      "(3,14)\n",
      "(3,15)\n",
      "\n",
      "----\n",
      "\n",
      "(4,11)\n",
      "(4,12)\n",
      "(4,13)\n",
      "(4,14)\n",
      "(4,15)\n",
      "\n",
      "----\n",
      "\n",
      "(5,11)\n",
      "(5,12)\n",
      "(5,13)\n",
      "(5,14)\n",
      "(5,15)\n",
      "\n",
      "----\n",
      "\n",
      "(6,11)\n",
      "(6,12)\n",
      "(6,13)\n",
      "(6,14)\n",
      "(6,15)\n",
      "\n",
      "----\n",
      "\n",
      "(7,11)\n",
      "(7,12)\n",
      "(7,13)\n",
      "(7,14)\n",
      "(7,15)\n",
      "\n",
      "----\n",
      "\n",
      "(8,11)\n",
      "(8,12)\n",
      "(8,13)\n",
      "(8,14)\n",
      "(8,15)\n",
      "\n",
      "----\n",
      "\n",
      "(9,11)\n",
      "(9,12)\n",
      "(9,13)\n",
      "(9,14)\n",
      "(9,15)\n",
      "\n",
      "----\n",
      "\n",
      "(10,11)\n",
      "(10,12)\n",
      "(10,13)\n",
      "(10,14)\n",
      "(10,15)\n"
     ]
    }
   ],
   "source": [
    "# Construimos los conjuntos x = [1,2,...,10] e y = [11,12,...,15].\n",
    "x = list(range(1, 11))\n",
    "y = list(range(11, 16))\n",
    "\n",
    "print('\\nPosibles combinaciones (xi, yj):')\n",
    "\n",
    "#Imprimimos las posibles combinaciones (xi, yj).\n",
    "for xi in x:\n",
    "    print('\\n----\\n')\n",
    "    for yj in y:\n",
    "        print(f'({xi},{yj})')"
   ]
  },
  {
   "cell_type": "markdown",
   "metadata": {},
   "source": [
    "### Ejercicio 9"
   ]
  },
  {
   "cell_type": "markdown",
   "metadata": {},
   "source": [
    "Modifique el código anterior de forma que solo muestre las combinaciones de números ${x_i, y_j}$ tal que $x_i + y_j \\le 20$"
   ]
  },
  {
   "cell_type": "code",
   "execution_count": 36,
   "metadata": {},
   "outputs": [
    {
     "name": "stdout",
     "output_type": "stream",
     "text": [
      "\n",
      "Posibles combinaciones (xi, yj) tal que xi + yj <= 20:\n",
      "\n",
      "----\n",
      "\n",
      "(1,11)\n",
      "(1,12)\n",
      "(1,13)\n",
      "(1,14)\n",
      "(1,15)\n",
      "\n",
      "----\n",
      "\n",
      "(2,11)\n",
      "(2,12)\n",
      "(2,13)\n",
      "(2,14)\n",
      "(2,15)\n",
      "\n",
      "----\n",
      "\n",
      "(3,11)\n",
      "(3,12)\n",
      "(3,13)\n",
      "(3,14)\n",
      "(3,15)\n",
      "\n",
      "----\n",
      "\n",
      "(4,11)\n",
      "(4,12)\n",
      "(4,13)\n",
      "(4,14)\n",
      "(4,15)\n",
      "\n",
      "----\n",
      "\n",
      "(5,11)\n",
      "(5,12)\n",
      "(5,13)\n",
      "(5,14)\n",
      "(5,15)\n",
      "\n",
      "----\n",
      "\n",
      "(6,11)\n",
      "(6,12)\n",
      "(6,13)\n",
      "(6,14)\n",
      "\n",
      "----\n",
      "\n",
      "(7,11)\n",
      "(7,12)\n",
      "(7,13)\n",
      "\n",
      "----\n",
      "\n",
      "(8,11)\n",
      "(8,12)\n",
      "\n",
      "----\n",
      "\n",
      "(9,11)\n",
      "\n",
      "----\n",
      "\n"
     ]
    }
   ],
   "source": [
    "# Construimos los conjuntos x = [1,2,...,10] e y = [11,12,...,15].\n",
    "x = list(range(1, 11))\n",
    "y = list(range(11, 16))\n",
    "\n",
    "print('\\nPosibles combinaciones (xi, yj) tal que xi + yj <= 20:')\n",
    "\n",
    "#Imprimimos las posibles combinaciones (xi, yj).\n",
    "for xi in x:\n",
    "    print('\\n----\\n')\n",
    "    for yj in y:\n",
    "        if xi + yj <= 20:\n",
    "            print(f'({xi},{yj})')"
   ]
  },
  {
   "cell_type": "markdown",
   "metadata": {},
   "source": [
    "### Ejercicio 10"
   ]
  },
  {
   "cell_type": "markdown",
   "metadata": {},
   "source": [
    "Para cada uno de los números $x_i$ tal que $x=[2, ..., 20]$ imprimir los números que son divisibles para $x_i$ excluyendo a 1 y $x_i$. Por ejemplo, si $x_i=18$, los números que lo dividen son: $[2, 3, 6, 9]$"
   ]
  },
  {
   "cell_type": "code",
   "execution_count": 37,
   "metadata": {},
   "outputs": [
    {
     "name": "stdout",
     "output_type": "stream",
     "text": [
      "\n",
      "2 es divisible para: [ ]\n",
      "\n",
      "\n",
      "3 es divisible para: [ ]\n",
      "\n",
      "\n",
      "4 es divisible para: [ 2 ]\n",
      "\n",
      "\n",
      "5 es divisible para: [ ]\n",
      "\n",
      "\n",
      "6 es divisible para: [ 2 3 ]\n",
      "\n",
      "\n",
      "7 es divisible para: [ ]\n",
      "\n",
      "\n",
      "8 es divisible para: [ 2 4 ]\n",
      "\n",
      "\n",
      "9 es divisible para: [ 3 ]\n",
      "\n",
      "\n",
      "10 es divisible para: [ 2 5 ]\n",
      "\n",
      "\n",
      "11 es divisible para: [ ]\n",
      "\n",
      "\n",
      "12 es divisible para: [ 2 3 4 6 ]\n",
      "\n",
      "\n",
      "13 es divisible para: [ ]\n",
      "\n",
      "\n",
      "14 es divisible para: [ 2 7 ]\n",
      "\n",
      "\n",
      "15 es divisible para: [ 3 5 ]\n",
      "\n",
      "\n",
      "16 es divisible para: [ 2 4 8 ]\n",
      "\n",
      "\n",
      "17 es divisible para: [ ]\n",
      "\n",
      "\n",
      "18 es divisible para: [ 2 3 6 9 ]\n",
      "\n",
      "\n",
      "19 es divisible para: [ ]\n",
      "\n",
      "\n",
      "20 es divisible para: [ 2 4 5 10 ]\n",
      "\n"
     ]
    }
   ],
   "source": [
    "# Generamos una lista de números 1 -20\n",
    "x = list(range(2, 21))\n",
    "\n",
    "# Imprimimos los números para los que 'xi' es divisible excluyendo a 1 y 'xi'\n",
    "for xi in x:\n",
    "    cadena = f'\\n{xi} es divisible para: ['\n",
    "    for i in range(2, xi):\n",
    "        if xi % i == 0:\n",
    "            cadena += f' {i}'\n",
    "    print(f'{cadena} ]\\n')"
   ]
  },
  {
   "cell_type": "markdown",
   "metadata": {},
   "source": [
    "### Ejercicio 11"
   ]
  },
  {
   "cell_type": "markdown",
   "metadata": {},
   "source": [
    "Escribir un programa para construir el siguiente patrón.\n",
    "\n",
    "1 <br>\n",
    "22 <br>\n",
    "333 <br>\n",
    "4444 <br>\n",
    "55555 <br>\n",
    "666666 <br>\n",
    "7777777 <br>\n",
    "88888888 <br>\n",
    "999999999 <br>\n",
    "\n",
    "Para este ejercicio utilizar `for` anidados"
   ]
  },
  {
   "cell_type": "code",
   "execution_count": 42,
   "metadata": {},
   "outputs": [
    {
     "name": "stdout",
     "output_type": "stream",
     "text": [
      "\n",
      "Número de lineas = 9:\n",
      "\n",
      "1\n",
      "22\n",
      "333\n",
      "4444\n",
      "55555\n",
      "666666\n",
      "7777777\n",
      "88888888\n",
      "999999999\n"
     ]
    }
   ],
   "source": [
    "import random\n",
    "\n",
    "# Generamos un número de lineas aleatorio.\n",
    "num_lineas = random.randint(1, 100)\n",
    "print(f'\\nNúmero de lineas = {num_lineas}:\\n')\n",
    "\n",
    "# Imprimimos la cadena el número de veces de la variable 'num_lineas'.\n",
    "for i in range(1, num_lineas + 1):\n",
    "    cadena = ''\n",
    "    # Generamos la cadena concatenando la variable 'i' tantas veces como su valor.\n",
    "    for j in range(i):\n",
    "        cadena += f'{i}'[-1] # Obtenemos el último elemento de la cadena para concatenar.\n",
    "    print(cadena)"
   ]
  },
  {
   "cell_type": "markdown",
   "metadata": {},
   "source": [
    "### Ejercicio 12"
   ]
  },
  {
   "cell_type": "markdown",
   "metadata": {},
   "source": [
    "Crear un programa que muestre la tabla de multiplicar de un número ingresado por el usuario. Por ejemplo, para un número $x=6$ el programa debe mostrar:\n",
    "\n",
    "6 x 1 = 6                                                               \n",
    "6 x 2 = 12                                                              \n",
    "6 x 3 = 18                                                              \n",
    "6 x 4 = 24                                                              \n",
    "6 x 5 = 30                                                              \n",
    "6 x 6 = 36                                                              \n",
    "6 x 7 = 42                                                              \n",
    "6 x 8 = 48                                                              \n",
    "6 x 9 = 54                                                              \n",
    "6 x 10 = 60"
   ]
  },
  {
   "cell_type": "code",
   "execution_count": 43,
   "metadata": {},
   "outputs": [
    {
     "name": "stdout",
     "output_type": "stream",
     "text": [
      "\n",
      "Ingrese un número: 6\n",
      "\n",
      "------ Tabla del 6 ------\n",
      "\n",
      "6 x 1 = 6\n",
      "6 x 2 = 12\n",
      "6 x 3 = 18\n",
      "6 x 4 = 24\n",
      "6 x 5 = 30\n",
      "6 x 6 = 36\n",
      "6 x 7 = 42\n",
      "6 x 8 = 48\n",
      "6 x 9 = 54\n",
      "6 x 10 = 60\n"
     ]
    }
   ],
   "source": [
    "numero = int(input('\\nIngrese un número: '))\n",
    "print(f'\\n------ Tabla del {numero} ------\\n')\n",
    "\n",
    "# Imprimimos la tabla de multiplicar del número ingresado por el usuario.\n",
    "for i in range(1, 11):\n",
    "    print(f'{numero} x {i} = {numero * i}')"
   ]
  },
  {
   "cell_type": "markdown",
   "metadata": {},
   "source": [
    "### Ejercicio 13"
   ]
  },
  {
   "cell_type": "markdown",
   "metadata": {},
   "source": [
    "La solución del ejercicio 7 de la sesión de ejercicios 2 puede ser mejorada con el uso de un `for`. Implemente el código necesario.  A continuación el enunciado del ejercicio:\n",
    "\n",
    "Se requiere comparar un número ingresado, $x$, con otros números previamente almacenados para determinar: <br>\n",
    "- Cuantos números iguales a $x$ existen.\n",
    "- Cuantos números mayores a $x$ existen\n",
    "- Cuantos números menores a $x$ existen"
   ]
  },
  {
   "cell_type": "code",
   "execution_count": 44,
   "metadata": {},
   "outputs": [
    {
     "name": "stdout",
     "output_type": "stream",
     "text": [
      "\n",
      "Ingrese el valor de x: 5\n",
      "\n",
      "Existen 2 números mayor(es), 2 menor(es) y 1 igual(es) a 5.\n",
      "\n"
     ]
    }
   ],
   "source": [
    "x = int(input('\\nIngrese el valor de x: '))\n",
    "\n",
    "# números previamente almacenados\n",
    "numeros = [10, 5, 4, 6, 3]\n",
    "\n",
    "#son variables contadores\n",
    "mayores = 0\n",
    "menores = 0\n",
    "iguales = 0\n",
    "\n",
    "#se compara si el valor de 'i' es mayor, menor o igual a 'x'.\n",
    "for i in numeros:\n",
    "    if x > i:\n",
    "        menores += 1\n",
    "    elif x < i:\n",
    "        mayores += 1\n",
    "    else:\n",
    "        iguales += 1\n",
    "\n",
    "print(f'\\nExisten {mayores} números mayor(es), {menores} menor(es) y {iguales} igual(es) a {x}.\\n')"
   ]
  }
 ],
 "metadata": {
  "kernelspec": {
   "display_name": "Python 3 (ipykernel)",
   "language": "python",
   "name": "python3"
  },
  "language_info": {
   "codemirror_mode": {
    "name": "ipython",
    "version": 3
   },
   "file_extension": ".py",
   "mimetype": "text/x-python",
   "name": "python",
   "nbconvert_exporter": "python",
   "pygments_lexer": "ipython3",
   "version": "3.9.7"
  },
  "widgets": {
   "application/vnd.jupyter.widget-state+json": {
    "state": {},
    "version_major": 2,
    "version_minor": 0
   }
  }
 },
 "nbformat": 4,
 "nbformat_minor": 4
}
