{
 "cells": [
  {
   "cell_type": "markdown",
   "metadata": {},
   "source": [
    "# Sesión de ejercicios 11"
   ]
  },
  {
   "cell_type": "markdown",
   "metadata": {},
   "source": [
    "El objetivo de esta sesión es que el alumno pueda generar gráficos simples para analizar los resultados. \n",
    "\n",
    "La generación de gráficos es un eslabón importante cuando se realiza análisis de datos. Una vez los datos hayan sido capturados y tratados, se realizan cálculos sobre estos, y en muchas de las veces, se generan gráficos para ayudar a la interpretación de los resultados. "
   ]
  },
  {
   "cell_type": "code",
   "execution_count": 1,
   "metadata": {},
   "outputs": [],
   "source": [
    "import numpy as np\n",
    "import pandas as pd\n",
    "import matplotlib.pylab as plt\n",
    "import seaborn as sns\n",
    "sns.set()\n",
    "\n",
    "%matplotlib inline"
   ]
  },
  {
   "cell_type": "markdown",
   "metadata": {},
   "source": [
    "## Ejercicio 1"
   ]
  },
  {
   "cell_type": "markdown",
   "metadata": {},
   "source": [
    "Genere un programa que dado una región, muestre un gráfico de barras con los valores de `Happiness Score` de los países pertenecientes a esa región. Para ello, usar el dataset `felicidad-2016.csv`.\n",
    "\n",
    "El gráfico seleccionado deberá tener un tamaño lo suficientemente grande para poderlo visualizar claramente. Además, deberá tener las etiquetas en los ejes `x` y `y`"
   ]
  },
  {
   "cell_type": "code",
   "execution_count": null,
   "metadata": {},
   "outputs": [],
   "source": [
    "# Ingrese su código aquí\n",
    "\n"
   ]
  },
  {
   "cell_type": "markdown",
   "metadata": {},
   "source": [
    "## Ejercicio 2"
   ]
  },
  {
   "cell_type": "markdown",
   "metadata": {},
   "source": [
    "Usando el mismo dataset que en el Ejercicio 1, genere un programa que muestre una figura con tres subplots (uno encima de otro), donde la información de los países a usarse estará seleccionada por su región (similar al ejercicio 1). El primer plot mostrará el GDP per capita; el segundo plot mostrará los valores de la columna `Family`; y, el tercer plot los valores de la columna `Freedom`. Todos los plots mostrarán gráficos de barras, y sus valores estarán ordenados de mayor a menor."
   ]
  },
  {
   "cell_type": "code",
   "execution_count": null,
   "metadata": {},
   "outputs": [],
   "source": [
    "# Ingrese su código aquí\n",
    "\n"
   ]
  },
  {
   "cell_type": "markdown",
   "metadata": {},
   "source": [
    "# Ejercicio 3"
   ]
  },
  {
   "cell_type": "markdown",
   "metadata": {},
   "source": [
    "Usando el dataset `weather_2012.csv`genere un scatter plot para analizar la relación entre las variables `Temp` and `Rel_Hum`. Adicionalmente, se le pedirá al usuario que ingrese una fecha. El plot generado, mostrará los puntos que pertenecen al día ingresado de otro color.\n",
    "\n",
    "Ayuda: para poder comparar una fecha ingresada con el índice, se debe crear un objeto de tipo `datetime.date`. Investigue como crear un objeto de este tipo y como usarlo para filtrar el dataset o generar una máscara."
   ]
  },
  {
   "cell_type": "code",
   "execution_count": null,
   "metadata": {},
   "outputs": [],
   "source": [
    "from datetime import datetime, date"
   ]
  },
  {
   "cell_type": "code",
   "execution_count": null,
   "metadata": {},
   "outputs": [],
   "source": [
    "# Ingrese su código aquí\n",
    "\n"
   ]
  },
  {
   "cell_type": "markdown",
   "metadata": {},
   "source": [
    "## Ejercicio 4"
   ]
  },
  {
   "cell_type": "markdown",
   "metadata": {},
   "source": [
    "Usando el mismo dataset que el ejercicio anterior, genere un gráfico donde se muestren en tres filas, la evolución de las siguientes variables: `Temp`, `Rel_Hum`, y `Visibility`. Estos valores deberán ser resampleados a una frecuencia de un mes, y se calcularán como sus datos promedio.\n",
    "\n",
    "Las tres curvas deberán tener un color distinto, y deberán tener su respectiva leyenda."
   ]
  },
  {
   "cell_type": "code",
   "execution_count": null,
   "metadata": {},
   "outputs": [],
   "source": [
    "# Ingrese su código aquí\n",
    "\n"
   ]
  },
  {
   "cell_type": "markdown",
   "metadata": {},
   "source": [
    "## Ejercicio 5"
   ]
  },
  {
   "cell_type": "markdown",
   "metadata": {},
   "source": [
    "Los boxplots son gráficos orientados a comparar distribuciones de los valores de alguna variable. Este plot muestra el valor promedio y la densidad de puntos en cada distribución. Para aclarar este punto, referirse a https://towardsdatascience.com/understanding-boxplots-5e2df7bcbd51\n",
    "\n",
    "Usando el mismo dataset que el ejercicio anterior, construya un gráfico con tres columnas donde se muestren boxplots de la variable `Visibility` cuando el Clima `Weather` contenga Fog, Thunderstorms, y Snow."
   ]
  },
  {
   "cell_type": "code",
   "execution_count": null,
   "metadata": {
    "scrolled": true
   },
   "outputs": [],
   "source": [
    "# Ingrese su código aquí\n",
    "\n"
   ]
  },
  {
   "cell_type": "markdown",
   "metadata": {},
   "source": [
    "## Ejercicio 6"
   ]
  },
  {
   "cell_type": "markdown",
   "metadata": {},
   "source": [
    "Basándose en el ejercicio 10 de la sesión de ejercicios anterior, genere una figura con las 3 curvas correspondientes al valor promedio, mínimo, y máximo de potencia. Cada curva deberá estar en el mismo plot, deberá tener un color distinto, y deberá tener una leyenda descriptiva."
   ]
  },
  {
   "cell_type": "code",
   "execution_count": null,
   "metadata": {
    "scrolled": true
   },
   "outputs": [],
   "source": [
    "# Ingrese su código aquí\n",
    "\n"
   ]
  },
  {
   "cell_type": "markdown",
   "metadata": {},
   "source": [
    "## Conceptos necesarios para trabajar con Arduino"
   ]
  },
  {
   "cell_type": "markdown",
   "metadata": {},
   "source": [
    "- Referencia de lenguaje: De Python a C++: https://runestone.academy/runestone/books/published/cpp4python/index.html\n",
    "- Arduino for beginners: https://www.makerspaces.com/arduino-uno-tutorial-beginners/\n",
    "- Simulador de Arduino: https://www.tinkercad.com/\n",
    "- Manual de ayuda de Arduino: https://www.arduino.cc/reference/en/#page-title"
   ]
  },
  {
   "cell_type": "markdown",
   "metadata": {},
   "source": [
    "## Ejercicio 7"
   ]
  },
  {
   "cell_type": "markdown",
   "metadata": {},
   "source": [
    "Crear un programa para Ardunino que tenga 4 diodos led que son comandados por un pulsante. Cuando este se accione, las luces se encenderán aleatoriamente, i.e. el estado de cada diodo se calculará de forma aleatoria. Inicialmente las luces estarán todas apagadas."
   ]
  },
  {
   "cell_type": "code",
   "execution_count": 1,
   "metadata": {},
   "outputs": [],
   "source": [
    "# Inserte su código aquí\n",
    "\n"
   ]
  },
  {
   "cell_type": "markdown",
   "metadata": {},
   "source": [
    "## Ejercicio 8"
   ]
  },
  {
   "cell_type": "markdown",
   "metadata": {},
   "source": [
    "Crear un porgrama para Arduino que muestre en la pantalla LCD el valor de lectura de un sensor de temperatura. También tendrá un pulsante; cuando este se accione, se mostrará en pantalla un valor numérico calculado a partir de un potenciómetro. Cuando el potenciómetro esté en su valor mínimo, se mostrará en la pantalla 0; y cuando esté en su valor máximo, se mostrará 100. Cuando se accione nuevamente el pulsante, se volverá a mostrar en pantalla la temperatura ambiente."
   ]
  },
  {
   "cell_type": "code",
   "execution_count": null,
   "metadata": {},
   "outputs": [],
   "source": [
    "# Ingrese su código aquí\n",
    "\n"
   ]
  }
 ],
 "metadata": {
  "kernelspec": {
   "display_name": "Python 3",
   "language": "python",
   "name": "python3"
  },
  "language_info": {
   "codemirror_mode": {
    "name": "ipython",
    "version": 3
   },
   "file_extension": ".py",
   "mimetype": "text/x-python",
   "name": "python",
   "nbconvert_exporter": "python",
   "pygments_lexer": "ipython3",
   "version": "3.7.3"
  },
  "widgets": {
   "application/vnd.jupyter.widget-state+json": {
    "state": {},
    "version_major": 2,
    "version_minor": 0
   }
  }
 },
 "nbformat": 4,
 "nbformat_minor": 4
}
