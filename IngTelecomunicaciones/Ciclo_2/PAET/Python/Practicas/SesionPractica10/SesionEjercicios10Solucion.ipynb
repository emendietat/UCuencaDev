{
 "cells": [
  {
   "cell_type": "markdown",
   "metadata": {},
   "source": [
    "# Sesión de ejercicios 9"
   ]
  },
  {
   "cell_type": "markdown",
   "metadata": {},
   "source": [
    "En esta sesión de ejercicios, el estudiante trabajará sobre nuevas funcionalidades prácticas del entorno de hardware Raspberry Pi + SenseHAT. Adicionalmente, se realizarán ejercicios para conocer las funcionalidades más importantes orientadas a programación matemática. Tales funcionalidades son ampliamente usadas en diversos campos de la ingeniería, y es la razón principal por la que el lenguaje Python es uno de los más populares para realizar computación científica u orientada a la Ingeniería"
   ]
  },
  {
   "cell_type": "markdown",
   "metadata": {},
   "source": [
    "## Ejercicio 1"
   ]
  },
  {
   "cell_type": "markdown",
   "metadata": {},
   "source": [
    "Volver a la página https://projects.raspberrypi.org/en/projects/getting-started-with-the-sense-hat y revisar los contenidos restantes del tutorial (desde sensing the environment hasta el final). Luego, Generar un programa para jugar a \"piedra, papel, o tijera\". Para ello, el programa deberá pedir al usuario una opción; esta será leída a través del joystick: izquierda-> piedra, arriva -> papel, derecha -> tijera. Luego el programa seleccionará una opción aleatoriamente y verificar quien ganó para ese round y lo anunciará en la pantalla. Adicionalmente, en la consola se deberá ir mostrando cuantas veces el usuario a ganado vs el número de partidas"
   ]
  },
  {
   "cell_type": "code",
   "execution_count": 1,
   "metadata": {},
   "outputs": [],
   "source": [
    "# Inserte su código aquí\n",
    "\n"
   ]
  },
  {
   "cell_type": "markdown",
   "metadata": {},
   "source": [
    "## Ejercicio 2"
   ]
  },
  {
   "cell_type": "markdown",
   "metadata": {},
   "source": [
    "Los slices son una de las funcionalidades más importantes que proveen los arrays de `numpy`. Estos posibilitan la selección de elementos de forma ágil y eficiente. De otro modo, se tendría que escribir mucho código, incrementando la posibilidad de crear errores y puntos de ineficiencia en el código.\n",
    "\n",
    "Cuando se usan arrays de numpy, los mismos conceptos de slices de listas se aplica.  Se requiere, dado un array de números enteros, seleccionar los siguientes elementos:\n",
    "\n",
    "- el primer y último elemento\n",
    "- todos los elementos excepto el último\n",
    "- todos los elementos excepto los 2 últimos elementos\n",
    "- los elementos ubicados en posiciones pares en la lista\n",
    "\n",
    "Entrada: [ 1  2  3  4  5  6  7  8  9 10 11 12 13 14 15 16 17 18 19 20]\n",
    "\n",
    "Salidas: <br>\n",
    "[1, 20] <br>\n",
    "[ 1  2  3  4  5  6  7  8  9 10 11 12 13 14 15 16 17 18 19] <br>\n",
    "[ 1  2  3  4  5  6  7  8  9 10 11 12 13 14 15 16 17 18] <br>\n",
    "[ 2  4  6  8 10 12 14 16 18 20] <br>"
   ]
  },
  {
   "cell_type": "code",
   "execution_count": 34,
   "metadata": {},
   "outputs": [
    {
     "name": "stdout",
     "output_type": "stream",
     "text": [
      "[1, 20]\n",
      "[ 1  2  3  4  5  6  7  8  9 10 11 12 13 14 15 16 17 18 19]\n",
      "[ 1  2  3  4  5  6  7  8  9 10 11 12 13 14 15 16 17 18]\n",
      "[ 2  4  6  8 10 12 14 16 18 20]\n"
     ]
    }
   ],
   "source": [
    "import numpy as np\n",
    "\n",
    "x = np.arange(1, 21, 1)\n",
    "\n",
    "# Ingrese su código aquí\n",
    "\n",
    "# el primer y último elemento\n",
    "print([x[0], x[-1]])\n",
    "\n",
    "# todos los elementos excepto el último\n",
    "print(x[:-1])\n",
    "\n",
    "# todos los elementos excepto los 2 últimos elementos\n",
    "print(x[:-2])\n",
    "\n",
    "# los elementos ubicados en posiciones pares en la lista\n",
    "print(x[1::2])"
   ]
  },
  {
   "cell_type": "markdown",
   "metadata": {},
   "source": [
    "## Ejercicio 3"
   ]
  },
  {
   "cell_type": "markdown",
   "metadata": {},
   "source": [
    "Cuando se aplica una operación matemática a un array de numpy, se aplica la misma operación elemento por elemento y como resultado se obtiene un nuevo array. Ejemplo:"
   ]
  },
  {
   "cell_type": "code",
   "execution_count": 5,
   "metadata": {},
   "outputs": [
    {
     "name": "stdout",
     "output_type": "stream",
     "text": [
      "[ 0  1  4  9 16 25 36 49 64 81]\n"
     ]
    }
   ],
   "source": [
    "x = np.arange(10)\n",
    "print(x**2)"
   ]
  },
  {
   "cell_type": "markdown",
   "metadata": {},
   "source": [
    "Teniendo esto en cuenta, se requiere crear un programa que calcule los valores de la siguiente función: $f(x)=x^2-3x-10$ para $-10\\le x \\le 20$\n",
    "\n",
    "Genere 50 valores en este rango (puede hacer uso de la función `linspace` de numpy) y calcule los valores de la función. La idea de este ejercicio no es recorrer elementos individualmente, sino aplicar una función a todos los elementos.  Finalmente, ejecutar la función `mostrar(x, y)` para mostrar en pantalla los valores de la función"
   ]
  },
  {
   "cell_type": "code",
   "execution_count": 8,
   "metadata": {},
   "outputs": [
    {
     "data": {
      "image/png": "[encoded data removed]",
      "text/plain": [
       "<Figure size 432x288 with 1 Axes>"
      ]
     },
     "metadata": {
      "needs_background": "light"
     },
     "output_type": "display_data"
    }
   ],
   "source": [
    "import matplotlib.pylab as plt\n",
    "%matplotlib inline  \n",
    "\n",
    "\n",
    "def mostrar(x, y):\n",
    "    \"\"\"\n",
    "    muestra en pantalla los valores de `x` y `y`\n",
    "    \n",
    "    :param x: np.array, array con los valores en x \n",
    "    :param y: np.array, array con los valores en y\n",
    "    \n",
    "    \"\"\"\n",
    "    plt.plot(x, y)\n",
    "    plt.show()\n",
    "\n",
    "\n",
    "# Inserte su código aquí\n",
    "\n",
    "def funcion(x):\n",
    "    \"\"\"\n",
    "    Calcula los valores de una función para un array de valores en `x`\n",
    "    :param x: np.array, valores de x\n",
    "    \n",
    "    :return: np.array, array con los valores de la función \n",
    "    \"\"\"\n",
    "    return x**2 - 3*x - 10\n",
    "\n",
    "\n",
    "# crea un grupo de valores para `x`\n",
    "x = np.linspace(-10, 21, 50)\n",
    "mostrar(x, funcion(x))  # calcula los valores de la función y manda a mostrar el resultado"
   ]
  },
  {
   "cell_type": "markdown",
   "metadata": {},
   "source": [
    "## Ejercicio 4"
   ]
  },
  {
   "cell_type": "markdown",
   "metadata": {},
   "source": [
    "Numpy permite leer valores desde archivos de texto a través de la función `genfromtxt`. La estructura del archivo de texto puede verse como elementos separados, normalmente, por comas. Esta función transforma los elementos del archivo a una matriz de `n x m` donde `n` representa el número de filas y `m` el número de columnas. Por ejemplo, para leer un archivo se ejecuta\n",
    "\n",
    "x = np.genfromtxt(open(\"archivo.csv\", encoding='utf-8-sig'), delimiter=\",\")\n",
    "\n",
    "el parámetro `encoding` es importante ya que muchas veces, dependiendo del sistema operativo, los caractéres de texto no se leen correctamente."
   ]
  },
  {
   "cell_type": "markdown",
   "metadata": {},
   "source": [
    "Se necesita un programa para calcular valores característicos de calificaciones de estudiantes. Para ello, el archivo `calificaciones.csv` tiene valores numéricos en 3 columnas. Cada fila del archivo representa las notas de un estudiante; además, cada columna representa las calificaciones de los estudiantes en una prueba. Todas las calificaciones son sobre 10 puntos.  Se requiere calcular el valor promedio de pruebas por cada estudiante; además, esta calificación deberá ser escalada a una sobre 20 puntos.  Este vector con las calificaciones deberá ser enviado a la función `mostrar_notas(x)` para que se genere un histograma de las mismas.  Más información sobre el histograma al final el ejercicio.\n",
    "\n",
    "También se deberá mostrar lo siguiente:\n",
    "- Número total de estudiantes\n",
    "- Nota promedio del curso (sobre 20 puntos)\n",
    "- Nota más alta\n",
    "- Nota más baja\n",
    "\n",
    "Nota: para este ejercicio se deben utilizar las funciones de `numpy`, así que no se permite el uso de `for` o `while` para calcular los valores"
   ]
  },
  {
   "cell_type": "code",
   "execution_count": 4,
   "metadata": {},
   "outputs": [
    {
     "data": {
      "image/png": "[encoded data removed]",
      "text/plain": [
       "<Figure size 432x288 with 1 Axes>"
      ]
     },
     "metadata": {
      "needs_background": "light"
     },
     "output_type": "display_data"
    },
    {
     "name": "stdout",
     "output_type": "stream",
     "text": [
      "existen 33 estudiantes\n",
      "El promedio del curso es 13.45\n",
      "La nota más alta es 19.33\n",
      "La menor nota es 2.67\n"
     ]
    }
   ],
   "source": [
    "import numpy as np\n",
    "import matplotlib.pylab as plt\n",
    "\n",
    "\n",
    "def mostrar_notas(x):\n",
    "    \"\"\"\n",
    "    Muestra un histograma en base a las notas ingresadas en el array `x`\n",
    "    :param x: np.array, array con las notas de los estudiantes\n",
    "    \"\"\"\n",
    "    plt.hist(x)\n",
    "    plt.show()\n",
    "\n",
    "# Inserte su código aquí\n",
    "\n",
    "# se leen las notas del archivo de texto \n",
    "x = np.genfromtxt(open(\"calificaciones.csv\", \"r\", encoding='utf-8-sig'), delimiter=\",\")\n",
    "\n",
    "# se calcula el promedio de notas por estudiante y se lo escala a una note /20\n",
    "notas = x.mean(axis=1)*20/10\n",
    "\n",
    "# se manda a mostrar el histograma con las notas\n",
    "mostrar_notas(notas)\n",
    "\n",
    "# se muestran valores característicos de las notas de los estudiantes\n",
    "print(\"existen {:d} estudiantes\".format(x.shape[0]))\n",
    "print(\"El promedio del curso es {:.2f}\".format(notas.mean()))\n",
    "print(\"La nota más alta es {:.2f}\".format(notas.max()))\n",
    "print(\"La menor nota es {:.2f}\".format(notas.min()))\n"
   ]
  },
  {
   "cell_type": "markdown",
   "metadata": {},
   "source": [
    "Un histograma muestra información sobre la frecuencia en que los valores dados en un array están en un cierto rango. Para el ejemplo anterior, existen 3 estudiantes cuyo promedio está entre 2.5 y 3.5. Así como la mayoría de alumnos tiene un promedio entre 16 y 17.5"
   ]
  },
  {
   "cell_type": "markdown",
   "metadata": {},
   "source": [
    "## Ejercicio 5"
   ]
  },
  {
   "cell_type": "markdown",
   "metadata": {},
   "source": [
    "Tomando como referecia el ejercicio anterior, se requiere mostrar los promedios de los estudiantes cuyo promedio fue $\\lt 12$. Para ello, genere una variable `nombres` que contenga un array con nombres generados para los estudiantes i.e. [\"nombre 1\", \"nombre 2\", ..., \"nombre n\"] donde $n$ es el numero total de estudiantes.\n",
    "\n",
    "Para este ejercicio usar filtros de numpy (No se permite el uso de `for` con `if` embebidos)\n",
    "\n",
    "Salida esperada:\n",
    "\n",
    "Nombre         Promedio       \n",
    "\n",
    "estudiante 1              6.67 <br>\n",
    "estudiante 11             3.33 <br>\n",
    "estudiante 17             2.67 <br>\n",
    "estudiante 20            10.67 <br>\n",
    "estudiante 21            10.67 <br>\n",
    "estudiante 25             3.33 <br>\n",
    "estudiante 27            10.67 <br>\n",
    "estudiante 29             8.67 <br>"
   ]
  },
  {
   "cell_type": "code",
   "execution_count": 10,
   "metadata": {},
   "outputs": [
    {
     "name": "stdout",
     "output_type": "stream",
     "text": [
      "Nombre         Promedio       \n",
      "--------------------------------------------------\n",
      "estudiante 1              6.67\n",
      "estudiante 11             3.33\n",
      "estudiante 17             2.67\n",
      "estudiante 20            10.67\n",
      "estudiante 21            10.67\n",
      "estudiante 25             3.33\n",
      "estudiante 27            10.67\n",
      "estudiante 29             8.67\n"
     ]
    }
   ],
   "source": [
    "# Inserte su codigo aqui\n",
    "\n",
    "# se leen las notas del archivo de texto\n",
    "x = np.genfromtxt(open(\"calificaciones.csv\", \"r\", encoding='utf-8-sig'), delimiter=\",\")\n",
    "\n",
    "# nombres generados de los estudiantes\n",
    "nombres = np.array([\"estudiante \"+str(i) for i in range(x.shape[0])])\n",
    "\n",
    "# se calcula el promedio de notas por estudiante y se lo escala a una note /20\n",
    "notas = x.mean(axis=1)*20/10\n",
    "\n",
    "# se filtran los nombres y notas cuyo promedio fue de menos de 12\n",
    "nombres_filtrados = nombres[notas < 12]\n",
    "notas_filtradas = notas[notas < 12]\n",
    "\n",
    "# se muestra la lista de estudiantes y sus promedios\n",
    "print(\"{:15s}{:15s}\".format(\"Nombre\", \"Promedio\"))\n",
    "print(\"-\"*50)\n",
    "for i in range(notas_filtradas.shape[0]):\n",
    "    print(\"{:15s}{:15.2f}\".format(nombres_filtrados[i], notas_filtradas[i]))"
   ]
  },
  {
   "cell_type": "markdown",
   "metadata": {},
   "source": [
    "## Ejercicio 6"
   ]
  },
  {
   "cell_type": "markdown",
   "metadata": {},
   "source": [
    "Tomando como base el ejercicio anterior, se requiere mostrar unicamente los promedios de un grupo especifico de estudiantes. Estos serán ingresados por el usuario. Por ejemplo, si el usuario ingresa: 1, 5, 7 el sistema mostrará los promedios de los estudiantes 1, 5, y 7 unicamente"
   ]
  },
  {
   "cell_type": "code",
   "execution_count": 11,
   "metadata": {},
   "outputs": [
    {
     "name": "stdout",
     "output_type": "stream",
     "text": [
      "Ingrese los estudiantes a mostrar separados por comas: 1, 3, 7\n",
      "Nombre         Promedio       \n",
      "--------------------------------------------------\n",
      "estudiante 1              6.67\n",
      "estudiante 3             16.00\n",
      "estudiante 7             14.67\n"
     ]
    }
   ],
   "source": [
    "# Ingrese su código aquí\n",
    "\n",
    "# se leen las notas del archivo de texto\n",
    "x = np.genfromtxt(open(\"calificaciones.csv\", \"r\", encoding='utf-8-sig'), delimiter=\",\")\n",
    "\n",
    "# nombres generados de los estudiantes\n",
    "nombres = np.array([\"estudiante \"+str(i) for i in range(x.shape[0])])\n",
    "\n",
    "# se calcula el promedio de notas por estudiante y se lo escala a una note /20\n",
    "notas = x.mean(axis=1)*20/10\n",
    "\n",
    "# lista de alumnos a seleccionar\n",
    "seleccion = np.array(input(\"Ingrese los estudiantes a mostrar separados por comas: \").split(\",\"), dtype=int)\n",
    "\n",
    "# se muestra la lista de estudiantes y sus promedios (solo de la selección)\n",
    "print(\"{:15s}{:15s}\".format(\"Nombre\", \"Promedio\"))\n",
    "print(\"-\"*50)\n",
    "for i in range(seleccion.shape[0]):\n",
    "    print(\"{:15s}{:15.2f}\".format(nombres[seleccion][i], notas[seleccion][i]))\n",
    "\n"
   ]
  },
  {
   "cell_type": "markdown",
   "metadata": {},
   "source": [
    "## Ejercicio 7"
   ]
  },
  {
   "cell_type": "markdown",
   "metadata": {},
   "source": [
    "Las máscaras son arrays booleanos de numpy que permiten seleccionar elementos especificos dentro de otros arrays.  Analice cuidadosamente el siguiente ejemplo"
   ]
  },
  {
   "cell_type": "code",
   "execution_count": 21,
   "metadata": {},
   "outputs": [
    {
     "name": "stdout",
     "output_type": "stream",
     "text": [
      "[False False False  True False  True False  True]\n",
      "[[ 33 333]\n",
      " [ 22 222]\n",
      " [ 29 299]]\n"
     ]
    }
   ],
   "source": [
    "# se definen 2 vectores con valores\n",
    "x = np.array([1, 3, 5, 33, 8, 22, 45, 29])\n",
    "y = np.array([11, 33, 55, 333, 8, 222, 45, 299])\n",
    "\n",
    "# se crea una mascara para determinar las posiciones de los valores en `x` y `y` que cumplen las condiciones:\n",
    "# x > 20 y y > 50. En `m` se tiene un array de valores booleanos donde unicamente habra valores True en las \n",
    "# posiciones que cumplan con la/las condiciones planteadas\n",
    "m = (x > 20) & (y > 50)\n",
    "print(m)  # se muestra el contenido del array\n",
    "\n",
    "# se muestran los valores seleccionados por la mascara\n",
    "print(np.column_stack([x[m], y[m]]))"
   ]
  },
  {
   "cell_type": "markdown",
   "metadata": {},
   "source": [
    "Se requiere un programa para determinar valores anomalos en una instalación industrial. Esta instalación tiene mediciones de humedad y temperatura tomadas cada hora durante varios meses. Un valor se considera anómalo cuando su temperatura es menor a 10 gradosy su humedad es mayor a 90%. Los valores de las lecturas están en el archivo `hum-temp.csv` donde la primera columna tiene los datos de humedad y la segunda los de temperatura.\n",
    "\n",
    "Cree un programa que determine, mediante una máscara, las posiciones de los elementos anomalos.  Finalmente, llame a la función `mostrar_anomalias()` mandando como parámetros el array con las temperaturas y la máscara de los elementos anomalos.  Analice los resultados del gráfico"
   ]
  },
  {
   "cell_type": "code",
   "execution_count": 5,
   "metadata": {},
   "outputs": [
    {
     "data": {
      "image/png": "[encoded data removed]",
      "text/plain": [
       "<Figure size 1080x360 with 1 Axes>"
      ]
     },
     "metadata": {
      "needs_background": "light"
     },
     "output_type": "display_data"
    }
   ],
   "source": [
    "def mostrar_anomalias(datos, mascara):\n",
    "    \"\"\"\n",
    "    muestra un grafico con datos de temperatura en funcion del tiempo y los puntos anomalos\n",
    "    :param datos: numpy.array, datos de temperatura\n",
    "    :param mascara: numpy.array, elementos anomalos\n",
    "    \"\"\"\n",
    "    # se crea un indice que sera\n",
    "    ind = np.arange(datos.shape[0])\n",
    "\n",
    "    # se muestra el grafico de la temperatura y los puntos anomalos\n",
    "    fig, ax = plt.subplots(1, 1, figsize=(15, 5))\n",
    "    ax.plot(ind, datos)\n",
    "    ax.scatter(ind[mascara], datos[mascara], c=\"red\", s=20)\n",
    "    plt.show()\n",
    "\n",
    "\n",
    "# Insertar su codigo aqui\n",
    "\n",
    "# se leen los datos de temperatura y humedad\n",
    "x = np.genfromtxt(open(\"hum-temp.csv\", \"r\", encoding='utf-8-sig'), delimiter=\",\")\n",
    "\n",
    "# se extran los valores de temperatura y humedad\n",
    "hum = x[:, 0]\n",
    "temp = x[:, 1]\n",
    "\n",
    "# se crea una mascara para filtrar los valors anomalos\n",
    "m = (hum > 90) & (temp < 10)\n",
    "\n",
    "# se muestran los resutlados\n",
    "mostrar_anomalias(temp, m)"
   ]
  },
  {
   "cell_type": "markdown",
   "metadata": {},
   "source": [
    "## Ejercicio 8"
   ]
  },
  {
   "cell_type": "markdown",
   "metadata": {},
   "source": [
    "Se requiere calcular las raíces de la función $f(x)=x^4-2x^2-3000$. Utilice funciones del paquete scipy para encontrar las raíces. Para ayudar a evaluar los posibles rangos donde se encuentran las raices, ejecute el código acontinuación para visualizar la función en el rango de $-10 \\le x \\le 10$."
   ]
  },
  {
   "cell_type": "code",
   "execution_count": 25,
   "metadata": {},
   "outputs": [
    {
     "data": {
      "image/png": "[encoded data removed]",
      "text/plain": [
       "<Figure size 1080x360 with 1 Axes>"
      ]
     },
     "metadata": {
      "needs_background": "light"
     },
     "output_type": "display_data"
    }
   ],
   "source": [
    "f = lambda x: x**4 - 2*x**2 - 3000\n",
    "\n",
    "ind = np.linspace(-10, 10, 20)\n",
    "fig, ax = plt.subplots(1, 1, figsize=(15, 5))\n",
    "\n",
    "ax.plot(ind, list(map(f, np.linspace(-10, 10, 20))))\n",
    "plt.show()"
   ]
  },
  {
   "cell_type": "code",
   "execution_count": 28,
   "metadata": {},
   "outputs": [
    {
     "name": "stdout",
     "output_type": "stream",
     "text": [
      "-7.468693852424622\n",
      "7.468693852424622\n"
     ]
    }
   ],
   "source": [
    "# Insertar su código aquí\n",
    "\n",
    "from scipy.optimize import bisect\n",
    "\n",
    "f = lambda x: x**4 - 2*x**2 - 3000\n",
    "\n",
    "# primera raíz\n",
    "x = bisect(f, -10, -5, xtol=1e-6)\n",
    "print(x)\n",
    "\n",
    "# segunda raíz\n",
    "x = bisect(f, 5, 7.5, xtol=1e-6)\n",
    "print(x)"
   ]
  },
  {
   "cell_type": "markdown",
   "metadata": {},
   "source": [
    "## Ejercicio 9"
   ]
  },
  {
   "cell_type": "markdown",
   "metadata": {},
   "source": [
    "Utilizando el paquete `sympy` resuelva el siguiente sistema de ecuaciones:\n",
    "\n",
    "$10x - 20y = 30$ <br>\n",
    "$3x + 4y = 15$ <br>\n",
    "\n",
    "Exprese el resultado con números racionales y flotantes"
   ]
  },
  {
   "cell_type": "code",
   "execution_count": 29,
   "metadata": {},
   "outputs": [
    {
     "name": "stdout",
     "output_type": "stream",
     "text": [
      "x=21/5, y=3/5\n",
      "x=4.200, y=0.600\n"
     ]
    }
   ],
   "source": [
    "# Inserte su código aquí\n",
    "\n",
    "from sympy import symbols, solve, Eq\n",
    "\n",
    "x, y = symbols('x y')\n",
    "\n",
    "s = solve((Eq(10 * x - 20 * y, 30), Eq(3 * x + 4 * y, 15)), x, y)\n",
    "print(\"x={}, y={}\".format(s[x], s[y]))\n",
    "\n",
    "print(\"x={:.3f}, y={:.3f}\".format(float(s[x]), float(s[y])))\n"
   ]
  },
  {
   "cell_type": "markdown",
   "metadata": {},
   "source": [
    "## Ejercicio 10"
   ]
  },
  {
   "cell_type": "markdown",
   "metadata": {},
   "source": [
    "Se requiere crear un programa para encriptar un mensaje. La lógica es la siguiente: el mensaje original será transformado moviendo las posiciones de los caracteres en base a la lista numérica provista. <strong>Por ejemplo</strong>: <br>\n",
    "\n",
    "Frase: esta es una frase nueva <br>\n",
    "pad: 8432 <br>\n",
    "salida: mwwc iv crd nvdum qwmzd<br>\n",
    "\n",
    "Analizando la salida: <br>\n",
    "m -> e movido 8 posiciones <br>\n",
    "w -> s movido 4 posiciones <br>\n",
    "w -> t movido 3 posiciones  <br>\n",
    "c -> a movido 2 posiciones  <br>\n",
    "\" \" -> los caracteres vacíos no se transforman  <br>\n",
    "i -> e movido 8 posiciones <br>\n",
    "v -> s movido 4 posiciones <br>\n",
    "\n",
    "Entonces, pad es una secuencia con números que se reutiliza para el proceso. Además, las posiciones del alfabeto pueden verse como circulares; es decir, si se debe mover z dos posiciones, el resultado será b\n",
    "Ayuda: El siguiente código genera una lista con los caracteres de la a-z:\n",
    "\n",
    "`list(map(chr, range(97, 123)))  # [‘a’, ‘b’, ‘c’, …, ‘x’, ‘y’, ‘z’]`\n"
   ]
  },
  {
   "cell_type": "markdown",
   "metadata": {},
   "source": [
    "Para ayudar a la correcta solución de este problema, considerando que debe funcionar para distintas frases y pads (distintos números y extensión), se genera, a continuación, una estructura de programa que deberá ser implementada por los estudiantes.  Para su correcta implementación, lea cuidasoamente los comentarios donde explica que parte de la lógica debe ser implementada en los bloques de programa. Además, las definiciones de funciones no deben ser cambiadas (nombres, parámetros de entrada y salida).\n",
    "\n",
    "Inicialmente, generar una función que devuelva 2 diccionarios: (1) diccionario donde cada clave sea un número y los valores sean los caracteres ({0: 'a',  1: 'b',  2: 'c', ..., 25: 'z'}); (2) diccionario donde cada clave sea un caracter y los valores sean etiquetas numéricas ({'a': 0, 'b': 1, 'c': 2, ..., 'z': 25})"
   ]
  },
  {
   "cell_type": "code",
   "execution_count": 31,
   "metadata": {},
   "outputs": [],
   "source": [
    "# Implemente el código a continuación\n",
    "\n",
    "def generar_alfabetos():\n",
    "    \"\"\"\n",
    "    Genera dos diccionarios que contienen asociaciones entre caracteres y números.\n",
    "\n",
    "    :return:\n",
    "    a_n : dict\n",
    "      diccionario donde cada clave numérica se asocia a un caracter\n",
    "\n",
    "    a_c : dict\n",
    "      diccionario donde cada clave es un caracter que se asocia a un número\n",
    "    \"\"\"\n",
    "    a_c = dict()\n",
    "    a_n = dict()   \n",
    "    \n",
    "    # usar list(map(chr, range(97, 123))) para generar la secuenca de caracteres y llenar los valores correspondientes\n",
    "    # para `a_c` y `a_n`\n",
    "\n",
    "    return a_n, a_c"
   ]
  },
  {
   "cell_type": "markdown",
   "metadata": {},
   "source": [
    "Implemente la función `nuevo_caracter` que dado un caracter de entrada, determina que caracter es el corresopondiente en el proceso de encriptación.  Revise cuidadosamente los parámetros de entrada que esta función debe tener. Adicionalmente, esta función debe retornar un caracter, que representa el caracter encriptado."
   ]
  },
  {
   "cell_type": "code",
   "execution_count": null,
   "metadata": {},
   "outputs": [],
   "source": [
    "# Implemente el código a continuación\n",
    "\n",
    "def nuevo_caracter(car, offset, a_c, a_n):\n",
    "    \"\"\"\n",
    "    Determina un nuevo caracter en base al caracter actual y su offset\n",
    "\n",
    "    :param car: str, caracter actual\n",
    "    :param offset: int, offset para calcular el nuevo caracter\n",
    "    :param a_c: diccionario con letras y números\n",
    "    :param a_n: diccionario con números y letras\n",
    "\n",
    "    :return:\n",
    "     char_encriptado : str\n",
    "       nuevo caracter producto de la encriptación\n",
    "    \"\"\"\n",
    "    char_encriptado = \"\"  # caracter resultante de la encriptación\n",
    "    \n",
    "    # Implemente el código necesario para obtener un caracter encriptado, teniendo en cuenta el caracter original \n",
    "    # y su offset (pad). Para ello, haga uso de los diccionarios generados en la función anterior que vienen como \n",
    "    # parámetros de entrada en esta función\n",
    "\n",
    "    return char_encriptado"
   ]
  },
  {
   "cell_type": "markdown",
   "metadata": {},
   "source": [
    "Implemente la función `encripta_frase` que retorna un string con la frase original encriptada. Revise cuidadosamente los parámetros de entrada de esta función. Implemente el código necesario para que esta función retorne un string con la frase encriptada tomando en cuenta el `pad` provisto como parámetro."
   ]
  },
  {
   "cell_type": "code",
   "execution_count": null,
   "metadata": {},
   "outputs": [],
   "source": [
    "# Implemente el código a continuación\n",
    "\n",
    "def encripta_frase(frase, pad):\n",
    "    \"\"\"\n",
    "    Devuelve una frase encriptada basándose en un pad (secuencia de números)\n",
    "\n",
    "    :param frase: str, frase original\n",
    "    :param pad: int, secuencia de números que serán usados para calcular los offsets de los caracteres\n",
    "\n",
    "    :return:\n",
    "    \"\".join(s) : str\n",
    "      frase codificada\n",
    "    \"\"\"\n",
    "    # los alfabetos son generados\n",
    "    alfabeto_n, alfabeto_c = generar_alfabetos()\n",
    "    \n",
    "    frase_encriptada = \"\"  # frase resultante del proceso de encriptación\n",
    "\n",
    "    # el pad es transformado a una lista de números\n",
    "    pl = [int(c) for c in str(pad)]\n",
    "\n",
    "    # recorra los elementos de la `frase` (solo la frase, ningún alfabeto!) y calcule el respectivo pad para cada\n",
    "    # iteración. Luego llame a la función `nuevo_caracter` para que, para cada caracter de la frase, retorne su \n",
    "    # respectivo caracter encriptado.  Cada caracter generado, vaya concatenando en la variable `frase_encriptada` y\n",
    "    # retórnela\n",
    "\n",
    "    return frase_encriptada"
   ]
  },
  {
   "cell_type": "markdown",
   "metadata": {},
   "source": [
    "Finalmente, el bloque principal del programa. En esta sección puede cambiar las frases y el valor del pad para probar su código. Recuerde, su código debe funcionar para distintas frases y padas."
   ]
  },
  {
   "cell_type": "code",
   "execution_count": null,
   "metadata": {},
   "outputs": [],
   "source": [
    "# datos de entrada\n",
    "frase = \"esta es una frase nueva\"\n",
    "pad = 8432\n",
    "\n",
    "# se computa la salida y se muestra\n",
    "salida = encripta_frase(frase, pad)\n",
    "print(salida)"
   ]
  },
  {
   "cell_type": "markdown",
   "metadata": {},
   "source": [
    "Si bien existen distintas formas de resolver este problema, la forma propuesta es bastante correcta ya que parte un problema \"aparentemente\" complejo en sub-problemas de menor complejidad (para eso sirven las funciones!). "
   ]
  },
  {
   "cell_type": "code",
   "execution_count": 33,
   "metadata": {},
   "outputs": [
    {
     "name": "stdout",
     "output_type": "stream",
     "text": [
      "mwwc iv crd nvdum qwmzd\n"
     ]
    }
   ],
   "source": [
    "def generar_alfabetos():\n",
    "    \"\"\"\n",
    "    Genera dos diccionarios que contienen asociaciones entre caracteres y números.\n",
    "\n",
    "    :return:\n",
    "    a_n : dict\n",
    "      diccionario donde cada clave numérica se asocia a un caracter\n",
    "\n",
    "    a_c : dict\n",
    "      diccionario donde cada clave es un caracter que se asocia a un número\n",
    "    \"\"\"\n",
    "    a_c = dict()\n",
    "    a_n = dict()\n",
    "\n",
    "    # se generan los caracteres de la a-z\n",
    "    for i, l in enumerate(list(map(chr, range(97, 123)))):\n",
    "        a_n[i] = l\n",
    "        a_c[l] = i\n",
    "\n",
    "    return a_n, a_c\n",
    "\n",
    "\n",
    "def nuevo_caracter(car, offset, a_c, a_n):\n",
    "    \"\"\"\n",
    "    Determina un nuevo caracter en base al caracter actual y su offset\n",
    "\n",
    "    :param car: str, caracter actual\n",
    "    :param offset: int, offset para calcular el nuevo caracter\n",
    "    :param a_c: diccionario con letras y números\n",
    "    :param a_n: diccionario con números y letras\n",
    "\n",
    "    :return:\n",
    "     a_n[nueva_pos] : str\n",
    "       nuevo caracter producto de la encriptación\n",
    "    \"\"\"\n",
    "    # si el caracter actual no se encuentra en la lista de caracteres validos, se devuelve un espacio vacío\n",
    "    if car not in a_c:\n",
    "        return \" \"\n",
    "\n",
    "    pos_car = a_c[car]  # posición del caracter actual\n",
    "    nueva_pos = pos_car + offset  # nueva posición en base al offset\n",
    "\n",
    "    # si la nueva posición va más allá de los caracteres actuales se comienza de nuevo\n",
    "    if nueva_pos > len(a_c.values())-1:\n",
    "        nueva_pos = nueva_pos - len(a_c.values())\n",
    "\n",
    "    return a_n[nueva_pos]\n",
    "\n",
    "\n",
    "def encripta_frase(frase, pad):\n",
    "    \"\"\"\n",
    "    Devuelve una frase encriptada basándose en un pad (secuencia de números)\n",
    "\n",
    "    :param frase: str, frase original\n",
    "    :param pad: int, secuencia de números que serán usados para calcular los offsets de los caracteres\n",
    "\n",
    "    :return:\n",
    "    \"\".join(s) : str\n",
    "      frase codificada\n",
    "    \"\"\"\n",
    "    # los alfabetos son generados\n",
    "    alfabeto_n, alfabeto_c = generar_alfabetos()\n",
    "\n",
    "    # el pad es transformado a una lista de números\n",
    "    pl = [int(c) for c in str(pad)]\n",
    "    i_a = 0  # apuntador al número actual del pad\n",
    "\n",
    "    s = []  # acumulador para la salida\n",
    "    for f in frase:  # se recorre la frase original caracter a caracter\n",
    "        s.append(nuevo_caracter(f, pl[i_a], alfabeto_c, alfabeto_n))  # se determina el nuevo caracter\n",
    "\n",
    "        # se actualiza la posición del índice del dígito del pad\n",
    "        i_a = i_a + 1 if i_a < len(pl)-1 else 0\n",
    "\n",
    "    return \"\".join(s)\n",
    "\n",
    "\n",
    "# datos de entrada\n",
    "frase = \"esta es una frase nueva\"\n",
    "pad = 8432\n",
    "\n",
    "# se computa la salida y se muestra\n",
    "salida = encripta_frase(frase, pad)\n",
    "print(salida)\n"
   ]
  }
 ],
 "metadata": {
  "kernelspec": {
   "display_name": "Python 3",
   "language": "python",
   "name": "python3"
  },
  "language_info": {
   "codemirror_mode": {
    "name": "ipython",
    "version": 3
   },
   "file_extension": ".py",
   "mimetype": "text/x-python",
   "name": "python",
   "nbconvert_exporter": "python",
   "pygments_lexer": "ipython3",
   "version": "3.7.3"
  },
  "widgets": {
   "application/vnd.jupyter.widget-state+json": {
    "state": {},
    "version_major": 2,
    "version_minor": 0
   }
  }
 },
 "nbformat": 4,
 "nbformat_minor": 4
}
