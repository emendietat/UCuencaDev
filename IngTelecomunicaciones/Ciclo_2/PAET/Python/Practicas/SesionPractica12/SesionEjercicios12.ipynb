{
 "cells": [
  {
   "cell_type": "markdown",
   "metadata": {},
   "source": [
    "# Sesión de ejercicios 12"
   ]
  },
  {
   "cell_type": "markdown",
   "metadata": {},
   "source": [
    "El objetivo de esta sesión de ejercicios es que el alumno aplique conceptos de programación defensiva a la implementación de sus programas. La programación defensiva promueve la idea de que el código puede fallar, y que una vez que falle, hay que tratar de capturar los posibles errores para que no se propaguen por el código.  Además, el alumno practicará una habilidad clave para los programadores: debugging"
   ]
  },
  {
   "cell_type": "markdown",
   "metadata": {},
   "source": [
    "## Ejercicio 1"
   ]
  },
  {
   "cell_type": "markdown",
   "metadata": {},
   "source": [
    "Se requiere construir un programa que encuentre las raíces de una función del tipo $ax^2 + bx + c = 0$. Los valores de los coeficientes: $a, b, c$ serán estáticos y puestos manualmente en el código. Para este ejercicio, crear una función `calcula_raiz(a, b, c)` y colocar los `assert` necesarios al inicio de la función para validar las entradas.\n",
    "\n",
    "Nota: se debe validar que las entradas sean numéricas\n"
   ]
  },
  {
   "cell_type": "code",
   "execution_count": 4,
   "metadata": {},
   "outputs": [
    {
     "name": "stdout",
     "output_type": "stream",
     "text": [
      "\n",
      "Raíz N°1: -3.7122148275375366, Raíz N°2: 1.2122148275375366\n",
      "\n"
     ]
    }
   ],
   "source": [
    "from scipy.optimize import bisect\n",
    "import numpy as np\n",
    "\n",
    "\n",
    "def calcula_raiz(a, b, c):\n",
    "    '''Calcula las raices de una funcion cuadrática con coeficientes y termino independiente dados por el usuario.\n",
    "    PARAMS\n",
    "    ------\n",
    "    a : int\n",
    "        coeficiente numérico de x^2.\n",
    "    b : int\n",
    "        coeficiente numérico de x.\n",
    "    c : int \n",
    "        Término independiente.\n",
    "    RETURN\n",
    "    ------\n",
    "    x1 : float\n",
    "        raíz en el intervalo -10 y 0.\n",
    "    x2 : float\n",
    "        raíz en el intervalo 0 y 10.\n",
    "    '''\n",
    "    # Evaluamos que los parametros sean de tipo entero.\n",
    "    assert type(a) == int and type(b) == int and type(c) == int\n",
    "    # Evaluamos que los coeficientes sean diferentes de cero.\n",
    "    assert a != 0 and b != 0\n",
    "\n",
    "    # Funcion cuadrática\n",
    "    f = lambda x: a*x**2 + b*x + c\n",
    "\n",
    "    # Calcula las raices de la función en los intervalos (-10,0), (0,10)\n",
    "    x1 = bisect(f, -10, 0, xtol=1e-6)\n",
    "    x2 = bisect(f, 0, 10, xtol=1e-6)\n",
    "\n",
    "    return x1, x2\n",
    "\n",
    "\n",
    "def main():\n",
    "    raiz1, raiz2 = calcula_raiz(2, 5, -9)\n",
    "    print(f'\\nRaíz N°1: {raiz1}, Raíz N°2: {raiz2}\\n')\n",
    "\n",
    "\n",
    "if __name__ == '__main__':\n",
    "    main()"
   ]
  },
  {
   "cell_type": "markdown",
   "metadata": {},
   "source": [
    "## Ejercicio 2"
   ]
  },
  {
   "cell_type": "markdown",
   "metadata": {},
   "source": [
    "Tomando como base el ejercicio anterior, crear una función `test_calcula_raiz()` donde se deberán crear varios casos de prueba para asegurar que los resultados de la función `calcula_raiz` sean correctos"
   ]
  },
  {
   "cell_type": "code",
   "execution_count": 6,
   "metadata": {},
   "outputs": [
    {
     "ename": "AssertionError",
     "evalue": "",
     "output_type": "error",
     "traceback": [
      "\u001b[0;31m---------------------------------------------------------------------------\u001b[0m",
      "\u001b[0;31mAssertionError\u001b[0m                            Traceback (most recent call last)",
      "\u001b[1;32m/home/chriss/Documentos/UCuenca/RepoPAET/PythonBasico/Practicas/SesionPractica13/SesionEjercicios13.ipynb Cell 8'\u001b[0m in \u001b[0;36m<cell line: 18>\u001b[0;34m()\u001b[0m\n\u001b[1;32m     <a href='vscode-notebook-cell:/home/chriss/Documentos/UCuenca/RepoPAET/PythonBasico/Practicas/SesionPractica13/SesionEjercicios13.ipynb#ch0000007?line=14'>15</a>\u001b[0m     test_calcula_raiz()\n\u001b[1;32m     <a href='vscode-notebook-cell:/home/chriss/Documentos/UCuenca/RepoPAET/PythonBasico/Practicas/SesionPractica13/SesionEjercicios13.ipynb#ch0000007?line=17'>18</a>\u001b[0m \u001b[39mif\u001b[39;00m \u001b[39m__name__\u001b[39m \u001b[39m==\u001b[39m \u001b[39m'\u001b[39m\u001b[39m__main__\u001b[39m\u001b[39m'\u001b[39m:\n\u001b[0;32m---> <a href='vscode-notebook-cell:/home/chriss/Documentos/UCuenca/RepoPAET/PythonBasico/Practicas/SesionPractica13/SesionEjercicios13.ipynb#ch0000007?line=18'>19</a>\u001b[0m     main()\n",
      "\u001b[1;32m/home/chriss/Documentos/UCuenca/RepoPAET/PythonBasico/Practicas/SesionPractica13/SesionEjercicios13.ipynb Cell 8'\u001b[0m in \u001b[0;36mmain\u001b[0;34m()\u001b[0m\n\u001b[1;32m     <a href='vscode-notebook-cell:/home/chriss/Documentos/UCuenca/RepoPAET/PythonBasico/Practicas/SesionPractica13/SesionEjercicios13.ipynb#ch0000007?line=13'>14</a>\u001b[0m \u001b[39mdef\u001b[39;00m \u001b[39mmain\u001b[39m():\n\u001b[0;32m---> <a href='vscode-notebook-cell:/home/chriss/Documentos/UCuenca/RepoPAET/PythonBasico/Practicas/SesionPractica13/SesionEjercicios13.ipynb#ch0000007?line=14'>15</a>\u001b[0m     test_calcula_raiz()\n",
      "\u001b[1;32m/home/chriss/Documentos/UCuenca/RepoPAET/PythonBasico/Practicas/SesionPractica13/SesionEjercicios13.ipynb Cell 8'\u001b[0m in \u001b[0;36mtest_calcula_raiz\u001b[0;34m()\u001b[0m\n\u001b[1;32m      <a href='vscode-notebook-cell:/home/chriss/Documentos/UCuenca/RepoPAET/PythonBasico/Practicas/SesionPractica13/SesionEjercicios13.ipynb#ch0000007?line=6'>7</a>\u001b[0m \u001b[39massert\u001b[39;00m calcula_raiz(\u001b[39m1\u001b[39m, \u001b[39m-\u001b[39m\u001b[39m9\u001b[39m, \u001b[39m0\u001b[39m)\n\u001b[1;32m      <a href='vscode-notebook-cell:/home/chriss/Documentos/UCuenca/RepoPAET/PythonBasico/Practicas/SesionPractica13/SesionEjercicios13.ipynb#ch0000007?line=8'>9</a>\u001b[0m \u001b[39m#Valores de prueba que producen un error en la función\u001b[39;00m\n\u001b[0;32m---> <a href='vscode-notebook-cell:/home/chriss/Documentos/UCuenca/RepoPAET/PythonBasico/Practicas/SesionPractica13/SesionEjercicios13.ipynb#ch0000007?line=9'>10</a>\u001b[0m \u001b[39massert\u001b[39;00m calcula_raiz(\u001b[39m9\u001b[39;49m, \u001b[39m0\u001b[39;49m,\u001b[39m10\u001b[39;49m)\n\u001b[1;32m     <a href='vscode-notebook-cell:/home/chriss/Documentos/UCuenca/RepoPAET/PythonBasico/Practicas/SesionPractica13/SesionEjercicios13.ipynb#ch0000007?line=10'>11</a>\u001b[0m \u001b[39massert\u001b[39;00m calcula_raiz(\u001b[39m0\u001b[39m, \u001b[39m-\u001b[39m\u001b[39m10\u001b[39m, \u001b[39m25\u001b[39m)\n",
      "\u001b[1;32m/home/chriss/Documentos/UCuenca/RepoPAET/PythonBasico/Practicas/SesionPractica13/SesionEjercicios13.ipynb Cell 5'\u001b[0m in \u001b[0;36mcalcula_raiz\u001b[0;34m(a, b, c)\u001b[0m\n\u001b[1;32m     <a href='vscode-notebook-cell:/home/chriss/Documentos/UCuenca/RepoPAET/PythonBasico/Practicas/SesionPractica13/SesionEjercicios13.ipynb#ch0000004?line=23'>24</a>\u001b[0m \u001b[39massert\u001b[39;00m \u001b[39mtype\u001b[39m(a) \u001b[39m==\u001b[39m \u001b[39mint\u001b[39m \u001b[39mand\u001b[39;00m \u001b[39mtype\u001b[39m(b) \u001b[39m==\u001b[39m \u001b[39mint\u001b[39m \u001b[39mand\u001b[39;00m \u001b[39mtype\u001b[39m(c) \u001b[39m==\u001b[39m \u001b[39mint\u001b[39m\n\u001b[1;32m     <a href='vscode-notebook-cell:/home/chriss/Documentos/UCuenca/RepoPAET/PythonBasico/Practicas/SesionPractica13/SesionEjercicios13.ipynb#ch0000004?line=24'>25</a>\u001b[0m \u001b[39m# Evaluamos que los coeficientes sean diferentes de cero.\u001b[39;00m\n\u001b[0;32m---> <a href='vscode-notebook-cell:/home/chriss/Documentos/UCuenca/RepoPAET/PythonBasico/Practicas/SesionPractica13/SesionEjercicios13.ipynb#ch0000004?line=25'>26</a>\u001b[0m \u001b[39massert\u001b[39;00m a \u001b[39m!=\u001b[39m \u001b[39m0\u001b[39m \u001b[39mand\u001b[39;00m b \u001b[39m!=\u001b[39m \u001b[39m0\u001b[39m\n\u001b[1;32m     <a href='vscode-notebook-cell:/home/chriss/Documentos/UCuenca/RepoPAET/PythonBasico/Practicas/SesionPractica13/SesionEjercicios13.ipynb#ch0000004?line=27'>28</a>\u001b[0m \u001b[39m# Funcion cuadrática\u001b[39;00m\n\u001b[1;32m     <a href='vscode-notebook-cell:/home/chriss/Documentos/UCuenca/RepoPAET/PythonBasico/Practicas/SesionPractica13/SesionEjercicios13.ipynb#ch0000004?line=28'>29</a>\u001b[0m f \u001b[39m=\u001b[39m \u001b[39mlambda\u001b[39;00m x: a\u001b[39m*\u001b[39mx\u001b[39m*\u001b[39m\u001b[39m*\u001b[39m\u001b[39m2\u001b[39m \u001b[39m+\u001b[39m b\u001b[39m*\u001b[39mx \u001b[39m+\u001b[39m c\n",
      "\u001b[0;31mAssertionError\u001b[0m: "
     ]
    }
   ],
   "source": [
    "def test_calcula_raiz():\n",
    "    #Valores de prueba que no producen un error en la función\n",
    "    assert calcula_raiz(1, 5,-2)\n",
    "    assert calcula_raiz(-2, 5, 4)\n",
    "    assert calcula_raiz(2, -3, -4)\n",
    "    assert calcula_raiz(-2, -5, 4)\n",
    "    assert calcula_raiz(1, -9, 0)\n",
    "\n",
    "    #Valores de prueba que producen un error en la función\n",
    "    assert calcula_raiz(9, 0,10)\n",
    "    assert calcula_raiz(0, -10, 25)\n",
    "\n",
    "\n",
    "def main():\n",
    "    test_calcula_raiz()\n",
    "\n",
    "\n",
    "if __name__ == '__main__':\n",
    "    main()"
   ]
  },
  {
   "cell_type": "markdown",
   "metadata": {},
   "source": [
    "## Ejercicio 3"
   ]
  },
  {
   "cell_type": "markdown",
   "metadata": {},
   "source": [
    "Cree y pruebe una función que convierta una fecha en formato MM/DD/YYYY a DDMMYYYY\n",
    "\n",
    "Ejemplos: <br>\n",
    "Entrada: 12/07/1971 <br>\n",
    "Salida: 07121971 <br>\n",
    "\n",
    "La implementación deberá tener en cuenta que los valores de meses, días, años son numéricos, mayores a 0, y deben ser válidos. Por ejemplo, no existe un més 13, ni un día 30 si es Febrero. Además, se deberá tener cuenta si el año es biciesto para determinar los valores posibles para Febrero.\n",
    "\n",
    "Nota: si el mes o día de entrada tienen la forma 0x, donde $x$ es un entero, la fecha transformada deberá mantener esta forma, e.j. si día es 07, el día transformado también deberá ser 07 y no 7"
   ]
  },
  {
   "cell_type": "code",
   "execution_count": 2,
   "metadata": {},
   "outputs": [
    {
     "name": "stdout",
     "output_type": "stream",
     "text": [
      "\n",
      "Salida: 29022000.\n",
      "\n"
     ]
    }
   ],
   "source": [
    "def es_bisiesto(anio):\n",
    "    '''Verifica si un año es bisiesto.\n",
    "    PARAMS\n",
    "    ------\n",
    "    anio : int\n",
    "        año que se desea verificar.\n",
    "    RETURN\n",
    "    ------\n",
    "    bisiesto : bool\n",
    "        True si es bisiesto caso contrario False.\n",
    "    '''\n",
    "    assert type(anio) == int\n",
    "    bisiesto = False\n",
    "    if anio % 4 == 0:\n",
    "        if anio % 100 == 0:\n",
    "            bisiesto = True if anio % 400 == 0 else False\n",
    "        else:\n",
    "            bisiesto = True\n",
    "    return bisiesto\n",
    "\n",
    "\n",
    "def get_num_dias_mes(mes, anio):\n",
    "    '''Retorna el número total de dias que posee un mes dependiendo del año.\n",
    "    PARAMS\n",
    "    ------\n",
    "    mes : int \n",
    "        mes del cual se dea obtener el número de dias.\n",
    "    anio : int\n",
    "        año al cual pertenece el mes.\n",
    "    RETURN\n",
    "    ------\n",
    "    key : int\n",
    "        número de días que posee el mes.\n",
    "    '''\n",
    "    assert type(mes) == int and type(anio) == int\n",
    "    assert 0 < mes <= 12\n",
    "    # Meses clasificados de acuerdo al número de dias.\n",
    "    categorias_meses = {\n",
    "        29 if es_bisiesto(anio) else 28 : [2],\n",
    "        30 : [4, 6, 9, 11],\n",
    "        31 : [1, 3, 5, 7, 8, 10, 12]\n",
    "    }\n",
    "    for key, value in categorias_meses.items():\n",
    "        if mes in value:\n",
    "            return key\n",
    "\n",
    "\n",
    "def convertir_fecha(fecha):\n",
    "    '''Transforma una fecha con formato MM/DD/YYYY al formato DDMMYYYY, la fecha debe existir en el calendario.\n",
    "    PARAMS\n",
    "    ------\n",
    "    fecha : str\n",
    "        fecha que se desea cambia el formato.\n",
    "    RETURN\n",
    "    ------\n",
    "    fecha : str\n",
    "        fecha con el nuevo formato.\n",
    "    '''\n",
    "    # Validación de formato de entrada.\n",
    "    assert type(fecha) == str and len(fecha) == 10\n",
    "    assert fecha.count('/') == 2\n",
    "\n",
    "    mes, dia, anio = fecha[0:2], fecha[3:5], fecha[6:]\n",
    "    \n",
    "    # Validación de tipo de dato y rango del día de acuerdo al mes.\n",
    "    assert dia.isdigit() and mes.isdigit() and anio.isdigit()\n",
    "    assert 0 < int(dia) <= get_num_dias_mes(int(mes), int(anio))\n",
    "\n",
    "    fecha = dia+mes+anio\n",
    "    return fecha\n",
    "\n",
    "\n",
    "def main():\n",
    "    fecha = input('\\nIngrese una fecha con el formato \"MM/DD/YYYY\" (Ejm: 02/28/2000): ')\n",
    "    try:\n",
    "        print(f'\\nSalida: {convertir_fecha(fecha)}.\\n')\n",
    "    except AssertionError:\n",
    "        print('\\nOpss! ha ocurrido un error: La fecha no existe o el formato es incorrecto!\\n')\n",
    "\n",
    "\n",
    "if __name__ == '__main__':\n",
    "    main()"
   ]
  },
  {
   "cell_type": "markdown",
   "metadata": {},
   "source": [
    "## Ejercicio 4"
   ]
  },
  {
   "cell_type": "markdown",
   "metadata": {},
   "source": [
    "El volumen de una concha esférica es la diferencia entre el volumen de la esfera exterior y la esfera inferior. Su fórmula es la siguiente: $4/3 \\pi  (R^3 - r^3)$\n",
    "\n",
    "Crear una función que tome como parámetros dos arrays de numpy de tipo flotante (`R` y `r`), donde $R_i$ y $r_i$ son los valores de radio exterior e inferior para la esfera $i$. La función retornará un array de numpy con los valores de volumen calculados para todas las esferas $i$.\n",
    "\n",
    "Para este ejercicio deberá crear valores de prueba para $R$ y $r$ de forma aleatoria. La función que calcula el volumen deberá probar que los tipos de datos de entrada, i.e. $R$ y $r$, sean los correctos. También que ambos arrays tengan el mismo número de elementos. Adicionalmente, que $R_i > r_i, \\forall i$\n",
    "\n",
    "Cree una función para probar que su implementación funcione correctamente. Valores de prueba:\n",
    "\n",
    "- con R=3 y r=3, salida: 0\n",
    "- con R=7 y r=2, salida: ~1403.2447 \n",
    "\n",
    "<img src=\"figura1.png\">"
   ]
  },
  {
   "cell_type": "code",
   "execution_count": 19,
   "metadata": {},
   "outputs": [
    {
     "name": "stdout",
     "output_type": "stream",
     "text": [
      "\n",
      "Valores de prueba: [   0.     1403.2447]\n",
      "\n",
      "\n",
      "Volumenes: [ 5782.2488  5878.2436   413.7692  2522.5689 11081.2935]\n"
     ]
    }
   ],
   "source": [
    "import random\n",
    "import math\n",
    "\n",
    "# Calcula el volumen de la concha esferica de una esfera.\n",
    "volumen_concha_esferica = lambda R, r: 4/3 * math.pi * (math.pow(R, 3) - math.pow(r, 3))\n",
    "\n",
    "\n",
    "def calcular_volumenes(R, r):\n",
    "    '''Calcula el volumen de las conchas esfericas usando los radios pasados como parametros.\n",
    "    PARAMS\n",
    "    ------\n",
    "    R : numpy.ndarray\n",
    "        valores de radios exteriores de las esferas.\n",
    "    r : numpy.ndarray\n",
    "        valores de radios inferiores de las esferas.\n",
    "    RETURN\n",
    "    ------\n",
    "    volumenes : numpy.ndarray\n",
    "        array con los volumenes calculados.\n",
    "    '''\n",
    "    assert type(R) == np.ndarray and type(r) == np.ndarray\n",
    "    assert len(R) == len(r)\n",
    "    size = len(R)\n",
    "    volumenes = np.zeros(size)\n",
    "    for i in range(size):\n",
    "        assert type(R[i]) == np.float64 and type(r[i]) == np.float64\n",
    "        assert R[i] >= r[i]\n",
    "        volumenes[i] = round(volumen_concha_esferica(R[i], r[i]), 4)\n",
    "    return volumenes\n",
    "\n",
    "\n",
    "def test_calcular_volumenes():\n",
    "    '''Casos de prueba solicitados por el docente.\n",
    "    '''\n",
    "    volumenes = calcular_volumenes(np.array([3.0, 7.0]), np.array([3.0, 2.0]))\n",
    "    assert volumenes[0] == 0.0\n",
    "    assert volumenes[1] == 1403.2447\n",
    "\n",
    "    print(f'\\nValores de prueba: {volumenes}\\n')\n",
    "\n",
    "\n",
    "def main():\n",
    "    test_calcular_volumenes()\n",
    "\n",
    "    # Arrays con valores randoms de radios exteriores e interiores de un número 'size' de esferas.\n",
    "    size = random.randint(2, 20)\n",
    "    R = np.random.normal(10, 3, size)\n",
    "    r = np.random.normal(5, 3, size)\n",
    "    print(f'\\nVolumenes: {calcular_volumenes(R, r)}')\n",
    "\n",
    "\n",
    "if __name__ == '__main__':\n",
    "    main()"
   ]
  },
  {
   "cell_type": "markdown",
   "metadata": {},
   "source": [
    "## Ejercicio 5"
   ]
  },
  {
   "cell_type": "markdown",
   "metadata": {},
   "source": [
    "Cree un programa que pida al usuario una entrada del tipo `num1:num2:num3-coef1:coef2:coef3`, donde $num_i$ es un valor de tipo `int` y $coef_i$ es un número de tipo `float`.\n",
    "\n",
    "Para este ejercicio use el estamento `try ... except` y `asserts` para capturar posibles errores de formato. De existir algun problema en el tipo de datos, el programa pedirá nuevamente la entrada al usuario. De existir un error de entrada, se mostrará un mensaje adecuado al usuario indicando el posible error. Este proceso se repetirá hasta que la entrada provista por el usuario esté correcta. Finalmente, el programa mostrará $\\sum num_i coef_i$"
   ]
  },
  {
   "cell_type": "code",
   "execution_count": 20,
   "metadata": {},
   "outputs": [
    {
     "name": "stdout",
     "output_type": "stream",
     "text": [
      "\n",
      "Ingrese un conjunto de números que tengan el siguiente formato --> \n",
      "\n",
      "El formato es incorrecto, porfavor\n",
      "\n",
      "Ingrese un conjunto de números que tengan el siguiente formato --> \n",
      "\n",
      "La sumatoria es: 28.0\n",
      "\n"
     ]
    }
   ],
   "source": [
    "def get_sumatoria(patron):\n",
    "    '''convierte un patron num1:num2:num3-coef1:coef2:coef3 en numeros números enteros y flotantes donde \n",
    "       num(i) es un entero y coef(i) es un flotante, ambos positivos.\n",
    "    PARAM\n",
    "    -----\n",
    "    patron : str\n",
    "        patron qUe contiene listas de números enteros y flotantes separadaas por un guion.\n",
    "    RETURN\n",
    "    ------\n",
    "    sumatoria: float\n",
    "        sumatoria de num(i) * coef(i)\n",
    "    '''\n",
    "    # Validamos que el patron tenga un unico guion.\n",
    "    assert type(patron) == str and patron.count('-') == 1\n",
    "\n",
    "    # Separamos las listas y validamos que tengan la misma longitud.\n",
    "    listas = patron.split('-')\n",
    "    enteros = listas[0].split(':')\n",
    "    flotantes = listas[1].split(':')\n",
    "    assert len(enteros) == len(flotantes)\n",
    "\n",
    "    # Procedemos a transformar y realizar la operación de sumatoria.\n",
    "    sumatoria = 0\n",
    "    for i in range(len(enteros)):\n",
    "        num = int(enteros[i])\n",
    "        coef = float(flotantes[i])\n",
    "        sumatoria += num * coef\n",
    "\n",
    "    return sumatoria\n",
    "\n",
    "\n",
    "def main():\n",
    "   \n",
    "    while True:\n",
    "        print('\\nIngrese un conjunto de números que tengan el siguiente formato --> ')\n",
    "        entrada = input('\"num1:num2:num3-coef1:coef2:coef3\"(Ejm 4:5:10-4.5:3.4:0.0): ')\n",
    "        try:\n",
    "            print(f'\\nLa sumatoria es: {get_sumatoria(entrada)}\\n')\n",
    "            break\n",
    "        except AssertionError:\n",
    "            print('\\nEl formato es incorrecto, porfavor')\n",
    "        except ValueError:\n",
    "            print('\\nCada uno de los num(i) y coef(i) deben ser numericos, por favor')\n",
    "\n",
    "\n",
    "if __name__ == '__main__':\n",
    "    main()"
   ]
  },
  {
   "cell_type": "markdown",
   "metadata": {},
   "source": [
    "## Ejercicio 6"
   ]
  },
  {
   "cell_type": "markdown",
   "metadata": {},
   "source": [
    "Este ejercicio tiene por objetivo que el estudiante practique en sus habilidades de diseño de programas.Para un correcto diseño de programas se deben seguir los siugientes lineamientos:\n",
    "\n",
    "1) Especificar el conjunto de funciones a usar. Por cada función se debe establecer:\n",
    "- El nombre de la función\n",
    "- El docstring de cada función (entradas, salidas, tipos de datos, descripción)\n",
    "\n",
    "2) Bosquejar la implementación de la función. Se puede usar lenguaje natural para describir que se va a implementar\n"
   ]
  },
  {
   "cell_type": "markdown",
   "metadata": {},
   "source": [
    "La funcionalidad a implementar es la siguiente: Se requiere un programa que lea un archivo de texto (`texto.txt`) y muestre los siguientes resultados:\n",
    "\n",
    "- El número de palabras en el archivo\n",
    "- Las 10 palabras más frecuentes en el texto\n",
    "- El número de veces que se repite una palabra\n",
    "\n",
    "El programa pedirá al usuario que ingrese el nombre del archivo y la palabra a buscar.  Adicionalmente, el programa deberá tener todas las características de programación defensiva (correcto uso de `try ... except` y `asserts`)\n",
    "\n",
    "Nota: debe tener en cuenta todas las posibles fallas que podría haber en el programa, e.j. el archivo no existe, se ingresó una palabra vacía, se ingresó un número negativo para palabras frecuentes, etc.  De encontrarse un error, el programa deberá parar su ejecución mostrando un mensaje entendible para el usuario."
   ]
  },
  {
   "cell_type": "code",
   "execution_count": 6,
   "metadata": {},
   "outputs": [],
   "source": []
  }
 ],
 "metadata": {
  "kernelspec": {
   "display_name": "Python 3.10.4 ('PAET')",
   "language": "python",
   "name": "python3"
  },
  "language_info": {
   "codemirror_mode": {
    "name": "ipython",
    "version": 3
   },
   "file_extension": ".py",
   "mimetype": "text/x-python",
   "name": "python",
   "nbconvert_exporter": "python",
   "pygments_lexer": "ipython3",
   "version": "3.10.4"
  },
  "vscode": {
   "interpreter": {
    "hash": "adc7ddfa3e44c493c99c47e33636c8438f9539d6c750715d71ccdd411be8abce"
   }
  },
  "widgets": {
   "application/vnd.jupyter.widget-state+json": {
    "state": {},
    "version_major": 2,
    "version_minor": 0
   }
  }
 },
 "nbformat": 4,
 "nbformat_minor": 4
}
