{
 "cells": [
  {
   "cell_type": "markdown",
   "metadata": {},
   "source": [
    "# Sesión de Ejercicios 2"
   ]
  },
  {
   "cell_type": "markdown",
   "metadata": {},
   "source": [
    "En esta sesión de ejercicios, el estudiante se familizará con los conceptos de operadores y condicionales. Así mismo, al final de la sesión, el estudiante podrá utilizar conjuntamente condicionales usando operadores lógicos.\n",
    "\n",
    "Durante todas las sesiones de ejercicios, <strong>se deberán formar grupos de 2 estudiantes </strong>.\n",
    "\n",
    "Al terminar los ejercicios, guardar el archivo de la siguiene manera: Si nombre es Juan Perez Mendieta y su compañero es Pedro Perlaza Alvarez, su archivo deberá ser nombrado como PerezM_PerlazaA.ipynb"
   ]
  },
  {
   "cell_type": "markdown",
   "metadata": {},
   "source": [
    "## Usando operadores"
   ]
  },
  {
   "cell_type": "markdown",
   "metadata": {},
   "source": [
    "Primero, los operadores matemáticos. Ejecute la celda de comandos y revise los resultados."
   ]
  },
  {
   "cell_type": "code",
   "execution_count": 1,
   "metadata": {},
   "outputs": [
    {
     "name": "stdout",
     "output_type": "stream",
     "text": [
      "40\n",
      "20\n",
      "300\n",
      "0\n",
      "0\n",
      "1\n",
      "27000\n",
      "3\n"
     ]
    }
   ],
   "source": [
    "a = 30\n",
    "b = 10\n",
    "\n",
    "print(a + b)\n",
    "print(a - b)\n",
    "print(a * b)\n",
    "print(a % 2)\n",
    "print(a % 3)\n",
    "print(b % 3)\n",
    "print(a**3)\n",
    "print(a // b)"
   ]
  },
  {
   "cell_type": "markdown",
   "metadata": {},
   "source": [
    "Los operadores lógicos de comparación retornan siempre valores lógicos, i.e. True o False. <br>\n",
    "Ejecutar la siguiente celda de comandos y revisar los resultados."
   ]
  },
  {
   "cell_type": "code",
   "execution_count": 2,
   "metadata": {},
   "outputs": [
    {
     "name": "stdout",
     "output_type": "stream",
     "text": [
      "False\n",
      "True\n",
      "True\n",
      "False\n"
     ]
    }
   ],
   "source": [
    "a = 30\n",
    "b = 10\n",
    "\n",
    "print(a == b)\n",
    "print(a != b)\n",
    "print(a > b)\n",
    "print(a < b)"
   ]
  },
  {
   "cell_type": "markdown",
   "metadata": {},
   "source": [
    "También se pueden ejecutar varias comparaciones a la vez, a través de otros operadores como ´and´, ´or´, o ´not´ <br>\n",
    "Ejecutar la siguiente celda y revisar los resultados."
   ]
  },
  {
   "cell_type": "code",
   "execution_count": 3,
   "metadata": {},
   "outputs": [
    {
     "name": "stdout",
     "output_type": "stream",
     "text": [
      "False\n",
      "True\n",
      "True\n",
      "True\n"
     ]
    }
   ],
   "source": [
    "a = 30\n",
    "b = 10\n",
    "\n",
    "print(a == b and a > b)\n",
    "print(a == b or a > b)\n",
    "print(not a == b)\n",
    "print(a != b and a > b and a > 0)  # se pueden tener tantos operadores como sean necesarios"
   ]
  },
  {
   "cell_type": "markdown",
   "metadata": {},
   "source": [
    "En Python, se pueden leer valores desde el teclado mediante el comando input(). A continuación un ejemplo:"
   ]
  },
  {
   "cell_type": "code",
   "execution_count": 4,
   "metadata": {},
   "outputs": [
    {
     "name": "stdout",
     "output_type": "stream",
     "text": [
      "Ingrese el valor para a6\n",
      "El valor de a es  6\n"
     ]
    }
   ],
   "source": [
    "a = int(input(\"Ingrese el valor para a\"))  # la función int, es usada para cambiar el tipo de dato ingresado a entero\n",
    "print(\"El valor de a es \", a)"
   ]
  },
  {
   "cell_type": "markdown",
   "metadata": {},
   "source": [
    "Por defecto, input() retorna un valor del tipo ´str´. Muchas veces se requiere de un valor entero, para ello se utiliza la función int(). Esta transforma el valor ingresado en un valor entero"
   ]
  },
  {
   "cell_type": "markdown",
   "metadata": {},
   "source": [
    "### Ejercicio 1"
   ]
  },
  {
   "cell_type": "markdown",
   "metadata": {},
   "source": [
    "Cree código de tal manera que 2 valores: $x$ y $y$ sean ingresados mediante el teclado. Realizar varias comparaciones lógicas y mostrar los resultados"
   ]
  },
  {
   "cell_type": "code",
   "execution_count": 1,
   "metadata": {},
   "outputs": [
    {
     "name": "stdout",
     "output_type": "stream",
     "text": [
      "\n",
      "Ingrese un número[x]: 5\n",
      "Ingrese otro número[y]: 6\n",
      "\n",
      "x > y:  False , x < y:  True .\n",
      "x >= y:  False , x <= y:  True .\n",
      "x == y:  False , x != y:  True .\n",
      "5 o 6 mayor a 10: False\n",
      "5 >= 0 y 6 <= 10: True.\n",
      "5 no es 6: True.\n",
      "\n"
     ]
    }
   ],
   "source": [
    "x = int(input('\\nIngrese un número[x]: '))\n",
    "y = int(input('Ingrese otro número[y]: '))\n",
    "\n",
    "# 1. Operaciones lógicas con las variables x e y.\n",
    "print('\\nx > y: ', x > y, ', x < y: ', x < y, '.')\n",
    "print('x >= y: ', x >= y, ', x <= y: ', x <= y, '.')\n",
    "print('x == y: ', x == y, ', x != y: ', x != y, '.')\n",
    "print(f'{x} o {y} mayor a 10: {x > 10 or y > 10}')\n",
    "print(f'{x} >= 0 y {y} <= 10: {x >= 0 and y <= 10}.')\n",
    "print(f'{x} no es {y}: {x is not y}.\\n')"
   ]
  },
  {
   "cell_type": "markdown",
   "metadata": {},
   "source": [
    "Lea 2 variables: $x$ y $y$ desde el teclado, realice varias operaciones matemáticas, y muestre los resultados"
   ]
  },
  {
   "cell_type": "code",
   "execution_count": 2,
   "metadata": {},
   "outputs": [
    {
     "name": "stdout",
     "output_type": "stream",
     "text": [
      "\n",
      "Ingrese un número[x]: 5\n",
      "Ingrese otro número[y]: 7\n",
      "5 // 7 = 0\n",
      "5 % 7 = 5\n",
      "5 + 7 - 7 ** 2 = -37\n",
      "(5 + 7) / (5 - 7) = -6.0\n",
      "(5 - 7)**2 = 4\n",
      "(5/7 + 5) - 7/5 = 4.314285714285715\n"
     ]
    }
   ],
   "source": [
    "x = int(input('\\nIngrese un número[x]: '))\n",
    "y = int(input('Ingrese otro número[y]: '))\n",
    "\n",
    "# 2. Operaciones matemáticas con x e y.\n",
    "print(f'{x} // {y} = {x // y}')\n",
    "print(f'{x} % {y} = {x % y}')\n",
    "print(f'{x} + {y} - {y} ** {2} = {x + y - y**2}')\n",
    "print(f'({x} + {y}) / ({x} - {y}) = {(x + y) / (x - y)}')\n",
    "print(f'({x} - {y})**2 = {(x - y)**2}')\n",
    "print(f'({x}/{y} + {x}) - {y}/{x} = {x/y + x - y/x}')"
   ]
  },
  {
   "cell_type": "markdown",
   "metadata": {},
   "source": [
    "## Manejo de condicionales"
   ]
  },
  {
   "cell_type": "markdown",
   "metadata": {},
   "source": [
    "Los estamentos condicionales son usados para redireccionar el flujo de programa dependiendo de una o varias condiciones que deben ser controladas. <br>\n",
    "Ejecute el siguiente código varias veces cambiando el valor ingresado y revisar los resultados"
   ]
  },
  {
   "cell_type": "code",
   "execution_count": 5,
   "metadata": {},
   "outputs": [
    {
     "name": "stdout",
     "output_type": "stream",
     "text": [
      "Ingrese un valor numérico5\n",
      "El valor ingresado es positivo\n"
     ]
    }
   ],
   "source": [
    "x = int(input(\"Ingrese un valor numérico\"))\n",
    "\n",
    "if x > 0:\n",
    "    print(\"El valor ingresado es positivo\")"
   ]
  },
  {
   "cell_type": "markdown",
   "metadata": {},
   "source": [
    "### Ejercicio 2"
   ]
  },
  {
   "cell_type": "markdown",
   "metadata": {},
   "source": [
    "Modifique el código anterior para que también muestre un mensaje cuando el valor ingresado sea 0"
   ]
  },
  {
   "cell_type": "code",
   "execution_count": 3,
   "metadata": {},
   "outputs": [
    {
     "name": "stdout",
     "output_type": "stream",
     "text": [
      "\n",
      "Ingrese un valor numérico: 0\n",
      "\n",
      "El valor ingresado es cero.\n",
      "\n"
     ]
    }
   ],
   "source": [
    "x = int(input(\"\\nIngrese un valor numérico: \"))\n",
    "\n",
    "# Validamos si x es positivo o cero.\n",
    "if x > 0:\n",
    "    print(\"\\nEl valor ingresado es positivo.\\n\")\n",
    "elif x == 0:\n",
    "    print(\"\\nEl valor ingresado es cero.\\n\")"
   ]
  },
  {
   "cell_type": "markdown",
   "metadata": {},
   "source": [
    "Ahora, extienda la funcionalidad de su código para que también muestre un mensaje indicando si el número ingresado fue negativo"
   ]
  },
  {
   "cell_type": "code",
   "execution_count": 4,
   "metadata": {},
   "outputs": [
    {
     "name": "stdout",
     "output_type": "stream",
     "text": [
      "\n",
      "Ingrese un valor numérico: -1\n",
      "\n",
      "El valor ingresado es negativo.\n",
      "\n"
     ]
    }
   ],
   "source": [
    "x = int(input(\"\\nIngrese un valor numérico: \"))\n",
    "\n",
    "# Validamos si x es positivo, negativo o cero.\n",
    "if x > 0:\n",
    "    print(\"\\nEl valor ingresado es positivo.\\n\")\n",
    "elif x == 0:\n",
    "    print(\"\\nEl valor ingresado es cero.\\n\")\n",
    "else:\n",
    "    print(\"\\nEl valor ingresado es negativo.\\n\")"
   ]
  },
  {
   "cell_type": "markdown",
   "metadata": {},
   "source": [
    "### Condicionales con varias condiciones"
   ]
  },
  {
   "cell_type": "markdown",
   "metadata": {},
   "source": [
    "Se requiere verificar que el usaurio y contraseña de un usuario sean los correctos. Analizar y ejecutar el código acontinuación."
   ]
  },
  {
   "cell_type": "code",
   "execution_count": 6,
   "metadata": {},
   "outputs": [
    {
     "name": "stdout",
     "output_type": "stream",
     "text": [
      "Usuariopepito\n",
      "Clave123\n",
      "Usuario o clave incorrectos\n"
     ]
    }
   ],
   "source": [
    "usuario = input(\"Usuario\")\n",
    "clave = input(\"Clave\")\n",
    "\n",
    "if usuario == \"admin\" and clave == \"password\":  # se chequean 2 condiciones\n",
    "    print(\"Inicio exitoso\")\n",
    "else:\n",
    "    print(\"Usuario o clave incorrectos\")"
   ]
  },
  {
   "cell_type": "markdown",
   "metadata": {},
   "source": [
    "#### Ejercicio 3"
   ]
  },
  {
   "cell_type": "markdown",
   "metadata": {},
   "source": [
    "Se requiere implementar una condición extra: El usuario solo puede autenticarse entre 7 am y 7 pm.  Implementar el código acontinuación:"
   ]
  },
  {
   "cell_type": "code",
   "execution_count": 6,
   "metadata": {},
   "outputs": [
    {
     "name": "stdout",
     "output_type": "stream",
     "text": [
      "\n",
      "Hora: 11:00\n",
      "\n",
      "\n",
      "Usuario: admin\n",
      "Clave: password\n",
      "\n",
      "Inicio exitoso.\n",
      "\n"
     ]
    }
   ],
   "source": [
    "import random\n",
    "\n",
    "# Generamos una hora aleatoria entre las 7 y 19 horas.\n",
    "hora = random.randint(7, 19)\n",
    "print(f'\\nHora: 0{hora}:00\\n' if hora < 10 else f'\\nHora: {hora}:00\\n')\n",
    "\n",
    "# En el horario 07am y 19pm solicitamos usuario y contraseña para validar.\n",
    "if 7 <= hora <= 19:\n",
    "    \n",
    "    usuario = input(\"\\nUsuario: \")\n",
    "    clave = input(\"Clave: \")\n",
    "    \n",
    "    if usuario == \"admin\" and clave == \"password\":\n",
    "        print(\"\\nInicio exitoso.\\n\")\n",
    "    else:\n",
    "        print(\"\\nUsuario o clave incorrectos.\\n\")\n",
    "else:\n",
    "    print('\\nEl sistema se abre desde las 07:00am hasta las 07:00pm.\\n')"
   ]
  },
  {
   "cell_type": "markdown",
   "metadata": {},
   "source": [
    "### Múltiples condicionales"
   ]
  },
  {
   "cell_type": "markdown",
   "metadata": {},
   "source": [
    "Se tiene un panel de control con un aviso luminoso de hasta 3 colores: amarillo, verde, azul. Si la luz es verde, el estado del sistema es correcto; si la luz del sistema es amarilla, el sistema está soportando fallos; si la luz es roja, el sistema está en estado crítico."
   ]
  },
  {
   "cell_type": "code",
   "execution_count": 7,
   "metadata": {},
   "outputs": [
    {
     "name": "stdout",
     "output_type": "stream",
     "text": [
      "Ingrese un color [amarillo|verde|rojo]rojo\n",
      "Error\n"
     ]
    }
   ],
   "source": [
    "color = input(\"Ingrese un color [amarillo|verde|rojo]\")\n",
    "\n",
    "if color == \"verde\":\n",
    "    print(\"OK\")\n",
    "elif color == \"amarillo\":\n",
    "    print(\"Warning\")\n",
    "elif color == \"rojo\":\n",
    "    print(\"Error\")\n",
    "else:\n",
    "    print(\"Color desconocido\")"
   ]
  },
  {
   "cell_type": "markdown",
   "metadata": {},
   "source": [
    "#### Ejercicio 4"
   ]
  },
  {
   "cell_type": "markdown",
   "metadata": {},
   "source": [
    "Existen ahora 2 luces que pueden tener los mismos 3 colores. Implemente un sistema que muestre los siguientes mensajes dependiendo de la combinación de colores: <br>\n",
    "<br>\n",
    "verde + verde --> OK <br>\n",
    "verde + amarillo --> OK<br>\n",
    "amarillo + amarillo --> Warning<br>\n",
    "rojo + verde --> Error<br>\n",
    "rojo + amarillo --> Error<br>\n",
    "rojo + rojo --> Critical<br>"
   ]
  },
  {
   "cell_type": "code",
   "execution_count": 7,
   "metadata": {},
   "outputs": [
    {
     "name": "stdout",
     "output_type": "stream",
     "text": [
      "\n",
      "Ingrese un color [amarillo|verde|rojo]: amarillo\n",
      "Ingrese otro color [amarillo|verde|rojo]: amarillo\n",
      "\n",
      "amarillo + amarillo --> Warning.\n",
      "\n"
     ]
    }
   ],
   "source": [
    "color1 = input('\\nIngrese un color [amarillo|verde|rojo]: ')\n",
    "color2 = input('Ingrese otro color [amarillo|verde|rojo]: ')\n",
    "\n",
    "# Generamos un mensaje en base a la combinación de 2 colores.\n",
    "if color1 == 'rojo' and color2 == 'rojo':\n",
    "    mensaje = 'Critical'\n",
    "elif color1 == 'rojo' or color2 == 'rojo':\n",
    "    mensaje = 'Error'\n",
    "elif color1 == 'amarillo' and color2 == 'amarillo':\n",
    "    mensaje = 'Warning'\n",
    "else:\n",
    "    mensaje = 'Ok'\n",
    "\n",
    "print(f'\\n{color1} + {color2} --> {mensaje}.\\n')"
   ]
  },
  {
   "cell_type": "markdown",
   "metadata": {},
   "source": [
    "### Condicionales anidados"
   ]
  },
  {
   "cell_type": "markdown",
   "metadata": {},
   "source": [
    "Se tienen valores de precipitaciones de un sensor. Dependiendo de si la estación actual es verano o invierno, se establecen rangos en los que las mediciones (mm/h) se consideran normales o anormales"
   ]
  },
  {
   "cell_type": "code",
   "execution_count": 8,
   "metadata": {},
   "outputs": [
    {
     "name": "stdout",
     "output_type": "stream",
     "text": [
      "Rango normal\n"
     ]
    }
   ],
   "source": [
    "epoca = \"invierno\"\n",
    "medicion = 50\n",
    "\n",
    "if epoca == \"verano\":\n",
    "    if 0 <= medicion <= 100:\n",
    "        print(\"Rango normal\")\n",
    "    elif 100 < medicion <= 200:\n",
    "        print(\"Anormal\")\n",
    "    else:\n",
    "        print(\"Muy anormal\")\n",
    "else:\n",
    "    if 0 <= medicion <= 200:\n",
    "        print(\"Rango normal\")\n",
    "    elif 200 < medicion <= 400:\n",
    "        print(\"Anormal\")\n",
    "    else:\n",
    "        print(\"Muy anormal\")"
   ]
  },
  {
   "cell_type": "markdown",
   "metadata": {},
   "source": [
    "El siguiente código es equivalente al anterior. ¿Por que?"
   ]
  },
  {
   "cell_type": "code",
   "execution_count": 9,
   "metadata": {},
   "outputs": [
    {
     "name": "stdout",
     "output_type": "stream",
     "text": [
      "Anormal\n"
     ]
    }
   ],
   "source": [
    "epoca = \"invierno\"\n",
    "medicion = 300\n",
    "\n",
    "if epoca == \"verano\":\n",
    "    if 0 <= medicion and medicion <= 100:\n",
    "        print(\"Rango normal\")\n",
    "    elif 100 < medicion and medicion <= 200:\n",
    "        print(\"Anormal\")\n",
    "    else:\n",
    "        print(\"Muy anormal\")\n",
    "else:\n",
    "    if 0 <= medicion and medicion <= 200:\n",
    "        print(\"Rango normal\")\n",
    "    elif 200 < medicion and medicion <= 400:\n",
    "        print(\"Anormal\")\n",
    "    else:\n",
    "        print(\"Muy anormal\")"
   ]
  },
  {
   "cell_type": "markdown",
   "metadata": {},
   "source": [
    "#### Ejercicio 5"
   ]
  },
  {
   "cell_type": "markdown",
   "metadata": {},
   "source": [
    "Extienda el código anterior para que tome en cuenta otras estaciones como primavera y otoño. Cree categorias para cada estación."
   ]
  },
  {
   "cell_type": "code",
   "execution_count": 8,
   "metadata": {},
   "outputs": [
    {
     "name": "stdout",
     "output_type": "stream",
     "text": [
      "\n",
      "------------------ INVIERNO ------------------\n",
      "\n",
      "\n",
      "La medición fue: 43mm/h, Muy Anormal.\n",
      "\n"
     ]
    }
   ],
   "source": [
    "import random\n",
    "\n",
    "epocas = ['Invierno', 'Verano', 'Otoño', 'Primavera']\n",
    "\n",
    "epoca = epocas[random.randint(0, 3)] # Escogemos una estación de la lista aleatoriamente.\n",
    "medicion = random.randint(0, 100) # Generamos una medición aleatoria entre 0 y 100.\n",
    "\n",
    "print(f'\\n------------------ {epoca.upper()} ------------------\\n') # Imprimimos la época en letras mayúsculas.\n",
    "\n",
    "# Verificamos la epoca y generamos un mensaje en base a los rangos de medición.\n",
    "if epoca == 'Invierno':\n",
    "    if 0 <= medicion <= 10:\n",
    "        mensaje = 'Normal.'\n",
    "    elif 0 <= medicion <= 20:\n",
    "        mensaje = 'Anormal.'\n",
    "    else:\n",
    "        mensaje = 'Muy Anormal.' \n",
    "elif epoca == 'Verano':\n",
    "    if 0 <= medicion <= 50:\n",
    "        mensaje = 'Normal.'\n",
    "    elif 0 <= medicion <= 75:\n",
    "        mensaje = 'Anormal.'\n",
    "    else:\n",
    "        mensaje = 'Muy Anormal.'\n",
    "elif epoca == 'Otoño':\n",
    "    if 0 <= medicion <= 20:\n",
    "        mensaje = 'Normal.'\n",
    "    elif 0 <= medicion <= 40:\n",
    "        mensaje = 'Anormal.'\n",
    "    else:\n",
    "        mensaje = 'Muy Anormal.' \n",
    "else:\n",
    "    if 0 <= medicion <= 25:\n",
    "        mensaje = 'Normal.'\n",
    "    elif 0 <= medicion <= 50:\n",
    "        mensaje = 'Anormal.'\n",
    "    else:\n",
    "        mensaje = 'Muy Anormal.'\n",
    "\n",
    "print(f'\\nLa medición fue: {medicion}mm/h, {mensaje}\\n')"
   ]
  },
  {
   "cell_type": "markdown",
   "metadata": {},
   "source": [
    "## Ejercicio 6"
   ]
  },
  {
   "cell_type": "markdown",
   "metadata": {},
   "source": [
    "Escriba un programa que convierta temperaturas de grados celsius a fahrenheit y viceversa. <br>\n",
    "Fórmula: $C = (5/9) * (F - 32)$\n",
    "\n",
    "Salida esperada : <br>\n",
    "60°C es 140 en Fahrenheit <br>\n",
    "45°F es 7 en Celsius"
   ]
  },
  {
   "cell_type": "markdown",
   "metadata": {},
   "source": [
    "\n"
   ]
  },
  {
   "cell_type": "code",
   "execution_count": 9,
   "metadata": {},
   "outputs": [
    {
     "name": "stdout",
     "output_type": "stream",
     "text": [
      "\n",
      "Ingrese un numero para calcular su equivalente en grados Fahrenheit: 60\n",
      "Ingrese un numero para calcular su equivalente en grados Celsius: 45\n",
      "\n",
      "60°C es 140 en Fahrenheit.\n",
      "45°F es 7 en Celsius.\n",
      "\n"
     ]
    }
   ],
   "source": [
    "# Solicitamos valores numericos para transformar a grados fahrenheit y celsius.\n",
    "tmp_celsius = int(input('\\nIngrese un numero para calcular su equivalente en grados Fahrenheit: '))\n",
    "tmp_fahrenheit = int(input('Ingrese un numero para calcular su equivalente en grados Celsius: '))\n",
    "\n",
    "# Convertimos los valores solicitados a grados fahrenheit y celsius respectivamente.\n",
    "calc_fahrenheit = int(32 + tmp_celsius/(5/9))\n",
    "calc_celsius = int((5/9) * (tmp_fahrenheit - 32))\n",
    "\n",
    "# Mostramos las conversiones por consola.\n",
    "print(f'\\n{tmp_celsius}°C es {calc_fahrenheit} en Fahrenheit.')\n",
    "print(f'{tmp_fahrenheit}°F es {calc_celsius} en Celsius.\\n')"
   ]
  },
  {
   "cell_type": "markdown",
   "metadata": {},
   "source": [
    "## Ejercicio 7"
   ]
  },
  {
   "cell_type": "markdown",
   "metadata": {},
   "source": [
    "Se requiere comparar un número ingresado, $x$, con otros números previamente almacenados para determinar: <br>\n",
    "- Cuantos números iguales a $x$ existen.\n",
    "- Cuantos números mayores a $x$ existen\n",
    "- Cuantos números menores a $x$ existen"
   ]
  },
  {
   "cell_type": "code",
   "execution_count": 10,
   "metadata": {},
   "outputs": [
    {
     "name": "stdout",
     "output_type": "stream",
     "text": [
      "\n",
      "Ingrese el valor de x: 4\n",
      "\n",
      "Existen 3 números mayor(es), 1 menor(es) y 1 igual(es) a 4.\n",
      "\n"
     ]
    }
   ],
   "source": [
    "x = int(input('\\nIngrese el valor de x: '))\n",
    "\n",
    "# números previamente almacenados\n",
    "num1 = 10\n",
    "num2 = 5\n",
    "num3 = 4\n",
    "num4 = 6\n",
    "num5 = 3\n",
    "\n",
    "#son variables contadores\n",
    "mayores = 0\n",
    "menores = 0\n",
    "iguales = 0\n",
    "\n",
    "#se compara si el valor es mayor, menor o igual al número 1.\n",
    "if x > num1:\n",
    "    menores += 1\n",
    "elif x < num1:\n",
    "    mayores += 1\n",
    "else:\n",
    "    iguales += 1\n",
    "#se compara si el valor es mayor, menor o igual al número 2.\n",
    "if x > num2:\n",
    "    menores += 1\n",
    "elif x < num2:\n",
    "    mayores += 1\n",
    "else:\n",
    "    iguales += 1\n",
    "#se compara si el valor es mayor, menor o igual al número 3.\n",
    "if x > num3:\n",
    "    menores += 1\n",
    "elif x < num3:\n",
    "    mayores += 1\n",
    "else:\n",
    "    iguales += 1\n",
    "#se compara si el valor es mayor, menor o igual al número 4.\n",
    "if x > num4:\n",
    "    menores += 1\n",
    "elif x < num4:\n",
    "    mayores += 1\n",
    "else:\n",
    "    iguales += 1\n",
    "#se compara si el valor es mayor, menor o igual al número 5.\n",
    "if x > num5:\n",
    "    menores += 1\n",
    "elif x < num5:\n",
    "    mayores += 1\n",
    "else: \n",
    "    iguales += 1\n",
    "\n",
    "print(f'\\nExisten {mayores} números mayor(es), {menores} menor(es) y {iguales} igual(es) a {x}.\\n')"
   ]
  },
  {
   "cell_type": "markdown",
   "metadata": {},
   "source": [
    "## Ejercicio 8"
   ]
  },
  {
   "cell_type": "markdown",
   "metadata": {},
   "source": [
    "Dados 4 números, determine cual es el número mayor entre ellos"
   ]
  },
  {
   "cell_type": "code",
   "execution_count": 11,
   "metadata": {},
   "outputs": [
    {
     "name": "stdout",
     "output_type": "stream",
     "text": [
      "\n",
      "Ingrese el valor del primer número: 4\n",
      "Ingrese el valor del segundo número: -4\n",
      "Ingrese el valor del tercero número: 10\n",
      "Ingrese el valor del cuarto número: 40\n",
      "\n",
      "El número mayor es: 40.\n",
      "\n"
     ]
    }
   ],
   "source": [
    "# Solicitamos 4 números por consola.\n",
    "num1 = int(input('\\nIngrese el valor del primer número: '))\n",
    "num2 = int(input('Ingrese el valor del segundo número: '))\n",
    "num3 = int(input('Ingrese el valor del tercero número: '))\n",
    "num4 = int(input('Ingrese el valor del cuarto número: '))\n",
    "\n",
    "# Validamos cuál es el mayor de los 4 números.\n",
    "if num1 > num2 and num1 > num3 and num1 > num4:\n",
    "    mayor = num1\n",
    "elif num2 > num3 and num2 > num4:\n",
    "    mayor = num2\n",
    "elif num3 > num4:\n",
    "    mayor = num3\n",
    "else:\n",
    "    mayor = num4\n",
    "\n",
    "print(f'\\nEl número mayor es: {mayor}.\\n')"
   ]
  },
  {
   "cell_type": "markdown",
   "metadata": {},
   "source": [
    "## Ejercicio 9"
   ]
  },
  {
   "cell_type": "markdown",
   "metadata": {},
   "source": [
    "Escribir un programa para obtener la fecha del día siguiente a una fecha dada\n",
    "\n",
    "Salida esperada:\n",
    "\n",
    "Ingrese un año: 2016                                                      \n",
    "Ingrese un mes [1-12]: 08                                                \n",
    "Ingrese un día [1-31]: 23                                                  \n",
    "La fecha siguiente es [yyyy-mm-dd] 2016-8-24\n"
   ]
  },
  {
   "cell_type": "code",
   "execution_count": 12,
   "metadata": {},
   "outputs": [
    {
     "name": "stdout",
     "output_type": "stream",
     "text": [
      "\n",
      "Ingrese un año: 2022\n",
      "Ingrese un mes [1-12]: 2\n",
      "Ingrese un día [1-31]: 28\n",
      "\n",
      " ----------------- 2022 AÑO NO BISIESTO -----------------\n",
      "\n",
      "La fecha siguiente es [yyyy-mm-dd]: 2022-03-01.\n",
      "\n"
     ]
    }
   ],
   "source": [
    "# Listas que contienen los meses con 30 y 31 días respectivamente.\n",
    "meses_31 = [1, 3, 5, 7, 8, 10, 12]\n",
    "meses_30 = [4, 6, 9, 11]\n",
    "\n",
    "# Solicitamos año, mes y dia respectivamente.\n",
    "anio = int(input('\\nIngrese un año: '))\n",
    "mes = int(input('Ingrese un mes [1-12]: '))\n",
    "dia = int(input('Ingrese un día [1-31]: '))\n",
    "\n",
    "# Validamos si el año es bisiesto asumiendo que el año sea divisible para 4.\n",
    "es_bisiesto = anio % 4 == 0 \n",
    "if es_bisiesto:\n",
    "    print(f'\\n ----------------- {anio} AÑO BISIESTO -----------------')\n",
    "else:\n",
    "    print(f'\\n ----------------- {anio} AÑO NO BISIESTO -----------------')\n",
    "\n",
    "# Variable bandera, cambia a falso si el valor del día no corresponde a un mes.\n",
    "es_fecha_correcta = True\n",
    "\n",
    "# Validamos mes[1-31] y día[1-12].\n",
    "if 1 <= mes <= 12 and 1 <= dia <= 31:\n",
    "\n",
    "    if mes in meses_31:\n",
    "        dia += 1\n",
    "        # Condición de frontera; en la linea anterior si el día es 31, este se convertira en 32, por tanto restamos 1.\n",
    "        # Esto aplica para todas las coniciones de frontera.\n",
    "        if dia - 1 == 31 and mes != 12:\n",
    "            dia = 1\n",
    "            mes += 1\n",
    "        # Condición de frontera para el año.\n",
    "        if dia - 1 == 31 and mes == 12:\n",
    "            dia = 1\n",
    "            mes = 1\n",
    "            anio += 1\n",
    "    elif mes in meses_30 and dia <= 30:\n",
    "        dia += 1\n",
    "        # Condición de frontera.\n",
    "        if dia - 1 == 30:\n",
    "            dia = 1\n",
    "            mes += 1\n",
    "    # Se asume que el mes es Febrero\n",
    "    elif dia <= 29 and es_bisiesto:\n",
    "        dia += 1\n",
    "        # Condición de frontera.\n",
    "        if dia - 1 == 29:\n",
    "            dia = 1\n",
    "            mes += 1\n",
    "    elif dia <= 28:\n",
    "        dia += 1\n",
    "        # Condición de frontera.\n",
    "        if dia - 1 == 28:\n",
    "            dia = 1\n",
    "            mes += 1\n",
    "    else:\n",
    "        print(f'\\n¡El mes {mes} no puede llevar {dia} días!\\n')\n",
    "        es_fecha_correcta = False\n",
    "    \n",
    "    if es_fecha_correcta:\n",
    "        # Damos formato al día y al mes.\n",
    "        dia_str = dia\n",
    "        mes_str = mes\n",
    "        if dia < 10:\n",
    "            dia_str = f'0{dia}'\n",
    "        if mes < 10:\n",
    "            mes_str = f'0{mes}'\n",
    "        print(f'\\nLa fecha siguiente es [yyyy-mm-dd]: {anio}-{mes_str}-{dia_str}.\\n')\n",
    "else:\n",
    "    print(f'\\nDia: {dia} o Mes: {mes}, ¡incorrectos!\\n')"
   ]
  }
 ],
 "metadata": {
  "kernelspec": {
   "display_name": "Python 3 (ipykernel)",
   "language": "python",
   "name": "python3"
  },
  "language_info": {
   "codemirror_mode": {
    "name": "ipython",
    "version": 3
   },
   "file_extension": ".py",
   "mimetype": "text/x-python",
   "name": "python",
   "nbconvert_exporter": "python",
   "pygments_lexer": "ipython3",
   "version": "3.9.7"
  },
  "widgets": {
   "application/vnd.jupyter.widget-state+json": {
    "state": {},
    "version_major": 2,
    "version_minor": 0
   }
  }
 },
 "nbformat": 4,
 "nbformat_minor": 4
}
