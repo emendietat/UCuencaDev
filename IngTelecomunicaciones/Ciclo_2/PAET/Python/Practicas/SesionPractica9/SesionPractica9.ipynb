{
 "cells": [
  {
   "cell_type": "markdown",
   "metadata": {},
   "source": [
    "# Sesión de ejercicios 10"
   ]
  },
  {
   "cell_type": "markdown",
   "metadata": {},
   "source": [
    "El objetivo de esta sesión de ejercicios es que el estudiante logre manejar de forma correcta la funcionalidad encapsulada en el paquete `Pandas` para manejo de datos.\n",
    "\n",
    "Pandas provee funcionalidades para encapsular distintos tipos de datos ordenados a través de índices y columnas. Esta funcionalidad permite el correcto manejo de dicha información, además de la ejecución de consultas, filtros, agrupamientos, etc. con muy pocas líneas de código.  Adicionalmente, `Pandas` permite el manejo de información organizada como series de tiempo.\n",
    "\n",
    "Ejecutar el siguiente código para importar las librerías necesarias para esta sesión.  Si necesita alguna librería extra, importarla en el ejercicio correspondiente."
   ]
  },
  {
   "cell_type": "code",
   "execution_count": 2,
   "metadata": {},
   "outputs": [],
   "source": [
    "import pandas as pd\n",
    "import numpy as np\n",
    "import matplotlib.pylab as plt\n",
    "import seaborn as sns\n",
    "sns.set()"
   ]
  },
  {
   "cell_type": "markdown",
   "metadata": {},
   "source": [
    "## Ejercicio 1"
   ]
  },
  {
   "cell_type": "markdown",
   "metadata": {},
   "source": [
    "El índice global de felicidad es una publicación anual de las Naciones Unidas que mide la felicidad en 157 países, basándose en diversos factores, como el PIB per cápita. Se requiere conocer la situación de Ecuador con respecto al resto de países del mundo. Para ello:\n",
    "\n",
    "- Leer en un `DataFrame` los datos del archivo `felicidad-2016.csv`\n",
    "- una vez haya leído el archivo, muestre las columnas del `DataFrame` y los primeros 10 registros (para ello use la función `.head()`)\n",
    "- Muestre cuál es `Happiness Score` de Ecuador y el score promedio del resto de los países. Ecuador está por sobre la media o por debajo?\n",
    "\n",
    "P.D. como ayuda, use el campo `Country` como índice del `DataFrame`"
   ]
  },
  {
   "cell_type": "code",
   "execution_count": 313,
   "metadata": {},
   "outputs": [],
   "source": [
    "# Ingrese su código aquí\n",
    "\n"
   ]
  },
  {
   "cell_type": "markdown",
   "metadata": {},
   "source": [
    "## Ejercicio 2"
   ]
  },
  {
   "cell_type": "markdown",
   "metadata": {},
   "source": [
    "Usando como base el ejercicio anterior, ¿Cuales son los 3 primeros países en términos de `Happiness Score`?; y, ¿Cuáles son los 3 países con menor Score?. Muestre en una tabla: El País, el Score, el `Health (Life Expectancy)`, y la `Region`"
   ]
  },
  {
   "cell_type": "code",
   "execution_count": 314,
   "metadata": {},
   "outputs": [],
   "source": [
    "# Ingrese su código aquí\n",
    "\n"
   ]
  },
  {
   "cell_type": "markdown",
   "metadata": {},
   "source": [
    "## Ejercicio 3"
   ]
  },
  {
   "cell_type": "markdown",
   "metadata": {},
   "source": [
    "Generar un reporte donde se muestren los `Happiness Score` promedios por Región. Dichos valores deberán estar ordenados de menor a mayor.\n",
    "\n",
    "Salida esperada:\n",
    "\n",
    "<img src=\"ejercicio3.png\">"
   ]
  },
  {
   "cell_type": "code",
   "execution_count": 315,
   "metadata": {},
   "outputs": [],
   "source": [
    "# Inserte su código aquí\n",
    "\n"
   ]
  },
  {
   "cell_type": "markdown",
   "metadata": {},
   "source": [
    "## Ejercicio 4"
   ]
  },
  {
   "cell_type": "markdown",
   "metadata": {},
   "source": [
    "Se requiere mostrar la información del dataset `felicidad-2016.csv`, pero únicamente de ciertos países. Para ello, realizar lo siguiente:\n",
    "\n",
    "- Pedir un listado de países al usuario (ingresar paises separados por comas)\n",
    "- Verificar si los países existen en el `DataFrame`. Si algún país no existe, descartarlo\n",
    "- Mostrar toda la información disponible de los países ingresados"
   ]
  },
  {
   "cell_type": "code",
   "execution_count": 316,
   "metadata": {},
   "outputs": [],
   "source": [
    "#  Ingrese su código aquí\n",
    "\n"
   ]
  },
  {
   "cell_type": "markdown",
   "metadata": {},
   "source": [
    "## Ejercicio 5"
   ]
  },
  {
   "cell_type": "markdown",
   "metadata": {},
   "source": [
    "La función `np.unique()` del paquete `numpy` retorna los elementos únicos de una lista o array. Esta funcionalidad es muy útil en casos en donde se requiera saber que valores puede tener una variable. Adicionalmente, cuando se manejan elementos de tipo `Date` en pandas, muchas veces se tienen frecuencias menores a un día (varias mediciones por día). Para conocer cuantos días existen en un dataset, se puede ejecutar el siguiente comando:\n",
    "\n",
    "`np.unique(ds.index.date).size`\n",
    "\n",
    "considerando que `ds` es un `DataFrame` que tiene un índice de tipo `Date` (como en el ejercicio anterior)"
   ]
  },
  {
   "cell_type": "markdown",
   "metadata": {},
   "source": [
    "El archivo `weather_2012.csv` contiene información ambiental en un lugar específico. Entre otras cosas tiene la temperatura (Temp), humedad relativa (Rel_Hum), velocidad del viento (Wind_Spd), visibilidad (Visibility), tipo de clima (Weather).  \n",
    "\n",
    "Una compañia dedicada a la salud y cuidado del hogar está realizando un estudio de la situación actual de la región de estudio. Esta compañia busca determinar cuan problemático podría llegar a ser la humedad relativa en la salud de las personas. Para ello, determina que necesita conocer cuantos días existieron en donde la humedad relativa estuvo fuera del rango de 15% -75%.  Implemente esta funcionalidad y muestre la cantidad de días en donde existieron valores de humedad relativa fuera de este rango y muestre el número total de días que existen en el `DataFrame`. Finalmente, calcule el porcentaje de días que estuvieron fuera del rango antes descrito."
   ]
  },
  {
   "cell_type": "code",
   "execution_count": 317,
   "metadata": {},
   "outputs": [],
   "source": [
    "# Ingrese su código aquí\n",
    "\n"
   ]
  },
  {
   "cell_type": "markdown",
   "metadata": {},
   "source": [
    "## Ejercicio 6"
   ]
  },
  {
   "cell_type": "markdown",
   "metadata": {},
   "source": [
    "En el `DataFrame` anterior, existe una columna denominada `Weather` con múltiples valores. Una empresa está interesada en la relación entre visibilidad y clima cuando hay neblina (Fog). Calcule, en términos porcentuales cuanta visibilidad se pierde en días en los que hay neblina. Adicionalmente, cuál es el porcentaje de días en donde se tiene neblina.\n",
    "\n",
    "Ayuda: <br>\n",
    "- Investigue como buscar un substring en una columna. Busque los elementos que tengan *Fog* en la columna `Visibility`"
   ]
  },
  {
   "cell_type": "code",
   "execution_count": 318,
   "metadata": {},
   "outputs": [],
   "source": [
    "# Inserte su código aquí\n",
    "\n"
   ]
  },
  {
   "cell_type": "markdown",
   "metadata": {},
   "source": [
    "## Ejercicio 7"
   ]
  },
  {
   "cell_type": "markdown",
   "metadata": {},
   "source": [
    "Usando el `DataFrame` anterior, se requiere categorizar las temperaturas encontradas. Para ello, se definen las siguientes categorías para la temperatura ($t$):\n",
    "\n",
    "- Categoria 1: $t \\le 0$\n",
    "- Categoria 2: $0 < t \\le 10$\n",
    "- Categoria 3: $10 < t \\le 20$\n",
    "- Categoría 4: $t > 20$\n",
    "\n",
    "Para este ejercicio, cree una nueva columna `Categoria` cuyos valores dependan de los rangos de temperatura. Finalmente muestre el promedio de temperatura por categoría."
   ]
  },
  {
   "cell_type": "code",
   "execution_count": 319,
   "metadata": {},
   "outputs": [],
   "source": [
    "# Inserte su código aquí\n",
    "\n"
   ]
  },
  {
   "cell_type": "markdown",
   "metadata": {},
   "source": [
    "## Ejercicio 8"
   ]
  },
  {
   "cell_type": "markdown",
   "metadata": {},
   "source": [
    "El archivo `power_consumption.csv` contiene mediciones de consumo de potencia en una casa. Estas mediciones tiene una frecuencia de 1 minuto y sus columnas se describen a continuación:\n",
    "\n",
    "- DateTime: Index information\n",
    "- global_active_power: The total active power consumed by the household (kilowatts).\n",
    "- global_reactive_power: The total reactive power consumed by the household (kilowatts).\n",
    "- voltage: Average voltage (volts).\n",
    "- global_intensity: Average current intensity (amps).\n",
    "- sub_metering_1: Active energy for kitchen (watt-hours of active energy).\n",
    "- sub_metering_2: Active energy for laundry (watt-hours of active energy).\n",
    "- sub_metering_3: Active energy for climate control systems (watt-hours of active energy)."
   ]
  },
  {
   "cell_type": "markdown",
   "metadata": {},
   "source": [
    "Se requiere analizar los valores máximos de consumo del hogar en lapsos de tiempo de 15 minutos, en vez de 1 minuto. Entonces, el `DataFrame` deberá ser re-sampleado a una frecuencia de 15 minutos. Adicionalmente, se requieren encontrar los outliers (valores anómalos) en términos de potencia activa y reactiva. Para ello, un valor de potencia activa se considera anómalo si sobrepasa los 4 kwh. Así mismo, un valor de potencia reactiva se considera anómalo si sobrepasa los 0.5 kwh.\n",
    "\n",
    "Genere tres `DataFrames`: (1) con la información original re-sampleada a 15 minutos, tomando en cuenta los valores máximos; (2) con los outliers de potencia activa; y, (3) con los outliers de potencia reactiva.\n",
    "\n",
    "Ejecute la función `mostrar_potencia(d, dogap, dogrp)` mandando como parámetros, los tres dataframes formados anteriormente.\n",
    "\n",
    "Finalmente, mostrar las fechas en las que estos outliers sucedieron."
   ]
  },
  {
   "cell_type": "code",
   "execution_count": 320,
   "metadata": {},
   "outputs": [],
   "source": [
    "def mostrar_potencia(d, dogap, dogrp):\n",
    "    \"\"\"Muestra información de temperatura y humedad del DataFrame `d`\n",
    "    \n",
    "    Parametros\n",
    "    ----------\n",
    "    d: DataFrame\n",
    "      DataFrame con la información de potencia, voltaje, intensidad, etc. con frecuencia de 15 minutos\n",
    "       \n",
    "    dogap: DataFrame\n",
    "      DataFrame con los valores outliers de la potencia activa\n",
    "      \n",
    "    dogrp: DataFrame\n",
    "      DataFrame con los valores outliers de la potencia reactiva\n",
    "    \"\"\"\n",
    "    fig, ax = plt.subplots(2, 1, figsize=(18, 3), sharex=True)\n",
    "    d[\"Global_active_power\"].plot(ax=ax[0])\n",
    "    d[\"Global_reactive_power\"].plot(ax=ax[1])\n",
    "    \n",
    "    dogap[\"Global_active_power\"].plot(ax=ax[0], style=\"o\")\n",
    "    \n",
    "    dogrp[\"Global_reactive_power\"].plot(ax=ax[1], style=\"o\")\n",
    "\n",
    "\n",
    "# Ingrese su código aquí\n",
    "\n"
   ]
  },
  {
   "cell_type": "markdown",
   "metadata": {},
   "source": [
    "## Ejercicio 9"
   ]
  },
  {
   "cell_type": "markdown",
   "metadata": {},
   "source": [
    "El archivo `PJME_hourly.csv` contiene información sobre el consumo energético en megawats en una ciudad. Se requiere conocer el comportamiento del consumo energético durante los días de trabajo (lunes a viernes) y los fines de semana. Compare el consumo promedio entre estas dos categorías.  La hipótesis que maneja la ciudad es que el consumo el fin de semana se reduce sustancialmente."
   ]
  },
  {
   "cell_type": "markdown",
   "metadata": {},
   "source": [
    "Ejecute el código a continuación para visualizar el comportamiento del consumo energético en función del tiempo"
   ]
  },
  {
   "cell_type": "code",
   "execution_count": null,
   "metadata": {},
   "outputs": [],
   "source": [
    "fig, ax = plt.subplots(1, 1, figsize=(18, 3))\n",
    "\n",
    "ds = pd.read_csv(\"PJME_hourly.csv\", index_col=0, parse_dates=[0])\n",
    "ds.plot(ax=ax)"
   ]
  },
  {
   "cell_type": "code",
   "execution_count": 321,
   "metadata": {},
   "outputs": [],
   "source": [
    "# Inserte su código aquí\n",
    "\n"
   ]
  },
  {
   "cell_type": "markdown",
   "metadata": {},
   "source": [
    "## Ejercicio 10"
   ]
  },
  {
   "cell_type": "markdown",
   "metadata": {},
   "source": [
    "Se requiere hacer una comparación del coportamiento del consumo energético por año (2002 - 2018). Se mostrará en forma de un tabla los valores medios de consumo, valores máximos y mínimos.  La ciudad espera que durante este lapso de tiempo, el consumo energético decreció debido a las múltiples medidas tomadas. ¿Se puede decir que el consumo energético promedio ha decrecido en estos años?\n",
    "\n",
    "Ayuda: puede usar la función `agg()`"
   ]
  },
  {
   "cell_type": "code",
   "execution_count": 322,
   "metadata": {},
   "outputs": [],
   "source": [
    "# Inserte su código aquí\n",
    "\n"
   ]
  }
 ],
 "metadata": {
  "kernelspec": {
   "display_name": "Python 3",
   "language": "python",
   "name": "python3"
  },
  "language_info": {
   "codemirror_mode": {
    "name": "ipython",
    "version": 3
   },
   "file_extension": ".py",
   "mimetype": "text/x-python",
   "name": "python",
   "nbconvert_exporter": "python",
   "pygments_lexer": "ipython3",
   "version": "3.7.3"
  }
 },
 "nbformat": 4,
 "nbformat_minor": 2
}
