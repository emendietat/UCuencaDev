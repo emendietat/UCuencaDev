{
 "cells": [
  {
   "cell_type": "markdown",
   "metadata": {},
   "source": [
    "# Sesión de ejercicios 5"
   ]
  },
  {
   "cell_type": "markdown",
   "metadata": {},
   "source": [
    "El objetivo de esta sesión de ejercicios es que el estudiante se familiarice con los distintos tipos de datos en Python; y además, pueda utilizar las distintas herramientas para manejo de cadenas de texto y listas"
   ]
  },
  {
   "cell_type": "markdown",
   "metadata": {},
   "source": [
    "## Ejercicio 1"
   ]
  },
  {
   "cell_type": "markdown",
   "metadata": {},
   "source": [
    "Una de las operaciones más comunes en programación es la transformación de tipos de datos. Para ello se pueden utilizar las siguientes funciones:\n",
    "\n",
    "- `int()` transforma un valor a un número entero\n",
    "- `float()` transforma un valor a un número flotante\n",
    "- `str()`  transforma un valor a una cadena de texto\n",
    "\n",
    "Para este ejercicio, pida al usuario que ingrese 3 valores numéricos y transfórmelos a valores del tipo `float` luego muestre los valores transformados"
   ]
  },
  {
   "cell_type": "code",
   "execution_count": 2,
   "metadata": {},
   "outputs": [
    {
     "name": "stdout",
     "output_type": "stream",
     "text": [
      "Ingrese un valor numerico: 3\n",
      "Ingrese un valor numerico: 12\n",
      "Ingrese un valor numerico: 7\n",
      "\n",
      "Los valores ingresados transformados a tipo float son: [3.0, 12.0, 7.0]\n"
     ]
    }
   ],
   "source": [
    "list_num_float = []   # lista vacia para almacenar los valores float\n",
    "\n",
    "for i in range(0, 3):\n",
    "    x = int(input(\"Ingrese un valor numerico: \"))   # el usuario ingresa un valor numerico 3 veces\n",
    "    valor_float = float(x)  # transformacion de valor int a float\n",
    "    list_num_float += [valor_float]     # almacenamos los valores en la lista vacia\n",
    "\n",
    "print(f\"\\nLos valores ingresados transformados a tipo float son: {list_num_float}\")"
   ]
  },
  {
   "cell_type": "markdown",
   "metadata": {},
   "source": [
    "Ejecute el código a continuación. ¿Cuál es la salida?. ¿Tiene sentido?"
   ]
  },
  {
   "cell_type": "code",
   "execution_count": 3,
   "metadata": {},
   "outputs": [
    {
     "ename": "ValueError",
     "evalue": "could not convert string to float: 'palabra'",
     "output_type": "error",
     "traceback": [
      "\u001b[1;31m---------------------------------------------------------------------------\u001b[0m",
      "\u001b[1;31mValueError\u001b[0m                                Traceback (most recent call last)",
      "\u001b[1;32m~\\AppData\\Local\\Temp/ipykernel_15860/4274504918.py\u001b[0m in \u001b[0;36m<module>\u001b[1;34m\u001b[0m\n\u001b[0;32m      1\u001b[0m \u001b[0mx\u001b[0m \u001b[1;33m=\u001b[0m \u001b[1;34m\"palabra\"\u001b[0m\u001b[1;33m\u001b[0m\u001b[1;33m\u001b[0m\u001b[0m\n\u001b[0;32m      2\u001b[0m \u001b[1;33m\u001b[0m\u001b[0m\n\u001b[1;32m----> 3\u001b[1;33m \u001b[0mprint\u001b[0m\u001b[1;33m(\u001b[0m\u001b[0mfloat\u001b[0m\u001b[1;33m(\u001b[0m\u001b[0mx\u001b[0m\u001b[1;33m)\u001b[0m\u001b[1;33m)\u001b[0m\u001b[1;33m\u001b[0m\u001b[1;33m\u001b[0m\u001b[0m\n\u001b[0m",
      "\u001b[1;31mValueError\u001b[0m: could not convert string to float: 'palabra'"
     ]
    }
   ],
   "source": [
    "x = \"palabra\"\n",
    "\n",
    "print(float(x))"
   ]
  },
  {
   "cell_type": "markdown",
   "metadata": {},
   "source": [
    "## Ejercicio 2"
   ]
  },
  {
   "cell_type": "markdown",
   "metadata": {},
   "source": [
    "Otra operación típica en programación es verificar si una entrada es numérica o no. Para ello, se puede utilizar una función específica de las cadenas de texto. La función `x.isnumeric()` retorna un valor boleano, en donde True aplica si el valor ingresado es numérico. Por ende, es suceptible de transformación a un valor entero o flotante.\n",
    "\n",
    "Ejemplo:"
   ]
  },
  {
   "cell_type": "code",
   "execution_count": 6,
   "metadata": {},
   "outputs": [
    {
     "name": "stdout",
     "output_type": "stream",
     "text": [
      "Ingrese un valor entero: 7\n",
      "El valor de x puede ser transformado:  7.0\n"
     ]
    }
   ],
   "source": [
    "x = input(\"Ingrese un valor entero: \")\n",
    "\n",
    "if x.isnumeric():\n",
    "    print(\"El valor de x puede ser transformado: \", float(x))\n",
    "else:\n",
    "    print(\"El valor ingresado no es numérico\")"
   ]
  },
  {
   "cell_type": "markdown",
   "metadata": {},
   "source": [
    "Pida al usuario que ingrese 5 valores. El programa calculará el promedio de los valores ingresados, siempre y cuando estos sean del tipo entero."
   ]
  },
  {
   "cell_type": "code",
   "execution_count": 2,
   "metadata": {},
   "outputs": [
    {
     "name": "stdout",
     "output_type": "stream",
     "text": [
      "\n",
      "------ Ingrese 5 números enteros para calcular su promedio ------\n",
      "\n",
      "N°1: 4\n",
      "N°2: 10\n",
      "N°3: 7\n",
      "N°4: 9\n",
      "N°5: 8\n",
      "\n",
      "El promedio es: 7.6\n",
      "\n"
     ]
    }
   ],
   "source": [
    "# Pedimos al usuario el ingreso de cinco números enteros.\n",
    "cant_numeros = 5\n",
    "print(f'\\n------ Ingrese {cant_numeros} números enteros para calcular su promedio ------\\n')\n",
    "numeros = [input(f'N°{i}: ') for i in range(1, cant_numeros + 1)]\n",
    "\n",
    "# Validamos que todas las entradas sean números enteros.\n",
    "calcular_promedio = True\n",
    "for i in numeros:\n",
    "    if not i.isnumeric():\n",
    "        calcular_promedio = False\n",
    "        print(f'\\nLa entrada: \"{i}\", no es un número entero, no se puede calcular el promedio.\\n')\n",
    "        break\n",
    "\n",
    "# Calculamos el promedio de los números si la validacion es correcta.\n",
    "if calcular_promedio:\n",
    "    suma = 0\n",
    "    for i in numeros:\n",
    "        suma += int(i)\n",
    "    print(f'\\nEl promedio es: {suma/len(numeros)}\\n')"
   ]
  },
  {
   "cell_type": "markdown",
   "metadata": {},
   "source": [
    "## Ejercicio 3"
   ]
  },
  {
   "cell_type": "markdown",
   "metadata": {},
   "source": [
    "Importe la librería math mediante el siguiente comando `import math`. Luego, genere un array estático con valores punto flotante de 10 elementos. Se requiere calcular el valor promedio de este array, pero únicamente tomando en cuenta el valor absoluto de los distintos elementos. Luego el programa deberá calcular el factorial de la parte entera del resutlado anterior."
   ]
  },
  {
   "cell_type": "code",
   "execution_count": 3,
   "metadata": {},
   "outputs": [
    {
     "name": "stdout",
     "output_type": "stream",
     "text": [
      "\n",
      "[33.5, 4.4, 5.5, 2.2, 7.7, 9.9, 11.2, 33.2, 66.5, 33.1]\n",
      "El promedio es: 20.72\n",
      "\n",
      "El factorial de 20 es: 2432902008176640000.\n",
      "\n"
     ]
    }
   ],
   "source": [
    "import math\n",
    "\n",
    "# Array estático con valores punto flotante.\n",
    "x = [33.5, 4.4, -5.5, 2.2, -7.7, 9.9, 11.2, 33.2, 66.5, -33.1]\n",
    "\n",
    "# Generamos una lista con los valores absolutos de los elementos de 'x'.\n",
    "valores_absolutos = [abs(i) for i in x]\n",
    "\n",
    "# calculamos el promedio de los elementos de 'valores_absolutos'.\n",
    "suma = 0\n",
    "for i in valores_absolutos:\n",
    "    suma += i\n",
    "promedio = suma/len(valores_absolutos)\n",
    "print(f'\\n{valores_absolutos}\\nEl promedio es: {round(promedio, 2)}')\n",
    "\n",
    "# Calculamos el factorial de la parte entera del promedio anterior.\n",
    "factorial = 1\n",
    "for i in range(1, int(promedio + 1)):\n",
    "    factorial *= i\n",
    "print(f'\\nEl factorial de {int(promedio)} es: {factorial}.\\n')"
   ]
  },
  {
   "cell_type": "markdown",
   "metadata": {},
   "source": [
    "Una vez que una librería ha sido importada al programa, se puede hacer uso de la misma en cualquier celda de la notebook. A continuación se ejecutará un comando simple usando la librería math que ya fue previamente importada"
   ]
  },
  {
   "cell_type": "code",
   "execution_count": 4,
   "metadata": {},
   "outputs": [
    {
     "data": {
      "text/plain": [
       "6"
      ]
     },
     "execution_count": 4,
     "metadata": {},
     "output_type": "execute_result"
    }
   ],
   "source": [
    "math.ceil(5.6)"
   ]
  },
  {
   "cell_type": "markdown",
   "metadata": {},
   "source": [
    "## Ejercicio 4"
   ]
  },
  {
   "cell_type": "markdown",
   "metadata": {},
   "source": [
    "Se requiere mostrar en pantalla la siguiente información: se tienen 3 listas con información sobre nombres, identificadores, y sueldos de varios usuarios. Se requiere mostrar esta información de forma tabulada como en el ejemplo a continuación.\n",
    "\n",
    "<img src=\"fig1.png\">\n",
    "\n",
    "Para ello, utilice la función `x.format()` del objeto `str`"
   ]
  },
  {
   "cell_type": "code",
   "execution_count": 7,
   "metadata": {},
   "outputs": [
    {
     "name": "stdout",
     "output_type": "stream",
     "text": [
      "\n",
      "Usuario              ID                   Sueldo              \n",
      "------------------------------------------------\n",
      "juan                 1                    100.20              \n",
      "pedro                24                   433.22              \n",
      "maria                22                   500.30              \n",
      "cecilia              54                   700.00              \n",
      "------------------------------------------------\n"
     ]
    }
   ],
   "source": [
    "# Listas con información previa de los usuarios.\n",
    "nombres = [\"juan\", \"pedro\", \"maria\", \"cecilia\"]\n",
    "ids = [1, 24, 22, 54, 65]\n",
    "sueldos = [100.2, 433.22, 500.3, 700, 300.44]\n",
    "\n",
    "# Imprimimos el encabezado de la tabla.\n",
    "print('\\n{:<20s} {:<20s} {:<20s}'.format('Usuario', 'ID', 'Sueldo'))\n",
    "\n",
    "#Generamos el cuerpo de la tabla con informacion de las 3 listas anteriores.\n",
    "separador_tabla = '-'*48\n",
    "for i in range(len(nombres)):\n",
    "    if i == 0: print(separador_tabla)\n",
    "    print('{:<20s} {:<20d} {:<20.2f}'.format(nombres[i], ids[i], sueldos[i]))\n",
    "    if i == len(nombres) - 1: print(separador_tabla)"
   ]
  },
  {
   "cell_type": "markdown",
   "metadata": {},
   "source": [
    "## Ejercicio 5"
   ]
  },
  {
   "cell_type": "markdown",
   "metadata": {},
   "source": [
    "Dada una frase de texto, se requiere dividirla en frases cuyo separador es el `.`. Luego, mostrar las frases en mayúsculas solo si están en una posición par"
   ]
  },
  {
   "cell_type": "code",
   "execution_count": 8,
   "metadata": {},
   "outputs": [
    {
     "name": "stdout",
     "output_type": "stream",
     "text": [
      "FRASE 1\n",
      "Frase 2\n",
      "FRASE 3\n",
      "Frase 4\n",
      "FRASE 5\n",
      "Frase 6\n"
     ]
    }
   ],
   "source": [
    "frase = 'Frase 1. Frase 2. Frase 3. Frase 4. Frase 5. Frase 6'\n",
    "\n",
    "# Creamos una lista a partir de 'frase' utilizando como separador al '.'\n",
    "frases = frase.split('.')\n",
    "\n",
    "# imprimimos las frases de la lista anterior.\n",
    "i = 0\n",
    "while i < len(frases):\n",
    "    # Convertimos a mayúsculas y quitamos los espacio de inicio y fin si:\n",
    "    # La posición es par, asumiendo que las posiciones de las listas inician en cero.\n",
    "    print(frases[i].upper().strip() if i % 2 == 0 else frases[i].strip())\n",
    "    i += 1"
   ]
  },
  {
   "cell_type": "markdown",
   "metadata": {},
   "source": [
    "## Ejercicio 6"
   ]
  },
  {
   "cell_type": "markdown",
   "metadata": {},
   "source": [
    "Se requiere un programa para \"obscurecer\" un texto. Es decir, que la legibilidad del texto sea más complicada ya que se intercambiarán caractéres, logrando de esta forma que el texto se modifique.  Para este ejercicio, se cambiarán los siguientes caractéres:\n",
    "- a por 0\n",
    "- e por x\n",
    "- m por 7\n",
    "\n",
    "Por ejemplo la frase: \"este auto necesita mantenimiento\" debe ser cambiada a \"xstx 0uto nxcxsit0 70ntxni7ixnto\""
   ]
  },
  {
   "cell_type": "code",
   "execution_count": 9,
   "metadata": {},
   "outputs": [
    {
     "name": "stdout",
     "output_type": "stream",
     "text": [
      "\n",
      "Ingrese un texto para \"obscurecer\": este auto necesita mantenimiento\n",
      "\n",
      "Texto \"obscurecido\": xstx 0uto nxcxsit0 70ntxni7ixnto\n",
      "\n"
     ]
    }
   ],
   "source": [
    "texto = input('\\nIngrese un texto para \"obscurecer\": ')\n",
    "\n",
    "# Creamos una lista con los caracteres especiales a remplazar: [caracterOriginal, caracterReemplazo].\n",
    "chars_especiales = [['a', '0'], ['e', 'x'], ['m', '7']]\n",
    "\n",
    "# Modiicamos el texto original tomando en cuenta que los caracteres especiales sean reemplazados.\n",
    "for i in texto:\n",
    "    for j in chars_especiales:\n",
    "        if i == j[0]:\n",
    "            texto = texto.replace(i, j[1])\n",
    "\n",
    "# Imprimimos el texto \"obscurecido\".\n",
    "print(f'\\nTexto \"obscurecido\": {texto}\\n')"
   ]
  },
  {
   "cell_type": "markdown",
   "metadata": {},
   "source": [
    "## Ejercicio 7"
   ]
  },
  {
   "cell_type": "markdown",
   "metadata": {},
   "source": [
    "Partiendo de dos listas con nombres, se requiere eliminar de la primera lista, los nombres que existen en la segunda. Finalmente mostrar como queda la primera lista"
   ]
  },
  {
   "cell_type": "code",
   "execution_count": 12,
   "metadata": {},
   "outputs": [
    {
     "name": "stdout",
     "output_type": "stream",
     "text": [
      "['carlos', 'pedro', 'jacinto', 'karina']\n"
     ]
    }
   ],
   "source": [
    "lista1 = [\"carlos\", \"pedro\", \"jacinto\", \"andrea\", \"mariana\", \"andrea\", \"anne\", \"mariana\", \"karina\"]\n",
    "lista2 = [\"andrea\", \"anne\", \"mariana\"]\n",
    "\n",
    "i = 0   # variable contadora de elementos de 'lista1'\n",
    "\n",
    "while i < len(lista1):\n",
    "    for j in lista2:\n",
    "        if lista1[i] == j:  # analiza si un elemento de lista1 es igual a uno de lista2\n",
    "            lista1.remove(lista1[i])    # elimina el elemento repetido de lista1\n",
    "            i = 0   # vuelve a iniciar el bucle con la nueva lista1\n",
    "    i += 1\n",
    "\n",
    "\n",
    "print(lista1)"
   ]
  },
  {
   "cell_type": "markdown",
   "metadata": {},
   "source": [
    "## Ejercicio 8"
   ]
  },
  {
   "cell_type": "markdown",
   "metadata": {},
   "source": [
    "Leer del usuario un número entero positivo, e indique cuantas unidades, decenas, centenas, y miles posee.\n",
    "\n",
    "Por ejemplo: 4567 <br>\n",
    "7 unidades, 6 decenas, 5 centenas, 4 miles.\n",
    "\n",
    "Considere que cuando sea una unidad, 1 decena, etc. la palabra es en singular"
   ]
  },
  {
   "cell_type": "code",
   "execution_count": 24,
   "metadata": {},
   "outputs": [
    {
     "name": "stdout",
     "output_type": "stream",
     "text": [
      "\n",
      "Ingrese un número entero positivo: 1111\n",
      "\n",
      "El número 1111 tiene, 1 unidad, 1 decena, 1 centena, 1 mil.\n",
      "\n"
     ]
    }
   ],
   "source": [
    "# Pedimos un número entero positivo y creamos una lista de categorias.\n",
    "numero_str = input('\\nIngrese un número entero positivo: ')\n",
    "categorias = [['unidades', 0], ['decenas ', 0], ['centenas ', 0], ['miles', 0]]\n",
    "\n",
    "# Validamos que la entrada sea un número entero.\n",
    "if not numero_str.isdigit() or int(numero_str) < 1:\n",
    "    print(f'\\nLa entrada: \"{numero_str}\", no es un número entero positivo!\\nEl programa ha finalizado!\\n')\n",
    "    exit()\n",
    "\n",
    "numero = int(numero_str) # Transformamos a entero la entrada del usuario.\n",
    "posicion_categoria = len(categorias) - 1  # Iniciamos la poicion desde la poicion mayor.\n",
    "sustraendo = 1000 # Valor base establecido en el ejercicio.\n",
    "while numero >= 10:\n",
    "    if numero - sustraendo >= 0: # Evalumas cuantas veces esta el 1000, 100 y 10 en el número\n",
    "        numero -= sustraendo\n",
    "        total = categorias[posicion_categoria][1]\n",
    "        categorias[posicion_categoria][1] = total + 1\n",
    "    else: # Actualizamos la base y el contador de categoria.\n",
    "        sustraendo //= 10\n",
    "        posicion_categoria -= 1\n",
    "categorias[0][1] = numero # El número restante son las unidades existentes.\n",
    "\n",
    "# Imprimos la cantidad de veces que aparece una categoria coniderando palabras en singular/plural.\n",
    "mensaje = f'El número {numero_str} tiene'\n",
    "i = 0\n",
    "while i < len(categorias):\n",
    "    categoria = categorias[i]\n",
    "    if categoria[1] != 1:\n",
    "        mensaje += f', {categoria[1]} {categoria[0].strip()}'\n",
    "    else:\n",
    "        num_caracteres = len(categoria[0])\n",
    "        mensaje += f', 1 {categoria[0][:num_caracteres - 2]}'\n",
    "    i += 1\n",
    "\n",
    "# Imprimimos la cantidad de unidades, decenas, centenas y miles.\n",
    "print(f'\\n{mensaje}.\\n')"
   ]
  },
  {
   "cell_type": "markdown",
   "metadata": {},
   "source": [
    "## Ejercicio 9"
   ]
  },
  {
   "cell_type": "markdown",
   "metadata": {},
   "source": [
    "El objetivo de este ejercicio es el de validar una cédula. Para entender el proceso de validación, se proporcionan 2 ejemplos con 2 numeros de cédula válidos. Básicamente, una cédula es válida cuando su último dígito es igual a un número encontrado producto de la validación. El proceso de encontrar este número se detalla acontinuación.\n",
    "Para entender este proceso, es necesario revisar el ejemplo de la Figura 1.\n",
    "\n",
    "<img src=\"fig2.png\">\n",
    "\n",
    "Se parte un número de cédula y se requiere validar su último dígito. Para esta tarea, inicialmente, se deben\n",
    "multiplicar los dígitos de la cédula; los dígitos ubicados en una posición impar se multiplican por 2; aquellos que\n",
    "están ubicados en una posición par se multiplican por 1. En este punto, se debe tener una consideración especial;\n",
    "cuando la multiplicación de los 2 dígitos da como resultado un número menor a 10, este número se acepta (A1).\n",
    "Por otro lado, cuando esta multiplicación da como resultado un número mayor a 9, se le debe restar un valor\n",
    "de 9 (A2). Una vez se hayan encontrado los 9 valores correspondientes a las multiplicaciones, hay que sumarlos\n",
    "(B). Finalmente, se compara el último dígito del número correspondiente a la sumatoria con el último dígito de\n",
    "la cédula (C). Para esta comparación, se realiza una resta de 10 - el último dígito de la sumatoria (C).\n",
    "Existe otra consideración especial en la validación de una cédula que puede ser entendida a través de la Figura 2. En este caso particular, el último dígito de la cédula es igual a 0.\n",
    "\n",
    "<img src=\"fig3.png\">\n",
    "\n",
    "Para este caso, todas las consideraciones que se detallaron previamente se mantienen; únicamente cambia la\n",
    "parte de comparación entre el último dígito de la cédula y el dígito correspondiente a la sumatoria de valores.\n",
    "En este ejemplo (Figura 2), el último dígito del valor correspondiente a la sumatoria se compara directamente\n",
    "con el último dígito de la cédula (C)."
   ]
  },
  {
   "cell_type": "code",
   "execution_count": 4,
   "metadata": {},
   "outputs": [
    {
     "name": "stdout",
     "output_type": "stream",
     "text": [
      "\n",
      "Ingrese un número de cédula para su validación: 0105290456\n",
      "\n",
      "El número de cédula: 0105290456 es válido.\n",
      "\n"
     ]
    }
   ],
   "source": [
    "# Solicitamos el número de cedula al usuario.\n",
    "cedula = input('\\nIngrese un número de cédula para su validación: ')\n",
    "mensaje_error = f'\\nLa entrada \"{cedula}\" no corresponde a un número de cédula!\\nEl programa ha finalizado!\\n'\n",
    "\n",
    "# Validamos que el numero ingresado contenga solo numero enteros positivos y tengan 10 digitos.\n",
    "for i in cedula:\n",
    "    if not i.isdigit() or len(cedula) != 10:\n",
    "        print(mensaje_error)\n",
    "        exit()\n",
    "\n",
    "# 1. Multiplicamos cada dígito de la cédula, posicion par * 2 caso contrario por 1 y almacenamos en una lista.\n",
    "#    Consideramos que las posiciones inician en cero.\n",
    "nums_proceso1 = []\n",
    "for i in range(len(cedula) - 1):\n",
    "    resultante = int(cedula[i])\n",
    "    if i % 2 == 0:\n",
    "        resultante = int(cedula[i]) * 2\n",
    "    # Validamos, si el resultado es mayor a 10, le restamos 9.\n",
    "    nums_proceso1.append(resultante if resultante < 10 else resultante - 9)\n",
    "\n",
    "# 2. Encontramos el número validador, resultante de sumar los número de la lista anterior.\n",
    "num_validador = 0\n",
    "for i in nums_proceso1:\n",
    "    num_validador += i\n",
    "\n",
    "# 3. Comparamos el ultimo dígito de la cedula con el último digito del número validador.\n",
    "#    Si último digito de la cédula es cero se compara directamente, caso contrario se realiza:\n",
    "#    10 - último digito del número validador y se compara.\n",
    "mensaje = f'\\nEl número de cédula: {cedula} '\n",
    "ultimo_digito = int(cedula[-1])\n",
    "digito_validador = int(str(num_validador)[-1])\n",
    "if ultimo_digito == 0: # Generamos un mensaje considerando las condiciones anteriores.\n",
    "    mensaje += 'es' if digito_validador == 0 else 'no es'\n",
    "else:\n",
    "    mensaje += 'es' if ultimo_digito == 10 - digito_validador else 'no es'\n",
    "\n",
    "# Imprimimos el mensaje por consola.\n",
    "print(f'{mensaje} válido.\\n')"
   ]
  }
 ],
 "metadata": {
  "kernelspec": {
   "display_name": "Python 3 (ipykernel)",
   "language": "python",
   "name": "python3"
  },
  "language_info": {
   "codemirror_mode": {
    "name": "ipython",
    "version": 3
   },
   "file_extension": ".py",
   "mimetype": "text/x-python",
   "name": "python",
   "nbconvert_exporter": "python",
   "pygments_lexer": "ipython3",
   "version": "3.9.7"
  }
 },
 "nbformat": 4,
 "nbformat_minor": 2
}
