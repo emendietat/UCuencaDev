{
 "cells": [
  {
   "cell_type": "markdown",
   "metadata": {},
   "source": [
    "# Sesión de ejercicios 6"
   ]
  },
  {
   "cell_type": "markdown",
   "metadata": {},
   "source": [
    "El objetivo de esta sesión de ejercicios es que el estudiante pueda entender las diferencias entre las tuplas, listas, y diccionarios. Además, cuando es mejor utilizar una u otra dependiendo del problema a resolver."
   ]
  },
  {
   "cell_type": "markdown",
   "metadata": {},
   "source": [
    "# Ejercicio 1"
   ]
  },
  {
   "cell_type": "markdown",
   "metadata": {},
   "source": [
    "La función `enumerate()` es típicamente usada en conjunto con bucles `for` para poder recorrer una lista o un rango, pero obteniendo al mismo tiempo los valores de la lista y el respectivo índice.\n",
    "\n",
    "Por ejemplo, si se desea recorrer una lista elemento por elemento y mostrar su posición en la lista, se podría hacerlo de la siguiente manera:"
   ]
  },
  {
   "cell_type": "code",
   "execution_count": null,
   "metadata": {},
   "outputs": [],
   "source": [
    "lista = ['a', 'b', 'c', 'd']\n",
    "\n",
    "indice = 0  # se debe crear una variable para manejar el índice de la lista\n",
    "for l in lista:  # se recorre elemento a elemento de la lista\n",
    "    print(l, '-', indice)\n",
    "    indice += 1  # la variable del indice debe actualizarce para la próxima iteración"
   ]
  },
  {
   "cell_type": "markdown",
   "metadata": {},
   "source": [
    "Sin embargo, esta solución requiere que el programador use una variable `indice` que debe ser actualizada dentro del bucle.  \n",
    "\n",
    "Una solución más óptima es usar la función `enumerate()` para de esta manera tener una variable que haga referencia a la posición del elemento dentro de la lista en cada iteración:"
   ]
  },
  {
   "cell_type": "code",
   "execution_count": null,
   "metadata": {},
   "outputs": [],
   "source": [
    "lista = ['a', 'b', 'c', 'd']\n",
    "\n",
    "for i, l in enumerate(lista):  # enumerate retorna 2 valores: la posición actual del elemento dentro de la lista, y el \n",
    "                               # elemento actual de la lista\n",
    "    print(l, '-', i)  # en la variable `i` se tiene la posición del elemento y en la variable `l` se tiene el elemento de la\n",
    "                      # lista"
   ]
  },
  {
   "cell_type": "markdown",
   "metadata": {},
   "source": [
    "Dada una lista de elementos, se requiere mostrar en pantalla únicamente los elementos que se encuentran en una posición par. Para este ejercicio utilizar la función `enumerate()`\n",
    "\n",
    "Salida esperada: ['e', 'o']"
   ]
  },
  {
   "cell_type": "code",
   "execution_count": null,
   "metadata": {},
   "outputs": [],
   "source": [
    "lista = ['a', 'e', 'i', 'o', 'u']  \n",
    "\n",
    "# Inserte su código aquí\n",
    "\n"
   ]
  },
  {
   "cell_type": "markdown",
   "metadata": {},
   "source": [
    "# Ejercicio 2"
   ]
  },
  {
   "cell_type": "markdown",
   "metadata": {},
   "source": [
    "Utilizando `list comprehensions`, cree una lista con los caractéres ubicados en las posiciones pares de un `string` previamente creado. El resultado deberá ser mostrado como una cadena de texto, no como la lista resultante. Ejemplo:\n",
    "\n",
    "Entrada: \"Esta es una frase con múltiples palabras\" <br>\n",
    "Salida: \"sae n rs o útpe aars\""
   ]
  },
  {
   "cell_type": "code",
   "execution_count": null,
   "metadata": {},
   "outputs": [],
   "source": [
    "palabra = \"Esta es una frase con múltiples palabras\"\n",
    "\n",
    "# Ingrese su código aquí\n",
    "\n"
   ]
  },
  {
   "cell_type": "markdown",
   "metadata": {},
   "source": [
    "# Ejercicio 3"
   ]
  },
  {
   "cell_type": "markdown",
   "metadata": {},
   "source": [
    "Usando `list comprehensions` crear 2 listas: $x=[1, 2, ..., 100]$ y $y=[10, 20, ..., 1000]$ y cree un algoritmo que genere y muestre en pantalla una nueva lista $z=[z_1, ..., z_N]$ donde $z_i=x_i+y_i, i \\in N$ donde $N$ es el número de elementos que existe en las listas $x$ y $y$"
   ]
  },
  {
   "cell_type": "code",
   "execution_count": null,
   "metadata": {},
   "outputs": [],
   "source": [
    "# Inserte su código aquí\n",
    "\n"
   ]
  },
  {
   "cell_type": "markdown",
   "metadata": {},
   "source": [
    "# Ejercicio 4"
   ]
  },
  {
   "cell_type": "markdown",
   "metadata": {},
   "source": [
    "Dada una cadena de texto ingresada por el usuario, crear una tupla que contenga únicamente los caractéres sin repetición. Por ejemplo:\n",
    "\n",
    "Entrada: \"esta es una cadena de texto\" <br>\n",
    "Salida: ('e', 's', 't', 'a', 'u', 'n', 'c', 'd', 'x', 'o')"
   ]
  },
  {
   "cell_type": "code",
   "execution_count": null,
   "metadata": {},
   "outputs": [],
   "source": [
    "# Insertar código aquí\n",
    "\n"
   ]
  },
  {
   "cell_type": "markdown",
   "metadata": {},
   "source": [
    "# Ejercicio 5"
   ]
  },
  {
   "cell_type": "markdown",
   "metadata": {},
   "source": [
    "Los diccionarios son estructuras de datos que son sumamente utilizadas en Python debido a su capacidad para almacenar valores que se referencian por claves (a diferencia de las listas que se referencian por posición).  A continuación se muestra como se puede crear un diccionario en tiempo de codificación"
   ]
  },
  {
   "cell_type": "code",
   "execution_count": null,
   "metadata": {},
   "outputs": [],
   "source": [
    "# Se crea un diccionario que almacene información de consumo energético de un cliente\n",
    "consumo = {\n",
    "    'enero': 500,\n",
    "    'febrero': 550,\n",
    "    'marzo': 600,\n",
    "    'abril': 601,\n",
    "}\n",
    "\n",
    "# un diccionario se referencia a través de sus claves.\n",
    "print(\"Consumo del mes de {:s} fue de {:d}\".format(\"enero\", consumo[\"enero\"]))"
   ]
  },
  {
   "cell_type": "markdown",
   "metadata": {},
   "source": [
    "Modifique la creación del diccionario anterior para que existan datos de consumo hasta el mes de agosto y calcule el valor promedio de consumo. Los valores pueden ser ingresados en tiempo de codificación."
   ]
  },
  {
   "cell_type": "code",
   "execution_count": null,
   "metadata": {},
   "outputs": [],
   "source": [
    "# Ingrese su código aquí\n",
    "\n"
   ]
  },
  {
   "cell_type": "markdown",
   "metadata": {},
   "source": [
    "# Ejercicio 6"
   ]
  },
  {
   "cell_type": "markdown",
   "metadata": {},
   "source": [
    "También se pueden ingresar valores a un diccionario en tiempo de ejecución. Para ellos simplemente se debe asignar un valor a una clave del diccionario (funciona incluso si la clave no existía previamente):"
   ]
  },
  {
   "cell_type": "code",
   "execution_count": null,
   "metadata": {},
   "outputs": [],
   "source": [
    "diccionario = dict()  # declaración de un diccionario vacío\n",
    "\n",
    "# asignación de valores al diccionario\n",
    "diccionario['enero'] = 500\n",
    "diccionario['febrero'] = 550\n",
    "diccionario['marzol'] = 600\n",
    "diccionario['abril'] = 601\n",
    "\n",
    "print(diccionario['febrero'])  # se muestra el valor de consumo de febrero"
   ]
  },
  {
   "cell_type": "markdown",
   "metadata": {},
   "source": [
    "Genere un código que adicione lecturas de consumo (hasta el mes de agosto) a la variable diccionario. Estos valores deberán ser ingresados por el usuario (en tiempo de ejecución). Al final del proceso mandar a mostrar todo el diccionario en pantalla"
   ]
  },
  {
   "cell_type": "code",
   "execution_count": null,
   "metadata": {},
   "outputs": [],
   "source": [
    "# Ingrese su código aquí\n",
    "\n"
   ]
  },
  {
   "cell_type": "markdown",
   "metadata": {},
   "source": [
    "# Ejercicio 7"
   ]
  },
  {
   "cell_type": "markdown",
   "metadata": {},
   "source": [
    "Otra de las razones para utilizar diccionarios es la capacidad que tiene para almacenar tipos de datos distintos en una estructura que tiene sentido lógico al programador. A continuación se muestra un ejemplo de un diccionario de varios niveles en donde se almacenan valores de distintos tipos."
   ]
  },
  {
   "cell_type": "code",
   "execution_count": null,
   "metadata": {},
   "outputs": [],
   "source": [
    "agenda = {\n",
    "    'Juan' : {\n",
    "        'celular': '08511214',\n",
    "        'telf. trabajo': '2225514',\n",
    "        'horario': [8, 12, 2, 18]\n",
    "    },\n",
    "    'Maria' : {\n",
    "        'celular': '08241214',\n",
    "        'telf. trabajo': '2244114',\n",
    "        'horario': [8, 12, 2, 18]\n",
    "    },\n",
    "    'Pedro' : {\n",
    "        'celular': '04171214',\n",
    "        'telf. trabajo': '2236414',\n",
    "        'horario': [8, 13, 2, 17]\n",
    "    },   \n",
    "}\n",
    "\n",
    "nombre = input(\"Ingrese un registro de su agenda: \")\n",
    "\n",
    "if nombre in agenda.keys():\n",
    "    print(\"El telefono celular de {:s} es {:s} y entra a trabajar a las {:d} horas\".format(nombre, \n",
    "                                                                                            agenda[nombre][\"celular\"], \n",
    "                                                                                            agenda[nombre][\"horario\"][0]))"
   ]
  },
  {
   "cell_type": "markdown",
   "metadata": {},
   "source": [
    "Crear una estructura similar a la del ejemplo anterior para que almacene varios teléfonos móviles de un contacto. Inicialmente la agenda estará vacía, y esta se irá actualizando a medida que el usuario ingrese datos. Adicionalmente, un contacto puede tener varios teléfonos móviles.  Crear un algoritmo que pida 5 veces al usuario un nombre de contacto y un teléfono móvil. Si el nombre no existe en la agenda, crear una una nueva entrada; de lo contrario, actualizar este contacto para que se inserte un nuevo teléfono movil.  "
   ]
  },
  {
   "cell_type": "code",
   "execution_count": null,
   "metadata": {},
   "outputs": [],
   "source": [
    "# Inserte su código aquí\n",
    "\n"
   ]
  },
  {
   "cell_type": "markdown",
   "metadata": {},
   "source": [
    "# Ejercicio 8"
   ]
  },
  {
   "cell_type": "markdown",
   "metadata": {},
   "source": [
    "Se requiere un programa que dada una frase, muestre los caractéres que no se repiten. Por ejemplo:\n",
    "\n",
    "Entrada: \"esta es una cadena de texto\" <br>\n",
    "Salida: \"ucxo\"\n",
    "\n",
    "Sugerencia: Puede crear un diccionario que contenga como claves cada uno de los caracteres de la entrada y además almacene el número de ocurrencias de los mismos.  Luego solo seleccionar los caracteres que aparezcan una sola vez"
   ]
  },
  {
   "cell_type": "code",
   "execution_count": null,
   "metadata": {},
   "outputs": [],
   "source": [
    "# Ingrese su código aquí\n",
    "\n"
   ]
  },
  {
   "cell_type": "markdown",
   "metadata": {},
   "source": [
    "# Ejercicio 9"
   ]
  },
  {
   "cell_type": "markdown",
   "metadata": {},
   "source": [
    "Se requiere la creación de un programa para manejar la ubicación de unos robots en una localización geográfica. Se asume que la ubicación geográfica está subdividida en varias zonas que tienen un identificador único. Para inicializar el estado de los robots, el programa aceptará una cadena de texto con el siguiente formato:\n",
    "\n",
    "`<idRobot1>:<idUbicacion>,<idRobot2>:<idUbicacion>,...,<idRobotN>:<idUbicacion>`\n",
    "    \n",
    "Posteriormente, se le pedirá al usuario la identificación de una ubicación y el programa mostrará cuantos robots se encuentran actualmente en esa zona. Por ejemplo:\n",
    "\n",
    "Inicialización: `001:a001,002:a001,003:b001,004:a001,005:b002,006:b003` <br>\n",
    "Entrada: \"a001\" <br>\n",
    "Salida: \"En la zona a001 existen 3 robots\""
   ]
  },
  {
   "cell_type": "code",
   "execution_count": null,
   "metadata": {},
   "outputs": [],
   "source": [
    "# Ingrese su código aquí\n",
    "\n"
   ]
  },
  {
   "cell_type": "markdown",
   "metadata": {},
   "source": [
    "# Ejercicio 10"
   ]
  },
  {
   "cell_type": "markdown",
   "metadata": {},
   "source": [
    "Este ejercicio tiene por objeto que el alumno trabaje con datos reales y obtenga información de relevancia. Para ello, se define una función `leer_datos()` que lee datos de un archivo conteniendo información sobre la tasa de crimen y robos por cada 100000 habitantes en USA. Esta función retorna 3 listas: year (año), vcr (violent crime rate), y rr (robbery rate). El estudiante no debe modificar nada de esta función, simplemente usar ejecutar el código para obtener las 3 listas antes descritas.\n",
    "\n",
    "Ejecute el código acontinuación para que se muestre la información del dataset"
   ]
  },
  {
   "cell_type": "code",
   "execution_count": null,
   "metadata": {},
   "outputs": [],
   "source": [
    "import pandas as pd\n",
    "\n",
    "def leer_datos(imprimir=False):\n",
    "    \"\"\"Función para leer los datos del dataset crime_usa\n",
    "    \n",
    "    Returns\n",
    "    year: list, lista conteniendo los años en los que se realizaron mediciones\n",
    "    vcr: list, violent crime rate de cada año descrito en year\n",
    "    rr: list, robbery rate de cada año descrito en year\n",
    "    \"\"\"\n",
    "    ds = pd.read_csv(\"crime_usa.csv\", header=0, index_col=0, sep=',')\n",
    "    \n",
    "    if imprimir:\n",
    "        print(ds)  # muestra la estructura del dataset\n",
    "    \n",
    "    return list(ds.index), list(ds.violent_crime_rate), list(ds.robbery_rate)\n",
    "\n",
    "year, vcr, rr = leer_datos(imprimir=True)"
   ]
  },
  {
   "cell_type": "markdown",
   "metadata": {},
   "source": [
    "Cree código para obtener la siguiente información:\n",
    "\n",
    "- Año en el que la tasa de crímenes violentos fue la menor. También mostrar el valor de la tasa\n",
    "- Año en el que la tasa de robos fue la menor. También mostrar el valor de la tasa\n",
    "- Año en el que la tasa de crímenes violentos fue la mayor. También mostrar el valor de la tasa\n",
    "- Año en el que la tasa de robos fue la mayor. También mostrar el valor de la tasa"
   ]
  },
  {
   "cell_type": "code",
   "execution_count": null,
   "metadata": {},
   "outputs": [],
   "source": [
    "year, vcr, rr = leer_datos()\n",
    "\n",
    "# Inserte su código aquí\n",
    "\n"
   ]
  },
  {
   "cell_type": "markdown",
   "metadata": {},
   "source": [
    "Haciendo uso de un diccionario, cree una estructura en donde se tengan 3 categorías de crímenes violentos: (1) baja (0-400), (2) media (400-500); y, (3) alta (>500). Por cada categoría, almacenar el promedio de la tasa de críemenes violentos y los años que se encasillan en esta categoría.\n",
    "\n",
    "Al final mostrar el diccionario creado.\n",
    "\n",
    "Salida esperada: {'baja': {'anios': [2011, 2012, 2013, 2014, 20156, 2016], 'promedio': 5037.0}, 'media': {'anios': [2002, 2003, 2004, 2005, 2006, 2007, 2008, 2009, 2010], 'promedio': 2006.0}, 'alta': {'anios': [1997, 1998, 1999, 2000, 20015], 'promedio': 5601.8}}"
   ]
  },
  {
   "cell_type": "code",
   "execution_count": null,
   "metadata": {},
   "outputs": [],
   "source": [
    "# Inserte su código aquí\n",
    "\n"
   ]
  }
 ],
 "metadata": {
  "kernelspec": {
   "display_name": "Python 3",
   "language": "python",
   "name": "python3"
  },
  "language_info": {
   "codemirror_mode": {
    "name": "ipython",
    "version": 3
   },
   "file_extension": ".py",
   "mimetype": "text/x-python",
   "name": "python",
   "nbconvert_exporter": "python",
   "pygments_lexer": "ipython3",
   "version": "3.7.3"
  }
 },
 "nbformat": 4,
 "nbformat_minor": 2
}
