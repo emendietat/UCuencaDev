{
 "cells": [
  {
   "cell_type": "markdown",
   "metadata": {},
   "source": [
    "# Sesión de ejercicios 7"
   ]
  },
  {
   "cell_type": "markdown",
   "metadata": {},
   "source": [
    "El objetivo de esta sesión de ejercicios es que el estudiante entienda y ponga en práctica los conceptos básicos de las funciones en Python.  Las funciones son bloques de código que implementan una funcionalidad específica. También ayudan a mantener el código compacto, al no ser necesario repetir el código cada vez que se tenga que utilizar."
   ]
  },
  {
   "cell_type": "markdown",
   "metadata": {},
   "source": [
    "# Ejercicio 1"
   ]
  },
  {
   "cell_type": "markdown",
   "metadata": {},
   "source": [
    "Las funciones en Python se definen a través de la palabra clave `def`, un nombre de función, y los parámetros necesarios (si es que estos son requeridos). A continuación un ejemplo de una función que suma 2 números y retorna el resultado"
   ]
  },
  {
   "cell_type": "code",
   "execution_count": 1,
   "metadata": {},
   "outputs": [
    {
     "name": "stdout",
     "output_type": "stream",
     "text": [
      "15\n"
     ]
    }
   ],
   "source": [
    "def my_suma(x, y):\n",
    "    \"\"\"Función que suma dos valores numéricos\n",
    "    \n",
    "    Parametros\n",
    "    ----------\n",
    "    x : valor númerico\n",
    "      primer valor a ser sumado\n",
    "    y: valor numéricos\n",
    "      segundo valor a ser sumado\n",
    "    \n",
    "    Retorna\n",
    "    -------\n",
    "    x+y : valor numérico\n",
    "      retorna la suma de los 2 numeros    \n",
    "    \"\"\"\n",
    "    return x+y\n",
    "\n",
    "suma = my_suma(5, 10)\n",
    "print(suma)"
   ]
  },
  {
   "cell_type": "markdown",
   "metadata": {},
   "source": [
    "En este ejemplo, la función implementada es muy simple y solo sirve para propósitos ilustrativos (no es buena práctica crear funciones tan simples si no es necesario). Hay que notar que toda función debe tener su documentación. Toda documentación de funciones debe tener una descripción general de lo que hace una función, una descripción individual de los parámetros, y una descripción de los valores de retorno.\n",
    "\n",
    "En Python, se puede ingresar un bloque completo de comentarios a través de los caracteres `\"\"\"`.\n",
    "\n",
    "Los parámetros y valores de retorno, deben ser descritos individualmente, primero su tipo de dato, e.j. float, list, str, etc., y a continuación una descripción de los mismos (ver ejemplo anterior).\n",
    "\n",
    "A continuación, implemente una función que reciba como parámetro de entrada una lista con números y retorne la sumatoria de los mismos."
   ]
  },
  {
   "cell_type": "code",
   "execution_count": 2,
   "metadata": {},
   "outputs": [
    {
     "name": "stdout",
     "output_type": "stream",
     "text": [
      "21\n"
     ]
    }
   ],
   "source": [
    "def suma_lista(x):\n",
    "    \"\"\"Calcula la sumatoria de elmentos de la lista `x`\n",
    "    \n",
    "    Parametros\n",
    "    ----------\n",
    "    x : list\n",
    "      lista numérica\n",
    "      \n",
    "    Retorna\n",
    "    -------\n",
    "    suma : float\n",
    "      sumatoria de los elementos de la lista `x`\n",
    "    \"\"\"\n",
    "    suma = 0\n",
    "    for i in x:\n",
    "        suma += i\n",
    "\n",
    "    return suma\n",
    "\n",
    "\n",
    "# para probar la implementación de la función\n",
    "lista = [1, 2, 3, 4, 5, 6]\n",
    "print(suma_lista(lista))"
   ]
  },
  {
   "cell_type": "markdown",
   "metadata": {},
   "source": [
    "# Ejercicio 2"
   ]
  },
  {
   "cell_type": "markdown",
   "metadata": {},
   "source": [
    "Para entender de mejor manera el flujo de programa cuando se usan funciones, se plantea el siguiente ejemplo. Ejecútelo y analice los mensajes y salidas"
   ]
  },
  {
   "cell_type": "code",
   "execution_count": 3,
   "metadata": {},
   "outputs": [
    {
     "name": "stdout",
     "output_type": "stream",
     "text": [
      "Inicio del programa principal\n",
      "El programa está en la función 1\n",
      "De regreso al programa principal\n",
      "El programa está en la función 2\n",
      "De regreso al programa principal\n",
      "El programa está en la función 3\n",
      "De regreso al programa principal\n",
      "la salida de la función 3 fue:  21\n"
     ]
    }
   ],
   "source": [
    "def funcion1():\n",
    "    print(\"El programa está en la función 1\")\n",
    "\n",
    "    \n",
    "def funcion2():\n",
    "    print(\"El programa está en la función 2\")\n",
    "\n",
    "    \n",
    "def funcion3(l):\n",
    "    print(\"El programa está en la función 3\")\n",
    "    return sum(l)\n",
    "\n",
    "\n",
    "print(\"Inicio del programa principal\")\n",
    "lista = [1, 2, 3, 4, 5, 6]\n",
    "\n",
    "funcion1()\n",
    "print(\"De regreso al programa principal\")\n",
    "\n",
    "funcion2()\n",
    "print(\"De regreso al programa principal\")\n",
    "\n",
    "suma = funcion3(lista)\n",
    "print(\"De regreso al programa principal\")\n",
    "print(\"la salida de la función 3 fue: \", suma)"
   ]
  },
  {
   "cell_type": "markdown",
   "metadata": {},
   "source": [
    "Modifique el código anterior para que la función 3 acepte 2 parámetros: l1 y l2, ambas listas de números, y retorne la sumatoria de todos los elementos"
   ]
  },
  {
   "cell_type": "code",
   "execution_count": 4,
   "metadata": {},
   "outputs": [
    {
     "name": "stdout",
     "output_type": "stream",
     "text": [
      "Inicio del programa principal\n",
      "El programa está en la función 1\n",
      "De regreso al programa principal\n",
      "El programa está en la función 2\n",
      "De regreso al programa principal\n",
      "El programa está en la función 3\n",
      "De regreso al programa principal\n",
      "la salida de la función 3 fue:  67\n"
     ]
    }
   ],
   "source": [
    "def funcion1():\n",
    "    print(\"El programa está en la función 1\")\n",
    "\n",
    "\n",
    "def funcion2():\n",
    "    print(\"El programa está en la función 2\")\n",
    "\n",
    "\n",
    "def funcion3(l1, l2):\n",
    "    '''Calcula la sumatoria entre 2 listas\n",
    "    \n",
    "    Parametros\n",
    "    ----------\n",
    "    l1 y l2 : list\n",
    "      listas numéricas\n",
    "      \n",
    "    Retorna\n",
    "    -------\n",
    "    suma : float\n",
    "      sumatoria de los elementos de las listas 'l1' y 'l2'\n",
    "    '''\n",
    "    print(\"El programa está en la función 3\")\n",
    "\n",
    "    return sum(l1) + sum(l2)\n",
    "\n",
    "\n",
    "print(\"Inicio del programa principal\")\n",
    "lista1 = [1, 2, 3, 4, 5, 6]\n",
    "lista2 = [10, 11, 12, 13]\n",
    "\n",
    "funcion1()\n",
    "print(\"De regreso al programa principal\")\n",
    "\n",
    "funcion2()\n",
    "print(\"De regreso al programa principal\")\n",
    "\n",
    "suma = funcion3(lista1, lista2)\n",
    "print(\"De regreso al programa principal\")\n",
    "print(\"la salida de la función 3 fue: \", suma)"
   ]
  },
  {
   "cell_type": "markdown",
   "metadata": {},
   "source": [
    "# Ejercicio 3"
   ]
  },
  {
   "cell_type": "markdown",
   "metadata": {},
   "source": [
    "Muchas veces es necesario retornar más de un valor desde una función. Esto es posible en Python, pero no en otros lenguajes de programación como Java.\n",
    "\n",
    "A continuación un ejemplo de una función que retorna el valor máximo de una lista y el valor mínimo de la misma. Para ello simplemente se le agregan más valores de retorno luego de la palabra clave `return`"
   ]
  },
  {
   "cell_type": "code",
   "execution_count": 5,
   "metadata": {},
   "outputs": [
    {
     "name": "stdout",
     "output_type": "stream",
     "text": [
      "100.0 0.0\n"
     ]
    }
   ],
   "source": [
    "def max_min_lista(lista):\n",
    "    \"\"\"Retorna el valor máximo y el mínimo de una lista `lista`\n",
    "    \n",
    "    Parametros\n",
    "    ----------\n",
    "    lista :  list\n",
    "      lista con valores numéricos\n",
    "      \n",
    "    Retorna\n",
    "    -------\n",
    "    max(lista) : float\n",
    "      valor máximo de la lista `lista`\n",
    "      \n",
    "    min(lista) : float\n",
    "      valor mínimo de la lista `lista`\n",
    "    \"\"\"\n",
    "    return float(max(lista)), float(min(lista))\n",
    "\n",
    "\n",
    "lista = [1, 100, 0, 55]\n",
    "max_lista, min_lista = max_min_lista(lista)  # desempaquetando valores de retorno\n",
    "print(max_lista, min_lista)"
   ]
  },
  {
   "cell_type": "markdown",
   "metadata": {},
   "source": [
    "Crear una función que reciba como parámetro una lista y un valor entero que represente un índice dentro de la lista. Esta función deberá retornar, el valor de la lista ubicado en la posición dada; y, además la sumatoria de valores de la lista hasta ese elemento. Por ejemplo:\n",
    "\n",
    "lista : [1, 2, 3, 4, 5, 6] <br>\n",
    "indice : 3 <br>\n",
    "valores retornados : 4, 10  (4 -> item en la posición 4. 10 -> suma de números hasta la posición 3 de la lista) <br>"
   ]
  },
  {
   "cell_type": "code",
   "execution_count": 2,
   "metadata": {},
   "outputs": [
    {
     "name": "stdout",
     "output_type": "stream",
     "text": [
      "4 10\n"
     ]
    }
   ],
   "source": [
    "# implemente el cuerpo de la función\n",
    "\n",
    "def calcula_elemento_suma(lista, indice):\n",
    "    \"\"\"Retorna el elemento de la `lista` en la posición `indice` y la sumatoria de elementos hasta dicho elemento\n",
    "    \n",
    "    Parametros\n",
    "    ----------\n",
    "    lista : list\n",
    "      lista de números\n",
    "      \n",
    "    indice : int\n",
    "      indice de la lista `lista`\n",
    "      \n",
    "    Retorna\n",
    "    -------\n",
    "    elemento : int\n",
    "      elemento de la lista que será retornado\n",
    "      \n",
    "    suma : int\n",
    "      sumatoria de los elementos de la lista hasta el elemento seleccionado\n",
    "    \"\"\"\n",
    "    suma = 0\n",
    "    elemento = 0\n",
    "    if indice < len(lista):\n",
    "        for index, value in enumerate(lista):\n",
    "            if index <= indice:\n",
    "                elemento = value\n",
    "                suma += value\n",
    "    return elemento, suma\n",
    "\n",
    "\n",
    "\n",
    "# para probar el código\n",
    "lista = [1, 2, 3, 4, 5, 6]\n",
    "e, s = calcula_elemento_suma(lista, 3)\n",
    "print(e, s)"
   ]
  },
  {
   "cell_type": "markdown",
   "metadata": {},
   "source": [
    "# Ejercicio 4"
   ]
  },
  {
   "cell_type": "markdown",
   "metadata": {},
   "source": [
    "Escriba una funcion `es_primo(n)` que dado un numero, retorne verdadero si el numero es primo, de lo contrario retorna falso.\n",
    "\n",
    "Nota: A excepcion del 2 y 3, todo numero primo tiene la forma $6k+1$ o $6k-1$. Aunque no todos los que tienen esta forma son primos."
   ]
  },
  {
   "cell_type": "code",
   "execution_count": 8,
   "metadata": {
    "scrolled": true
   },
   "outputs": [
    {
     "name": "stdout",
     "output_type": "stream",
     "text": [
      "Ingrese un número: 10\n",
      "El número ingresado no es primo\n"
     ]
    }
   ],
   "source": [
    "# Escriba su codigo aqui\n",
    "\n",
    "def es_primo(n):\n",
    "    \"\"\"\n",
    "    Función que verifica si un número `n` es primo o no\n",
    "\n",
    "    Parametros\n",
    "    ----------\n",
    "    n : int\n",
    "      número a ser verificado\n",
    "\n",
    "    Retorna\n",
    "    -------\n",
    "    res : bool\n",
    "      verdadero si el número es primo, falso caso contrario\n",
    "    \"\"\"\n",
    "    if n == 2 or n == 3:\n",
    "        return True\n",
    "    else:\n",
    "        if (n - 1) % 6 == 0 or (n + 1) % 6 == 0:\n",
    "            for i in range(2, n):\n",
    "                if n % i == 0:\n",
    "                    return False\n",
    "            return True\n",
    "        return False\n",
    "\n",
    "\n",
    "numero = int(input(\"Ingrese un número: \"))\n",
    "if es_primo(numero):\n",
    "    print(\"El número ingresado es primo\")\n",
    "else:\n",
    "    print(\"El número ingresado no es primo\")"
   ]
  },
  {
   "cell_type": "markdown",
   "metadata": {},
   "source": [
    "# Ejercicio 5"
   ]
  },
  {
   "cell_type": "markdown",
   "metadata": {},
   "source": [
    "Escriba una funcion `n_primos(n)` que devuelva una lista con los $n$ primeros numeros primos. Por ejemplo:\n",
    "\n",
    "`print(n_primos(10))` deberá mostrar como salida: [1, 2, 3, 5, 7, 11, 13, 17, 19, 23]"
   ]
  },
  {
   "cell_type": "code",
   "execution_count": 9,
   "metadata": {},
   "outputs": [
    {
     "name": "stdout",
     "output_type": "stream",
     "text": [
      "[1, 2, 3, 5, 7, 11, 13, 17, 19, 23]\n"
     ]
    }
   ],
   "source": [
    "def n_primos(n):\n",
    "    \"\"\"\n",
    "    Función que genera una lista con los primeros `n` números primos\n",
    "\n",
    "    Parametros\n",
    "    ----------\n",
    "    n : int\n",
    "      cantidad de números primos a generar\n",
    "\n",
    "    Retorna\n",
    "    -------\n",
    "    primos :  list\n",
    "      lista con los números primos generados\n",
    "    \"\"\"\n",
    "    lista_primos = []\n",
    "    cont = 0\n",
    "    numero = 1\n",
    "    while cont < n:\n",
    "        if es_primo(numero):\n",
    "            lista_primos.append(numero)\n",
    "            cont += 1\n",
    "        numero += 1\n",
    "    return lista_primos\n",
    "\n",
    "print(n_primos(10))"
   ]
  },
  {
   "cell_type": "markdown",
   "metadata": {},
   "source": [
    "# Ejercicio 6"
   ]
  },
  {
   "cell_type": "markdown",
   "metadata": {},
   "source": [
    "Muchas veces se requiere llamar a una función dentro de otra. Esto es factible en cualquier lenguaje de programación. Para ello, analizar el ejemplo siguiente en términos de flujo de programa"
   ]
  },
  {
   "cell_type": "code",
   "execution_count": 7,
   "metadata": {},
   "outputs": [
    {
     "name": "stdout",
     "output_type": "stream",
     "text": [
      "Inicio del programa principal\n",
      "El programa está en la función 1\n",
      "El programa está en la función 2\n",
      "De regreso a función 1\n",
      "De regreso al programa principal\n",
      "El programa está en la función 3\n",
      "El programa está en la función 1\n",
      "El programa está en la función 2\n",
      "De regreso a función 1\n",
      "De regreso al programa principal\n",
      "la salida de la función 3 fue:  21\n"
     ]
    }
   ],
   "source": [
    "def funcion1():\n",
    "    print(\"El programa está en la función 1\")\n",
    "    funcion2()\n",
    "    print(\"De regreso a función 1\")\n",
    "\n",
    "    \n",
    "def funcion2():\n",
    "    print(\"El programa está en la función 2\")\n",
    "\n",
    "    \n",
    "def funcion3(l):\n",
    "    print(\"El programa está en la función 3\")\n",
    "    funcion1()\n",
    "    return sum(l)\n",
    "\n",
    "\n",
    "print(\"Inicio del programa principal\")\n",
    "lista = [1, 2, 3, 4, 5, 6]\n",
    "\n",
    "funcion1()\n",
    "print(\"De regreso al programa principal\")\n",
    "\n",
    "suma = funcion3(lista)\n",
    "print(\"De regreso al programa principal\")\n",
    "print(\"la salida de la función 3 fue: \", suma)"
   ]
  },
  {
   "cell_type": "markdown",
   "metadata": {},
   "source": [
    "Para evitar que el flujo de programa se complique demasiado, cada función debe ser implementada teniendo en cuenta una funcionalidad específica. De esta forma, cada función tiene un sentido lógico fácil de describir."
   ]
  },
  {
   "cell_type": "markdown",
   "metadata": {},
   "source": [
    "El siguiente codigo muestra los valores a pagar por usuario dependiendo de la cantidad de consumo. Analice el codigo acontinuacion. Tiene sentido?"
   ]
  },
  {
   "cell_type": "code",
   "execution_count": 10,
   "metadata": {
    "scrolled": true
   },
   "outputs": [
    {
     "name": "stdout",
     "output_type": "stream",
     "text": [
      "Usuario             Valor a pagar\n",
      "-----------------------------------\n",
      "juan                    300.00\n",
      "carlos                  800.00\n",
      "maria                   150.00\n",
      "pedro                   300.00\n",
      "juana                  1500.00\n"
     ]
    }
   ],
   "source": [
    "def calcular_costo(valor, categoria):\n",
    "    \"\"\"Funcion que calcula el valor a pagar por un usuario, teniendo en cuenta el valor de consumo y la \n",
    "    categoria del usuario\n",
    "    \n",
    "    Parametros\n",
    "    ----------\n",
    "    valor : float\n",
    "      valor de consumo\n",
    "      \n",
    "    categoria : str\n",
    "      categoria de consumo\n",
    "      \n",
    "    Retorna\n",
    "    -------\n",
    "    valor*tarifa : float\n",
    "      valor a pagar por el consumo\n",
    "    \"\"\"\n",
    "    # define los valores de las tarifas en funcion de la categoria\n",
    "    tarifa = {\n",
    "        \"bajo\": 3,\n",
    "        \"medio\": 4,\n",
    "        \"alto\": 5\n",
    "    }\n",
    "    \n",
    "    # calcula el valor a pagar\n",
    "    return valor*tarifa[categoria]\n",
    "\n",
    "\n",
    "def imprimir_planilla(usuarios):\n",
    "    \"\"\"Imprimie la planilla con los valores a pagar por cada uno de los usuarios del diccionario `usuarios`\n",
    "    \n",
    "    Parametros\n",
    "    ----------\n",
    "    usuarios : dict\n",
    "      diccionario con los usuarios y sus consumos\n",
    "    \"\"\"\n",
    "    # muestra la cabecera de la impresion\n",
    "    print(\"{:20s}{:10s}\".format(\"Usuario\", \"Valor a pagar\"))\n",
    "    print(\"-\"*35)\n",
    "    \n",
    "    # recorre uno a uno los usuarios\n",
    "    for d in usuarios.keys():\n",
    "        consumo = usuarios[d]  # extra el consumo del usuario actual\n",
    "        \n",
    "        # determina la categoria del consumo\n",
    "        if consumo <= 100:\n",
    "            categoria = \"bajo\"\n",
    "        elif consumo <= 200:\n",
    "            categoria = \"medio\"\n",
    "        else:\n",
    "            categoria = \"alto\"\n",
    "        \n",
    "        # muestra el usuario y su consumo\n",
    "        print(\"{:20s}{:10.2f}\".format(d, calcular_costo(consumo, categoria)))  # se llama a la funcion calcular_costo\n",
    "\n",
    "        \n",
    "# usuarios y sus consumos        \n",
    "usuarios = {\n",
    "    \"juan\": 100,\n",
    "    \"carlos\": 200,\n",
    "    \"maria\": 50,\n",
    "    \"pedro\": 100,\n",
    "    \"juana\": 300\n",
    "}\n",
    "\n",
    "# se llama a la funcion para imprimir la planilla de valores a pagarb\n",
    "imprimir_planilla(usuarios)"
   ]
  },
  {
   "cell_type": "markdown",
   "metadata": {},
   "source": [
    "Hay que notar que hay funciones que devuelven uno o varios valores, e.j. `calcular_costo()` y hay otras que no devuelven ningun valor, e.j. `imprimir_planilla()`. Esto es valido en programacion; no todas las funciones deben retornar valores, todo depende lo que se planee implementar."
   ]
  },
  {
   "cell_type": "markdown",
   "metadata": {},
   "source": [
    "Modifique el codigo anterior para que tenga en cuenta el consumo en horas de dia y de noche. Se asume que los costos de consumo en la noche son menores. Cada usuario tendra asignado un valor de consumo durante el dia y un valor de consumo durante la noche. El valor total a pagar sera la sumatoria de los valores de consumo de dia y de noche."
   ]
  },
  {
   "cell_type": "code",
   "execution_count": 1,
   "metadata": {},
   "outputs": [
    {
     "name": "stdout",
     "output_type": "stream",
     "text": [
      "Usuario             Valor a pagar\n",
      "-----------------------------------\n",
      "juan                    183.00\n",
      "carlos                  400.00\n",
      "maria                   301.00\n",
      "pedro                   650.00\n",
      "juana                   333.00\n"
     ]
    }
   ],
   "source": [
    "def calcular_costo(consumos):\n",
    "    \"\"\"Funcion que calcula el valor a pagar por un usuario, teniendo en cuenta el valor de consumo y la\n",
    "    categoria del usuario\n",
    "    Parametros\n",
    "    ----------\n",
    "    consumos : dict\n",
    "      contiene los valores a pagar en el dia y la noche\n",
    "    Retorna\n",
    "    -------\n",
    "    total_pagar : float\n",
    "      valor a pagar por el consumo\n",
    "    \"\"\"\n",
    "    # define una tarifa en dolares por consumo de energía\n",
    "    tarifa = {\n",
    "        \"consumo_dia\": 1.5,\n",
    "        \"consumo_noche\": 1,\n",
    "    }\n",
    "\n",
    "    # Calculamos el valor a pagar\n",
    "    total_pagar = 0\n",
    "    for key, value in consumos.items():\n",
    "        total_pagar += value * tarifa[key]\n",
    "\n",
    "    return total_pagar\n",
    "\n",
    "\n",
    "def imprimir_planilla(usuarios):\n",
    "    \"\"\"Imprimie la planilla con los valores a pagar por cada uno de los usuarios del diccionario `usuarios`\n",
    "    Parametros\n",
    "    ----------\n",
    "    usuarios : dict\n",
    "      diccionario con los usuarios y sus consumos\n",
    "    \"\"\"\n",
    "    # muestra la cabecera de la impresion\n",
    "    print(\"{:20s}{:10s}\".format(\"Usuario\", \"Valor a pagar\"))\n",
    "    print(\"-\"*35)\n",
    "    \n",
    "    for key in usuarios.keys():\n",
    "        total_pagar = calcular_costo(usuarios[key])\n",
    "        print(\"{:20s}{:10.2f}\".format(key, total_pagar))\n",
    "\n",
    "\n",
    "# usuarios y sus consumos de día y de noche\n",
    "usuarios = {\n",
    "    \"juan\": {\"consumo_dia\": 100, \"consumo_noche\": 33},\n",
    "    \"carlos\": {\"consumo_dia\": 200, \"consumo_noche\": 100},\n",
    "    \"maria\": {\"consumo_dia\": 150, \"consumo_noche\": 76},\n",
    "    \"pedro\": {\"consumo_dia\": 300, \"consumo_noche\": 200},\n",
    "    \"juana\": {\"consumo_dia\": 22, \"consumo_noche\": 300},\n",
    "}\n",
    "\n",
    "# se llama a la funcion para imprimir la planilla de valores a pagarb\n",
    "imprimir_planilla(usuarios)"
   ]
  }
 ],
 "metadata": {
  "kernelspec": {
   "display_name": "Python 3 (ipykernel)",
   "language": "python",
   "name": "python3"
  },
  "language_info": {
   "codemirror_mode": {
    "name": "ipython",
    "version": 3
   },
   "file_extension": ".py",
   "mimetype": "text/x-python",
   "name": "python",
   "nbconvert_exporter": "python",
   "pygments_lexer": "ipython3",
   "version": "3.9.12"
  },
  "widgets": {
   "application/vnd.jupyter.widget-state+json": {
    "state": {},
    "version_major": 2,
    "version_minor": 0
   }
  }
 },
 "nbformat": 4,
 "nbformat_minor": 4
}
