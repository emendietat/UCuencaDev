{
 "cells": [
  {
   "cell_type": "markdown",
   "id": "88bdef99",
   "metadata": {},
   "source": [
    "# Exámen Interciclo - Programación Orientada a las Telecomunicaciones"
   ]
  },
  {
   "cell_type": "markdown",
   "id": "63c104f3",
   "metadata": {},
   "source": [
    "Esta prueba tiene una valoración de 20 puntos y está diseñada para ser resuelta en 1.5 horas. Para la misma, leer cuidadosamente la siguiente información:\n",
    "- El archivo resultante deberá ser subido a la plataforma evirtual con el siguiente formato de nombre, si su nombre es Juan Perez Machado, su archivo será PerezM.ipynb\n",
    "- El enlace en el evirtual es la única forma de subir el archivo. Considerar que el mismo estará abierto hasta las 11 am en punto\n",
    "- Leer cuidadosamente la pregunta\n",
    "- Cada pregunta será evaluada en términos de orden, comentarios, correcto uso de funciones, completitud y calidad de la solución\n",
    "- Durante la evaluación, el alumno no podrá acceder a ninguna fuente adicional digital de información\n",
    "- Durante la evaluación, el alumno no podrá hacer uso de ningún medio de comunicación"
   ]
  },
  {
   "cell_type": "markdown",
   "id": "aa6954cf",
   "metadata": {},
   "source": [
    "## Pregunta 1 (5 puntos)\n",
    "\n",
    "Se requiere escribir un programa que dada una lista de listas conteniendo números enteros, genere una lista de una sola dimensión contenido todos los números. Esta operación comúnmente se conoce como aplanar una lista. Esta lista además, deberá ser ordenada de forma descendente. Por ejemplo: <br><br>\n",
    "Entrada: [[1, 12, 3], [100, 13, 22, 0], [15, 30]] <br>\n",
    "Salida: [100, 30, 22, 15, 13, 12, 3, 1, 0]\n",
    "\n",
    "Para solucionar este ejercicio, el alumno no podrá hacer uso de ninguna función preestablecida en Python.\n"
   ]
  },
  {
   "cell_type": "code",
   "execution_count": null,
   "id": "c9ee8033",
   "metadata": {},
   "outputs": [],
   "source": [
    "# insertar su código aquí\n",
    "\n"
   ]
  },
  {
   "cell_type": "markdown",
   "id": "2103aa62",
   "metadata": {},
   "source": [
    "## Pregunta 2 (15 puntos)\n",
    "\n",
    "Se requiere crear un programa para encriptar un mensaje. La lógica es la siguiente: el mensaje original será transformado moviendo las posiciones de los caracteres en base a la lista numérica provista. Para este ejercicio, se le debe pedir al usuario una `frase` y el `pad`. El pad podrá ser cualquier número de 3 cifras. Por ejemplo: <br><br>\n",
    "Frase: el zorro es una pelicula vieja <br>\n",
    "pad: 123 <br>\n",
    "salida: fn aqusq fu vpd rhmkfvnd xlfld <br>\n",
    "\n",
    "Analizando la salida: <br>\n",
    "e -> f movido una posición <br>\n",
    "l -> n movido dos posiciones <br>\n",
    "“ “ -> los caracteres vacíos no se transforman  <br>\n",
    "z -> a movido una posición<br>\n",
    "o -> q movido dos posiciones<br>\n",
    "r -> u movido tres posiciones\n",
    "\n",
    "Entonces, pad es una secuencia con números que se reutiliza para el proceso. Además, las posiciones del alfabeto pueden verse como circulares; es decir, si se debe mover z dos posiciones, el resultado será b\n",
    "Ayuda: El siguiente código genera una lista con los caracteres de la a-z:\n",
    "\n",
    "<code>list(map(chr, range(97, 123)))  # [‘a’, ‘b’, ‘c’, …, ‘x’, ‘y’, ‘z’] </code>"
   ]
  },
  {
   "cell_type": "code",
   "execution_count": null,
   "id": "7be12352",
   "metadata": {},
   "outputs": [],
   "source": [
    "# insertar su código aquí\n",
    "\n"
   ]
  }
 ],
 "metadata": {
  "kernelspec": {
   "display_name": "Python 3",
   "language": "python",
   "name": "python3"
  },
  "language_info": {
   "codemirror_mode": {
    "name": "ipython",
    "version": 3
   },
   "file_extension": ".py",
   "mimetype": "text/x-python",
   "name": "python",
   "nbconvert_exporter": "python",
   "pygments_lexer": "ipython3",
   "version": "3.7.3"
  },
  "widgets": {
   "application/vnd.jupyter.widget-state+json": {
    "state": {},
    "version_major": 2,
    "version_minor": 0
   }
  }
 },
 "nbformat": 4,
 "nbformat_minor": 5
}
