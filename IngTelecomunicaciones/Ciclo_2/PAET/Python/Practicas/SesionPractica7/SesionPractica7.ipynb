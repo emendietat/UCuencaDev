{
 "cells": [
  {
   "cell_type": "markdown",
   "metadata": {},
   "source": [
    "# Sesión de ejercicios 8"
   ]
  },
  {
   "cell_type": "markdown",
   "metadata": {},
   "source": [
    "El objetivo de esta sesión de ejercicios es que el estudiante aprenda a determinar cuando implementar una función y como invocarla correctamente. Adicionalmente, el estudiante debe aplicar la documentación adecuada desde el punto de vista del usuario y programador. Finalmente, que el estudiante cree y aplique funciones a problemas reales para de esta forma implementar código más legible y menos propenso a errores.\n",
    "\n",
    "En esta sesión también los estudiantes tendrán la oportunidad de probar la funcionalidad del Sense Hat mediante un emulador en línea. "
   ]
  },
  {
   "cell_type": "markdown",
   "metadata": {},
   "source": [
    "# Ejercicio 1"
   ]
  },
  {
   "cell_type": "markdown",
   "metadata": {},
   "source": [
    "El módulo Sense HAT es una placa electrónica que se adiciona al Raspberry Pi. Tiene una pantalla RGB LED de 8x8 elementos, un joystick de 5 botones, e inclue los siguientes sensores:\n",
    "\n",
    "- Giroscopio\n",
    "- Acelerómetro\n",
    "- Magnetómetro\n",
    "- Temperatura\n",
    "- Presión barométrica\n",
    "- Humedad\n",
    "\n",
    "Ir a la siguiente dirección: https://projects.raspberrypi.org/en/projects/getting-started-with-the-sense-hat y leer detenidamente el tutorial desde el inicio hasta el punto `Setting orientation`. "
   ]
  },
  {
   "cell_type": "markdown",
   "metadata": {},
   "source": [
    "<img src=\"img1.PNG\" style=\"height:300px;\">"
   ]
  },
  {
   "cell_type": "markdown",
   "metadata": {},
   "source": [
    "Durante el tutorial, se le pedirá que cree una cuenta en el sitio del emulador en línea: https://trinket.io/sense-hat"
   ]
  },
  {
   "cell_type": "markdown",
   "metadata": {},
   "source": [
    "<img src=\"img2.png\"  style=\"height:300px;\">"
   ]
  },
  {
   "cell_type": "markdown",
   "metadata": {},
   "source": [
    "### Tarea"
   ]
  },
  {
   "cell_type": "markdown",
   "metadata": {},
   "source": [
    "Luego de haber leído detenidamente y probado el código del tutorial. Crear un programa que se ejecute indefinidamente y vaya mostrando en la pantalla flechas de distinto color que irán cambiando de dirección de forma aleatoria cada dos segundos.\n",
    "\n",
    "Nota: las flechas pueden ser horizontales y verticales únicamente.  Si bien no se puede probar el código desde esta notebook, el estudiante deberá incluir el código de su solución en la celda de abajo.\n",
    "\n",
    "Nota: el programa debe funcionar correctamente y el día de la próxima sesión de ejercicios los grupos deberán mostrar el programa funcionando"
   ]
  },
  {
   "cell_type": "code",
   "execution_count": null,
   "metadata": {},
   "outputs": [],
   "source": [
    "# inserte su código aquí\n",
    "\n"
   ]
  },
  {
   "cell_type": "markdown",
   "metadata": {},
   "source": [
    "# Ejercicio 2"
   ]
  },
  {
   "cell_type": "markdown",
   "metadata": {},
   "source": [
    "Escribir y probar una función que genere un patrón similar a:\n",
    "\n",
    "`*` <br>\n",
    "`* *` <br>\n",
    "`* * *` <br>\n",
    "`* * * *` <br>\n",
    "`* * * * *` <br>\n",
    "`* * * *` <br>\n",
    "`* * *` <br>\n",
    "`* *` <br>\n",
    "`*` <br>\n",
    "\n",
    "Para generar este patrón, la función tendrá un parámetro `profundidad` (para el ejemplo anterior, `profundidad=9`). Adicionalmente este parámetro deberá ser impar. "
   ]
  },
  {
   "cell_type": "code",
   "execution_count": 2,
   "metadata": {},
   "outputs": [
    {
     "name": "stdout",
     "output_type": "stream",
     "text": [
      "\n",
      "Ingrese un número entero positivo impar: 9\n",
      "\n",
      "* \n",
      "* * \n",
      "* * * \n",
      "* * * * \n",
      "* * * * * \n",
      "* * * * \n",
      "* * * \n",
      "* * \n",
      "* \n",
      "\n"
     ]
    }
   ],
   "source": [
    "def get_patron(profundidad):\n",
    "    \"\"\"Construye un patrón de '*' con una cantidad de lineas igual a la profundidad.\n",
    "    \n",
    "    Parametros\n",
    "    ----------\n",
    "    profundidad : int\n",
    "      cantidad de lineas que tendra el patrón\n",
    "      \n",
    "    Retorna\n",
    "    -------\n",
    "    patron : str\n",
    "      patrón generado por la función\n",
    "    \"\"\"\n",
    "    patron = ''\n",
    "    linea = ''\n",
    "    if profundidad % 2 != 0:\n",
    "        for i in range(profundidad):\n",
    "            if i > profundidad // 2:\n",
    "                linea = linea[:-2]\n",
    "            else:\n",
    "                linea += '* '\n",
    "            patron += f'\\n{linea}'\n",
    "    return patron\n",
    "\n",
    "\n",
    "def main():\n",
    "    profundidad = int(input('\\nIngrese un número entero positivo impar: '))\n",
    "    \n",
    "    print(f'{get_patron(profundidad)}\\n')\n",
    "\n",
    "\n",
    "if __name__ == '__main__':\n",
    "    main()"
   ]
  },
  {
   "cell_type": "markdown",
   "metadata": {},
   "source": [
    "# Ejercicio 3"
   ]
  },
  {
   "cell_type": "markdown",
   "metadata": {},
   "source": [
    "Cree y pruebe una función que dada una lista (`numeros`) de números enteros y un número entero (`x`), retorne 3 valores: (1) cuantos números iguales `x` existen; (2) cuantos números menores a `x` existen; y, (3) cuantos números mayores a `x` existen.\n",
    "\n",
    "Ejemplo:\n",
    "\n",
    "numeros: [10, 5, 4, 4, 6, 3, 7, 10] <br>\n",
    "x: 4\n",
    "\n",
    "salida esperada:\n",
    "Existen  2  números iguales a  4\n",
    "Existen  5  números menores a  4\n",
    "Existen  1  números mayores a  4"
   ]
  },
  {
   "cell_type": "code",
   "execution_count": 3,
   "metadata": {},
   "outputs": [
    {
     "name": "stdout",
     "output_type": "stream",
     "text": [
      "\n",
      "Ingrese un número: 4\n",
      "\n",
      "Existen 5 números mayores, 1 menores y 2 iguales a 4.\n",
      "\n"
     ]
    }
   ],
   "source": [
    "def get_mayores_menores_iguales(numeros, x):\n",
    "    \"\"\"Calcula la cantidad de numeros mayores, menores o iguales a 'x' existen en la lista 'numeros'.\n",
    "    \n",
    "    Parametros\n",
    "    ----------\n",
    "    numeros : int[]\n",
    "      lista con numeros enteros\n",
    "    \n",
    "    x : int\n",
    "      Un número entero para hacer la comparación\n",
    "      \n",
    "    Retorna\n",
    "    -------\n",
    "    iguales : int\n",
    "      cantidad de números iguales a 'x'\n",
    "      \n",
    "    menores : int\n",
    "      cantidad de números menores a 'x'\n",
    "      \n",
    "    mayores : int\n",
    "      cantidad de números mayores a 'x'\n",
    "    \"\"\"\n",
    "    iguales, menores, mayores = 0, 0, 0\n",
    "    for i in numeros:\n",
    "        if x < i:\n",
    "            mayores += 1\n",
    "        elif x > i:\n",
    "            menores += 1\n",
    "        else:\n",
    "            iguales += 1\n",
    "    return iguales, menores, mayores\n",
    "\n",
    "\n",
    "def main():\n",
    "    # Lista de prueba para el ejercicio\n",
    "    numeros = [10, 5, 4, 4, 6, 3, 7, 10]\n",
    "    \n",
    "    x = int(input('\\nIngrese un número: '))\n",
    "    \n",
    "    iguales, menores, mayores = get_mayores_menores_iguales(numeros, x)\n",
    "    print(f'\\nExisten {mayores} números mayores, {menores} menores y {iguales} iguales a {x}.\\n')   \n",
    "\n",
    "\n",
    "if __name__ == '__main__':\n",
    "    main()"
   ]
  },
  {
   "cell_type": "markdown",
   "metadata": {},
   "source": [
    "# Ejercicio 4"
   ]
  },
  {
   "cell_type": "markdown",
   "metadata": {},
   "source": [
    "Tomando como base el ejercicio 10 de la sesión de ejercicios 5, crear una función que dado un string, que representa una cédula, retorne True si la cédula es válida, caso contrario que retorne False\n",
    "\n",
    "Nota: Básese en su propia resolución del ejercicio y optimice el código lo más posible, ayudándose de slices, list comprehensions, etc."
   ]
  },
  {
   "cell_type": "code",
   "execution_count": 4,
   "metadata": {},
   "outputs": [
    {
     "name": "stdout",
     "output_type": "stream",
     "text": [
      "\n",
      "Ingrese un número de cédula: 0105736326\n",
      "\n",
      "El número de cédula \"0105736326\" es correcto\n",
      "\n"
     ]
    }
   ],
   "source": [
    "def get_validadores(cedula):\n",
    "    \"\"\"Calcula un número entero resultante de sumar todos los digitos de la 'cedula' con la condicion de que\n",
    "       todas las posiciones impares se multiplequen por 2 y si el resultado de esta ultima operacion es un \n",
    "       número mayor o igual a 10, le restamos 9. Este número sirve para validar una cédula.\n",
    "    \n",
    "    Parametros\n",
    "    ----------\n",
    "    cedula : str\n",
    "      Un texto que contiene los 10 dígitos de una cédula\n",
    "      \n",
    "    Retorna\n",
    "    -------\n",
    "    int(str(validador)[-1]) : int\n",
    "      Último dígito del resultado de la operacion anterior que sirve para validar la cédula.\n",
    "      \n",
    "    digitos[-1] : int\n",
    "      Último dígito de la cédula, necesario para la validación.\n",
    "    \"\"\"\n",
    "    # Generamos una lista transformando a entero todos los dígitos de la cédula\n",
    "    digitos = [int(i) for i in cedula]\n",
    "    validador = 0\n",
    "    for i in range(len(digitos) - 1):\n",
    "        resultante = digitos[i]\n",
    "        if i % 2 == 0:\n",
    "            resultante *= 2\n",
    "        validador += resultante if resultante < 10 else resultante - 9\n",
    "    return int(str(validador)[-1]), digitos[-1]\n",
    "\n",
    "\n",
    "def validar_cedula(cedula):\n",
    "    \"\"\"Valida que la 'cedula' sea correcta haciendo uso del último dígito para validar, siempre y cuando\n",
    "       la cédula posea 10 dígitos.\n",
    "    \n",
    "    Parametros\n",
    "    ----------\n",
    "    cedula : str\n",
    "      Un texto que contiene los 10 dígitos de una cédula.\n",
    "      \n",
    "    Retorna\n",
    "    -------\n",
    "    True o False : bool\n",
    "      True si la cédula es correcta caso contrario False.\n",
    "    \"\"\"\n",
    "    if cedula.isdigit() and len(cedula) == 10:\n",
    "        digt_validador, ultm_digito = get_validadores(cedula)\n",
    "        if ultm_digito == 0 and digt_validador == 0:\n",
    "            return True\n",
    "        if ultm_digito == 10 - digt_validador: \n",
    "            return True\n",
    "    return False\n",
    "\n",
    "\n",
    "def main():\n",
    "    cedula = input('\\nIngrese un número de cédula: ')\n",
    "    if validar_cedula(cedula):\n",
    "        print(f'\\nEl número de cédula \"{cedula}\" es correcto\\n')\n",
    "    else:\n",
    "        print(f'\\nEl número de cédula \"{cedula}\" no es correcto!\\n')\n",
    "\n",
    "\n",
    "if __name__ == '__main__':\n",
    "    main()"
   ]
  },
  {
   "cell_type": "markdown",
   "metadata": {},
   "source": [
    "# Ejercicio 5"
   ]
  },
  {
   "cell_type": "markdown",
   "metadata": {},
   "source": [
    "Las funciones pueden verse también como expresiones, esto implica que se puede asociar una referencia de una función a una variable y usarla como una función. Esta funcionalidad se utiliza cuando se necesitan evaluar varias funciones con los mismos parámetros. \n",
    "\n",
    "Analice el ejemplo a continuación:"
   ]
  },
  {
   "cell_type": "code",
   "execution_count": 5,
   "metadata": {},
   "outputs": [
    {
     "name": "stdout",
     "output_type": "stream",
     "text": [
      "[0, 1, 4, 9, 16, 25, 36, 49, 64, 81]\n",
      "[0, 1, 8, 27, 64, 125, 216, 343, 512, 729]\n"
     ]
    }
   ],
   "source": [
    "def funcion1(x):\n",
    "    \"\"\"Implementación de una función cuadrática\n",
    "    \n",
    "    Parametros\n",
    "    ----------\n",
    "    x : int\n",
    "      valor de x de entrada\n",
    "      \n",
    "    Retorna\n",
    "    -------\n",
    "    x**2 : int\n",
    "      resultado de la función\n",
    "    \"\"\"\n",
    "    return x**2\n",
    "\n",
    "\n",
    "def funcion2(x):\n",
    "    \"\"\"Implementación de una función cúbica\n",
    "\n",
    "    Parametros\n",
    "    ----------\n",
    "    x : int\n",
    "      valor de x de entrada\n",
    "      \n",
    "    Retorna\n",
    "    -------\n",
    "    x**3 : int\n",
    "      resultado de la función\n",
    "    \"\"\"\n",
    "    return x**3\n",
    "\n",
    "\n",
    "# funciones a ser ejecutadas\n",
    "funciones = [funcion1, funcion2]\n",
    "\n",
    "# valores de x a ser probados\n",
    "x_vals = range(0, 10)\n",
    "\n",
    "for f in funciones: # se recorren las funciones una a una\n",
    "    res = []  # acumulador de resultados\n",
    "    \n",
    "    # calcula los valores de la función de acuerdo a la función y valor de x actuales\n",
    "    for x in x_vals:\n",
    "        res.append(f(x))\n",
    "    \n",
    "    # muestra el resultado\n",
    "    print(res)"
   ]
  },
  {
   "cell_type": "markdown",
   "metadata": {},
   "source": [
    "Modifique el código anterior para que se implemente una nueva función `funcion3` que ejecute la siguiente función: $(x-5)^2 - 2x + 3$. Se definirán valores de $x$ desde $1..30$ y la ejecución será como sigue: primero se ejecutará `funcion1`, luego `funcion2`, y finalmente `funcion3`. `funcion1` evaluará los valores de $x=\\{1, 4, 7, 10, ...\\}$. `funcion2` evaluará los valores $x=\\{2, 5, 8, 11, ...\\}$ y `funcion3` evaluará los valores $x=\\{3, 6, 9, 12, ...\\}$. El programa mostrará los valores de las funciones para los números números evaluados.\n",
    "\n",
    "Salida esperada:\n",
    "\n",
    "[1, 16, 49, 100, 169, 256, 361, 484, 625, 784] <br>\n",
    "[8, 125, 512, 1331, 2744, 4913, 8000, 12167, 17576, 24389] <br>\n",
    "[1, -8, 1, 28, 73, 136, 217, 316, 433, 568]"
   ]
  },
  {
   "cell_type": "code",
   "execution_count": 6,
   "metadata": {},
   "outputs": [
    {
     "name": "stdout",
     "output_type": "stream",
     "text": [
      "\n",
      "Salida:\n",
      "\n",
      "[1, 16, 49, 100, 169, 256, 361, 484, 625, 784]\n",
      "[8, 125, 512, 1331, 2744, 4913, 8000, 12167, 17576, 24389]\n",
      "[1, -8, 1, 28, 73, 136, 217, 316, 433, 568]\n",
      "\n",
      "\n"
     ]
    }
   ],
   "source": [
    "def funcion3(x):\n",
    "    \"\"\"Implentación de función matemática.\n",
    "\n",
    "    Parametros\n",
    "    ----------\n",
    "    x : int\n",
    "      valor de x de entrada.\n",
    "      \n",
    "    Retorna\n",
    "    -------\n",
    "    (x - 5)**2 - 2*x + 3 : int\n",
    "      resultado de operación matemática.\n",
    "    \"\"\"\n",
    "    return (x - 5)**2 - 2*x + 3\n",
    "\n",
    "\n",
    "def main():\n",
    "    funciones = [funcion1, funcion2, funcion3]\n",
    "    limite_inicio = 1 # Primer número con el que trabajará la primera función\n",
    "    salida = f'\\nSalida:\\n\\n'\n",
    "\n",
    "    for f in funciones:\n",
    "        # Genera una lista con los resulsultados de las operaciones de cada función.\n",
    "        res = [f(i) for i in range(limite_inicio, 31, 3)]\n",
    "        salida += f'{res}\\n'\n",
    "        limite_inicio += 1 # Número de inicio con el que trabajará la 'n' función.\n",
    "\n",
    "    print(f'{salida}\\n')\n",
    "\n",
    "\n",
    "if __name__ == '__main__':\n",
    "    main()"
   ]
  },
  {
   "cell_type": "markdown",
   "metadata": {},
   "source": [
    "# Ejercicio 6"
   ]
  },
  {
   "cell_type": "markdown",
   "metadata": {},
   "source": [
    "Modifique el código del ejercico anterior para optimizarlo de forma tal que no sea necesario realizar iteraciones sobre `x` : `for x in x_vals:`.\n",
    "\n",
    "Nota: utilice la función `map`. "
   ]
  },
  {
   "cell_type": "code",
   "execution_count": 7,
   "metadata": {},
   "outputs": [
    {
     "name": "stdout",
     "output_type": "stream",
     "text": [
      "\n",
      "Salida:\n",
      "\n",
      "[1, 16, 49, 100, 169, 256, 361, 484, 625, 784]\n",
      "[8, 125, 512, 1331, 2744, 4913, 8000, 12167, 17576, 24389]\n",
      "[1, -8, 1, 28, 73, 136, 217, 316, 433, 568]\n",
      "\n",
      "\n"
     ]
    }
   ],
   "source": [
    "def main():\n",
    "    funciones = [funcion1, funcion2, funcion3]\n",
    "    limite_inicio = 1 # Número de inicio con el que trabajará la primera función\n",
    "    salida = f'\\nSalida:\\n\\n'\n",
    "\n",
    "    for f in funciones:\n",
    "        # Genera una lista con los resulsultados de las operaciones de cada función.\n",
    "        res = list(map(f, range(limite_inicio, 31, 3)))\n",
    "        salida += f'{res}\\n'\n",
    "        limite_inicio += 1 # Número de inicio con el que trabajará la 'n' función.\n",
    "\n",
    "    print(f'{salida}\\n')\n",
    "\n",
    "\n",
    "if __name__ == '__main__':\n",
    "    main()"
   ]
  },
  {
   "cell_type": "markdown",
   "metadata": {},
   "source": [
    "# Ejercicio 7"
   ]
  },
  {
   "cell_type": "markdown",
   "metadata": {},
   "source": [
    "Modifique el ejercicio anterior para que, en vez de usar definciones de funciones tradicionales i.e. `funcion1`, `funcion2`, y `funcion3`, utilice funciones lambda para implementar la misma funcionalidad"
   ]
  },
  {
   "cell_type": "code",
   "execution_count": 8,
   "metadata": {},
   "outputs": [
    {
     "name": "stdout",
     "output_type": "stream",
     "text": [
      "\n",
      "Salida:\n",
      "\n",
      "[1, 16, 49, 100, 169, 256, 361, 484, 625, 784]\n",
      "[8, 125, 512, 1331, 2744, 4913, 8000, 12167, 17576, 24389]\n",
      "[1, -8, 1, 28, 73, 136, 217, 316, 433, 568]\n",
      "\n"
     ]
    }
   ],
   "source": [
    "# Calcula el cuadrado de un número 'x'\n",
    "funcion1 = lambda x: x**2\n",
    "\n",
    "\n",
    "# Calcula el cubo de un número 'x'\n",
    "funcion2 = lambda x: x**3\n",
    "\n",
    "\n",
    "# Calcula el valor de una función matemática con el valor de un número 'x'\n",
    "funcion3 = lambda x: (x - 5)**2 - 2*x + 3\n",
    "\n",
    "\n",
    "# Genera una lista con los resultados de pasar una lista de números por cualquiera de las anteriores funciones.\n",
    "clasificar_por_fn = lambda fn, rango: f'\\n{list(map(fn, rango))}'\n",
    "\n",
    "\n",
    "def main():\n",
    "    funciones = [funcion1, funcion2, funcion3]\n",
    "    limite_inicio = 1 # Número de inicio con el que trabajará la primera función\n",
    "    salida = f'\\nSalida:\\n'\n",
    "\n",
    "    for f in funciones:\n",
    "        salida += clasificar_por_fn(f, range(limite_inicio, 31, 3))\n",
    "        limite_inicio += 1 # Número de inicio con el que trabajará la 'n' función.\n",
    "\n",
    "    print(f'{salida}\\n')\n",
    "\n",
    "\n",
    "if __name__ == '__main__':\n",
    "    main()"
   ]
  },
  {
   "cell_type": "markdown",
   "metadata": {},
   "source": [
    "# Ejercicio 8"
   ]
  },
  {
   "cell_type": "markdown",
   "metadata": {},
   "source": [
    "Implemente un programa que dada una lista con mensajes codificados, verificar cuantas veces se repite un patrón en ellos. Para ello, primeramente deberá generar dichos mensajes, i.e. una lista de `n` mensajes donde cada elemento es un string de `m` caracteres randómicos que van desde el caracter `a` hasta `k`. Una lista de mensajes válida tiene la siguiente forma: \n",
    "\n",
    "['ekjeg', 'hgkch', 'biaae', 'fcfhb', 'akcbg', 'jhdaj', 'geibk', 'ebchj', 'heeae', 'kfeid'] <br>\n",
    "\n",
    "Para $n=10$ y $m=5$\n",
    "\n",
    "Luego, buscar un patrón cualquiera de 2 caractéres en cada uno de los elementos de esta lista. El programa deberá retornar cuantas veces encontró el patrón en la lista. Se contabilizan únicamente los elementos que contenga el patrón una sola vez.\n",
    "\n",
    "Ejemplo: <br>\n",
    "mensaje: ['keeab', 'dhabe', 'afebd', 'cabab', 'fkabi', 'kifca', 'bfiai', 'hhjbk', 'jkjij', 'echgf'] <br>\n",
    "patron: ab\n",
    "\n",
    "salida esperada: 3\n",
    "\n",
    "Nota: para generar valores aleatorios dentro de un conjunto, se puede usar la función choice de la librería random"
   ]
  },
  {
   "cell_type": "code",
   "execution_count": 11,
   "metadata": {},
   "outputs": [
    {
     "name": "stdout",
     "output_type": "stream",
     "text": [
      "\n",
      "Lista: ['ieffjgba', 'abeadkeg', 'bkkbagdf', 'djbghgcj', 'khkfabjj', 'cdgbaake', 'egadbajk', 'bbhgdbbh', 'gagcddga', 'ifaegfgd', 'fecfjfdk', 'ikkjchjk', 'ckiedecj', 'echghghf', 'bdfjgfhh', 'fageghba', 'ecbjibch', 'eaahiikf', 'kkbdchkj']\n",
      "\n",
      "El patrón: \"cd\" aparece 2 veces en la lista.\n",
      "\n"
     ]
    }
   ],
   "source": [
    "import random\n",
    "\n",
    "# Genera un texto con caracteres aleatorios de la lista pasada por parametro, con la longitud indicada.\n",
    "get_text = lambda lista, longitud: ''.join([random.choice(lista) for i in range(longitud)])\n",
    "\n",
    "\n",
    "def get_num_ocurrencias(texto, patron):\n",
    "    \"\"\"Calcula el número de veces que se repite un patron dentro de un texto.\n",
    "\n",
    "    Parametros\n",
    "    ----------\n",
    "    texto : str\n",
    "      Un texto cualquira dentro del cual se desea buscar un patrón.\n",
    "    \n",
    "    patron : str\n",
    "      Patŕon que se desea buscar dentro del texto.\n",
    "      \n",
    "    Retorna\n",
    "    -------\n",
    "    ocurrencias : int\n",
    "      Número de veces que se repitio el patrón dentro del texto.\n",
    "    \"\"\"\n",
    "    limt_inicial = 0\n",
    "    limt_final = len(patron)\n",
    "    ocurrencias = 0\n",
    "    while limt_final < len(texto):\n",
    "        if texto[limt_inicial:limt_final] == patron:\n",
    "            ocurrencias += 1\n",
    "        limt_inicial += 1\n",
    "        limt_final += 1\n",
    "    return ocurrencias\n",
    "\n",
    "\n",
    "def main():\n",
    "    # Lista con caracteres de prueba\n",
    "    letras = ['a', 'b', 'c', 'd', 'e', 'f', 'g', 'h', 'i', 'j', 'k']\n",
    "    \n",
    "    n = random.randint(10, 30) # Cantidad de texto que deseamos generar.\n",
    "    m = random.randint(5, 15) # Cantidad de caracteres por texto.\n",
    "\n",
    "    # Generamos una lista con textos aleatoros.\n",
    "    mensajes = [get_text(letras, m) for i in range(n)]\n",
    "    \n",
    "    # Generamo un texto patrón con caracteres aleatorios\n",
    "    patron = get_text(letras, 2)\n",
    "\n",
    "    ocurrencias = 0\n",
    "    for i in mensajes:\n",
    "        # Contamos unicamente lo textos en los que el patrón aparece solo una vez.\n",
    "        if get_num_ocurrencias(i, patron) == 1:\n",
    "            ocurrencias += 1\n",
    "\n",
    "    print(f'\\nLista: {mensajes}\\n\\nEl patrón: \"{patron}\" aparece {ocurrencias} veces en la lista.\\n') \n",
    "\n",
    "\n",
    "if __name__ == '__main__':\n",
    "    main()"
   ]
  },
  {
   "cell_type": "markdown",
   "metadata": {},
   "source": [
    "# Ejercicio 1 exámen interciclo"
   ]
  },
  {
   "cell_type": "markdown",
   "metadata": {},
   "source": [
    "Se requiere escribir un programa que dada una lista de listas conteniendo números enteros, genere una lista de una sola dimensión contenido todos los números. Esta operación comúnmente se conoce como aplanar una lista. Esta lista además, deberá ser ordenada de forma descendente. Por ejemplo: <br><br>\n",
    "Entrada: [[1, 12, 3], [100, 13, 22, 0], [15, 30]] <br>\n",
    "Salida: [100, 30, 22, 15, 13, 12, 3, 1, 0]\n",
    "\n",
    "Para solucionar este ejercicio, el alumno no podrá hacer uso de ninguna función preestablecida en Python."
   ]
  },
  {
   "cell_type": "code",
   "execution_count": 1,
   "metadata": {},
   "outputs": [
    {
     "name": "stdout",
     "output_type": "stream",
     "text": [
      "\n",
      "Salida: [100, 30, 22, 15, 13, 12, 3, 1, 0]\n",
      "\n"
     ]
    }
   ],
   "source": [
    "# Genera una lista con los elementos de cada una de las listas contenidas en la lista pasada por parametro.\n",
    "aplanar_lista = lambda listas: [y for i in listas for y in i]\n",
    "\n",
    "\n",
    "def ordenar_descendente(lista):\n",
    "    \"\"\"Ordena de forma descendente los elementos de una lista de números enteros.\n",
    "\n",
    "    Parametros\n",
    "    ----------\n",
    "    lista : int[]\n",
    "      Un lista con números enteros.\n",
    "    \n",
    "    Retorna\n",
    "    -------\n",
    "    lista : int[]\n",
    "      lista con sus elementos ordenados de forma descendente.\n",
    "    \"\"\"\n",
    "    # Comparamos cada elemento de la lista con lo demas elementos\n",
    "    for i in range(len(lista)):\n",
    "         # Enviamos hacia el final de la lista a los elementos menores.\n",
    "        cont = 0\n",
    "        while cont < len(lista) - 1:\n",
    "            # Si el número es menor intercambiamos sus posiciones.\n",
    "            if lista[cont] < lista[cont + 1]:\n",
    "                aux = lista[cont]\n",
    "                lista[cont] = lista[cont + 1]\n",
    "                lista[cont + 1] = aux\n",
    "            cont += 1\n",
    "    return lista\n",
    "\n",
    "\n",
    "def main():\n",
    "    # Lista con número enteros de prueba.\n",
    "    entrada = [[1, 12, 3], [100, 13, 22, 0], [15, 30]]\n",
    "    salida = ordenar_descendente(aplanar_lista(entrada))\n",
    "    print(f'\\nSalida: {salida}\\n')\n",
    "\n",
    "\n",
    "if __name__ == '__main__':\n",
    "    main()"
   ]
  },
  {
   "cell_type": "markdown",
   "metadata": {},
   "source": [
    "# Ejercicio 2 exámen interciclo"
   ]
  },
  {
   "cell_type": "markdown",
   "metadata": {},
   "source": [
    "Se requiere crear un programa para encriptar un mensaje. La lógica es la siguiente: el mensaje original será transformado moviendo las posiciones de los caracteres en base a la lista numérica provista. Para este ejercicio, se le debe pedir al usuario una `frase` y el `pad`. El pad podrá ser cualquier número de 3 cifras. Por ejemplo: <br><br>\n",
    "Frase: el zorro es una pelicula vieja <br>\n",
    "pad: 123 <br>\n",
    "salida: fn aqusq fu vpd rhmkfvnd xlfld <br>\n",
    "\n",
    "Analizando la salida: <br>\n",
    "e -> f movido una posición <br>\n",
    "l -> n movido dos posiciones <br>\n",
    "“ “ -> los caracteres vacíos no se transforman  <br>\n",
    "z -> a movido una posición<br>\n",
    "o -> q movido dos posiciones<br>\n",
    "r -> u movido tres posiciones\n",
    "\n",
    "Entonces, pad es una secuencia con números que se reutiliza para el proceso. Además, las posiciones del alfabeto pueden verse como circulares; es decir, si se debe mover z dos posiciones, el resultado será b\n",
    "Ayuda: El siguiente código genera una lista con los caracteres de la a-z:\n",
    "\n",
    "<code>list(map(chr, range(97, 123)))  # [‘a’, ‘b’, ‘c’, …, ‘x’, ‘y’, ‘z’] </code>"
   ]
  },
  {
   "cell_type": "code",
   "execution_count": 3,
   "metadata": {},
   "outputs": [
    {
     "name": "stdout",
     "output_type": "stream",
     "text": [
      "\n",
      "Ingrese una frase: el zorro es una pelicula vieja\n",
      "Ingrese un path para encriptar, debe ser un numero entero de 3 cifras: 123\n",
      "\n",
      "La frase encriptada es: fn aqusq fu vpd rhmkfvnd xlfld.\n",
      "\n"
     ]
    }
   ],
   "source": [
    "def get_char_encript(letra, num_recorrer):\n",
    "    \"\"\"Cambia una letra por otra que se encuantra en una posición que resulta de sumar \n",
    "       'num_recorrer' a su posición.\n",
    "\n",
    "    Parametros\n",
    "    ----------\n",
    "    letra : char\n",
    "      Letra que deseamos cambiar.\n",
    "    \n",
    "    num_recorrer : int\n",
    "      Número que se debe sumar a la posicion de la letra actual para obtener una nueva letra.\n",
    "    \n",
    "    Retorna\n",
    "    -------\n",
    "    letra_encr : char\n",
    "      Retorna una núeva letra siempre y cuando la recibida por parametro no ea un texto vacio.\n",
    "    \"\"\"\n",
    "    abecedario = list(map(chr, range(97, 123)))\n",
    "    letra_encr = letra\n",
    "    for index, value in enumerate(abecedario):\n",
    "        if letra == value:\n",
    "            next_posc = index + num_recorrer\n",
    "            num_items = len(abecedario)\n",
    "            if next_posc > num_items - 1:\n",
    "                letra_encr = abecedario[next_posc - num_items]\n",
    "                break\n",
    "            else:\n",
    "                letra_encr = abecedario[next_posc]\n",
    "                break\n",
    "    return letra_encr\n",
    "\n",
    "\n",
    "def get_encript_text(texto, path):\n",
    "    \"\"\"Encripta un texto cambiando cada letra por otra que esta en una posición superior del abecedario,\n",
    "       para esto utiliza una lista con la cantidades enteras para el cambio de posición\n",
    "\n",
    "    Parametros\n",
    "    ----------\n",
    "    texto : str\n",
    "      Texto que se desea encriptar.\n",
    "    \n",
    "    path : int[]\n",
    "      Lista de números que servirán para encriptar el texto.\n",
    "    \n",
    "    Retorna\n",
    "    -------\n",
    "    encript_text : str\n",
    "      Texto encriptado.\n",
    "    \"\"\"\n",
    "    encript_text = \"\"\n",
    "    # Para cada letra se utilizara un número del path\n",
    "    cont = 0\n",
    "    for i in texto:\n",
    "        if cont == len(path):\n",
    "            cont = 0\n",
    "        if cont < len(path):\n",
    "            encript_text += get_char_encript(i, path[cont])\n",
    "        cont += 1\n",
    "    return encript_text\n",
    "\n",
    "\n",
    "def main():\n",
    "    frase = input('\\nIngrese una frase: ')\n",
    "    path = input('Ingrese un path para encriptar, debe ser un numero entero de 3 cifras: ')\n",
    "\n",
    "    frase_encriptada = get_encript_text(frase, [int(i) for i in path])\n",
    "\n",
    "    print(f'\\nLa frase encriptada es: {frase_encriptada}.\\n')\n",
    "\n",
    "\n",
    "if __name__ == '__main__':\n",
    "    main()"
   ]
  }
 ],
 "metadata": {
  "kernelspec": {
   "display_name": "Python 3 (ipykernel)",
   "language": "python",
   "name": "python3"
  },
  "language_info": {
   "codemirror_mode": {
    "name": "ipython",
    "version": 3
   },
   "file_extension": ".py",
   "mimetype": "text/x-python",
   "name": "python",
   "nbconvert_exporter": "python",
   "pygments_lexer": "ipython3",
   "version": "3.9.12"
  },
  "widgets": {
   "application/vnd.jupyter.widget-state+json": {
    "state": {},
    "version_major": 2,
    "version_minor": 0
   }
  }
 },
 "nbformat": 4,
 "nbformat_minor": 4
}
