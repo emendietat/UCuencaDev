{
 "cells": [
  {
   "cell_type": "markdown",
   "id": "d325fee7",
   "metadata": {},
   "source": [
    "# Prueba 1 - Programación Orientada a las Telecomunicaciones"
   ]
  },
  {
   "cell_type": "markdown",
   "id": "5cfb4ae0",
   "metadata": {},
   "source": [
    "Esta prueba tiene una valoración de 15 puntos y está diseñada para ser resuelta en 1.5 horas. Para la misma, leer cuidadosamente la siguiente información:\n",
    "- El archivo resultante deberá ser subido a la plataforma evirtual con el siguiente formato de nombre, si su nombre es Juan Perez Machado, su archivo será PerezM.ipynb\n",
    "- El enlace en el evirtual es la única forma de subir el archivo. Considerar que el mismo estará abierto hasta las 11 am en punto\n",
    "- Leer cuidadosamente la pregunta\n",
    "- Durante la evaluación, el alumno deberá tener activa su cámara, conjuntamente con el sistema OBS. De no hacerlo, su evaluación será invalidada\n",
    "- Durante la evaluación, el alumno no podrá acceder a ninguna fuente adicional de información\n",
    "- Durante la evaluación, el alumno no podrá hacer uso de ningún medio de comunicación"
   ]
  },
  {
   "cell_type": "markdown",
   "id": "75201a42",
   "metadata": {},
   "source": [
    "## Pregunta 1:\n",
    "\n",
    "Considerando una lista de tamaño variable, cuyos elementos son de tipo string de 6 caracteres de longitud donde los primeros 4 caracteres son texto aleatorio y los últimos 2 caracteres son números que van del 1 al 99, se requiere un programa que considerado únicamente los números de la lista, los categorice de la siguiente manera: inicialmente se le pedirá al usuario que ingrese cuantas categorías necesita. Posteriormente, en función de este número, se procederá a analizar individualmente los números obtenidos de la lista inicial y colocarlos en las distintas categorías.\n",
    "\n",
    "Por ejemplo, si se tiene la siguiente lista de palabras:\n",
    "\n",
    "lista = ['bddd64', 'bdbc67', 'baaa36', 'bacd24', 'cbda41', 'bbab33']\n",
    "\n",
    "y el usuario pide 2 categorías, el resultado deberá ser que existen 4 números (36, 24, 41, 33) en la primera categoría y 2 números (64, 67) en la segunda."
   ]
  },
  {
   "cell_type": "code",
   "execution_count": 20,
   "id": "c41a62aa",
   "metadata": {},
   "outputs": [
    {
     "name": "stdout",
     "output_type": "stream",
     "text": [
      "\n",
      "Ingrese el número de categorías: 10\n",
      "\n",
      "---- Categoría N°1: [1 - 10] ----\n",
      "Número de elementos: 0\n",
      "[]\n",
      "\n",
      "\n",
      "---- Categoría N°2: [10 - 20] ----\n",
      "Número de elementos: 5\n",
      "[16, 12, 17, 19, 14]\n",
      "\n",
      "\n",
      "---- Categoría N°3: [20 - 30] ----\n",
      "Número de elementos: 8\n",
      "[22, 21, 25, 29, 22, 27, 29, 26]\n",
      "\n",
      "\n",
      "---- Categoría N°4: [30 - 40] ----\n",
      "Número de elementos: 7\n",
      "[37, 37, 36, 35, 39, 35, 38]\n",
      "\n",
      "\n",
      "---- Categoría N°5: [40 - 50] ----\n",
      "Número de elementos: 8\n",
      "[47, 45, 43, 48, 46, 49, 49, 43]\n",
      "\n",
      "\n",
      "---- Categoría N°6: [50 - 60] ----\n",
      "Número de elementos: 10\n",
      "[52, 59, 51, 55, 58, 58, 52, 53, 54, 57]\n",
      "\n",
      "\n",
      "---- Categoría N°7: [60 - 70] ----\n",
      "Número de elementos: 2\n",
      "[66, 61]\n",
      "\n",
      "\n",
      "---- Categoría N°8: [70 - 80] ----\n",
      "Número de elementos: 1\n",
      "[78]\n",
      "\n",
      "\n",
      "---- Categoría N°9: [80 - 90] ----\n",
      "Número de elementos: 7\n",
      "[82, 84, 83, 81, 87, 81, 89]\n",
      "\n",
      "\n",
      "---- Categoría N°10: [90 - 100] ----\n",
      "Número de elementos: 2\n",
      "[92, 98]\n",
      "\n"
     ]
    }
   ],
   "source": [
    "lista = ['dbdd47', 'dcaa37', 'dadd78', 'dbba37', 'acbb52', 'adad45', 'addd43', 'bbdb82', 'aaab22', 'bbac84', 'bcca83', 'adbc16', 'aabd48', 'abdb59', 'dbba51',\n",
    "         'dbad46', 'cbca12', 'dccc66', 'dcba81', 'bbbc21', 'bbda25', 'abdb55', 'bbda36', 'aaad29', 'bdda17', 'aaab35', 'cacd19', 'adcc39', 'adbb87', 'bddc49',\n",
    "         'abdd92', 'bdab35', 'acab81', 'babc89', 'bbba58', 'bcdc58', 'bcad98', 'dbdd52', 'cdac22', 'bbad38', 'adbc53', 'dcab49', 'ccad14', 'cbac43', 'cdcc54',\n",
    "         'ddda27', 'ccca61', 'cbcd29', 'aacd26', 'dbcd57']\n",
    "\n",
    "    num_categorias = int(input('\\nIngrese el número de categorías: '))\n",
    "\n",
    "# Lista para almacenar lo números extraidos de las cadenas de la lista 'lista'\n",
    "lista_numeros = []\n",
    "\n",
    "# Guardamos en la lista 'lista_numeros' los dos últimos caracteres de cada cadena de 'lista' transfomando a entero.\n",
    "for i in lista:\n",
    "    lista_numeros += [int(i[-2:])]\n",
    "\n",
    "# Variables para almacenar el inicio y fin de cada categoria (rango: [inicio - num_elementos]).\n",
    "inicio = 0\n",
    "num_elementos = 0\n",
    "\n",
    "# Variable contadora\n",
    "cont = 1\n",
    "\n",
    "# Creamos cada categoria hasta el numero de categorías ingresado por el usuario.\n",
    "while cont <= num_categorias:\n",
    "    elementos = [] # Almacena todos los números pertenecientes a una categoría\n",
    "    num_elementos += round(99 / num_categorias) # Repartimos las categoria en porciones iguales.\n",
    "    for i in lista_numeros:\n",
    "        if inicio < i <= num_elementos: # Almacenamos solo los numeros que esten en el rango de la categoria.\n",
    "            elementos += [i]\n",
    "    print(f'\\n---- Categoría N°{cont}: [{inicio} - {num_elementos}] ----\\nNúmero de elementos: {len(elementos)}\\n{elementos}\\n')\n",
    "    inicio = num_elementos #\n",
    "    cont += 1"
   ]
  },
  {
   "cell_type": "code",
   "execution_count": null,
   "id": "39228323",
   "metadata": {},
   "outputs": [],
   "source": []
  }
 ],
 "metadata": {
  "kernelspec": {
   "display_name": "Python 3 (ipykernel)",
   "language": "python",
   "name": "python3"
  },
  "language_info": {
   "codemirror_mode": {
    "name": "ipython",
    "version": 3
   },
   "file_extension": ".py",
   "mimetype": "text/x-python",
   "name": "python",
   "nbconvert_exporter": "python",
   "pygments_lexer": "ipython3",
   "version": "3.9.7"
  },
  "widgets": {
   "application/vnd.jupyter.widget-state+json": {
    "state": {},
    "version_major": 2,
    "version_minor": 0
   }
  }
 },
 "nbformat": 4,
 "nbformat_minor": 5
}
