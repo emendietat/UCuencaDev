{
 "cells": [
  {
   "cell_type": "markdown",
   "id": "4b95a061",
   "metadata": {},
   "source": [
    "# Examen Supletorio de Programación Orientada a las Telecomunicaciones"
   ]
  },
  {
   "cell_type": "markdown",
   "id": "a05d2821",
   "metadata": {},
   "source": [
    "## Pregunta 1 (15 puntos)"
   ]
  },
  {
   "cell_type": "markdown",
   "id": "3c05449f",
   "metadata": {},
   "source": [
    "Se requiere un programa que, dado un dataset con una columna (`dataset.csv`), construya un dataset con `n` columnas (pedir al usuario el ingreso de este número, no es necesario una validación). En la primera columna se tendrán los valores originales del dataset. En la segunda columna se tendrán todos los valores del dataset original, excepto el primer valor. En la tercera, todos los elementos, menos los dos primeros, números. Usar la misma lógica para las siguientes columnas.\n",
    "\n",
    "Luego de construido el dataset, mostrar un gráfico de líneas con `n` subplots. En cada subplot se deberán mostrar los valores correspondientes a las distintas columnas.\n",
    "\n",
    "<img src=\"fig2.png\">"
   ]
  },
  {
   "cell_type": "code",
   "execution_count": null,
   "id": "28fa60c4",
   "metadata": {},
   "outputs": [],
   "source": [
    "# inserte su código aquí\n",
    "\n"
   ]
  },
  {
   "cell_type": "markdown",
   "id": "fe57f779",
   "metadata": {},
   "source": [
    "## Pregunta 2 (15 puntos)"
   ]
  },
  {
   "cell_type": "markdown",
   "id": "957aa970",
   "metadata": {},
   "source": [
    "Se requiere un programa que pida datos de entrada al usuario. Los datos a pedir se pueden apreciar en el siguiente diccionario:\n",
    "\n",
    "```python\n",
    "datos = {\n",
    "    {\n",
    "        \"fecha\": \"01/01/2020\",  # estructura de fecha \n",
    "        \"id\": 15,  # valor entero mayor a 0\n",
    "        \"lecturas\": [10, 10.4, 33]  # 3 valores flotantes\n",
    "    }    \n",
    "    # pueden haber más registros en el diccionario\n",
    "}\n",
    "```\n",
    "El número de elementos del diccionario lo decide el usuario que lo ingresa. El programa deberá validar los distintos elementos (ver comentarios en el diccionario). Si un dato fue mal ingresado, volver a pedirlo hasta que sea correcto.  Luego del ingreso, el programa mostrará los 3 `id` ingresados cuya sumatoria de `lecturas` sea la mayor.\n",
    "\n"
   ]
  },
  {
   "cell_type": "code",
   "execution_count": null,
   "id": "b04cb89b",
   "metadata": {},
   "outputs": [],
   "source": [
    "# inserte su código aquí \n",
    "\n"
   ]
  }
 ],
 "metadata": {
  "kernelspec": {
   "display_name": "Python 3",
   "language": "python",
   "name": "python3"
  },
  "language_info": {
   "codemirror_mode": {
    "name": "ipython",
    "version": 3
   },
   "file_extension": ".py",
   "mimetype": "text/x-python",
   "name": "python",
   "nbconvert_exporter": "python",
   "pygments_lexer": "ipython3",
   "version": "3.7.3"
  },
  "widgets": {
   "application/vnd.jupyter.widget-state+json": {
    "state": {},
    "version_major": 2,
    "version_minor": 0
   }
  }
 },
 "nbformat": 4,
 "nbformat_minor": 5
}
