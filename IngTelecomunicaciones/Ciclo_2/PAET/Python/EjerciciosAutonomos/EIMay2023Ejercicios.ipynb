{
  "cells": [
    {
      "attachments": {},
      "cell_type": "markdown",
      "metadata": {
        "id": "kcc5u5jd-e-Z"
      },
      "source": [
        "# Programación aplicada a la Electrónica y a las Telecomunicaciones\n",
        "## Examen Interciclo\n",
        "### 10 de mayo de 2023"
      ]
    },
    {
      "attachments": {},
      "cell_type": "markdown",
      "metadata": {
        "id": "C4vRLk5_-2JY"
      },
      "source": [
        "Para cada uno de los siguientes ejercicios, escriba un script de Python que realice la tarea indicada."
      ]
    },
    {
      "attachments": {},
      "cell_type": "markdown",
      "metadata": {
        "id": "v0O_Psg9DvSu"
      },
      "source": [
        "## Ejercicio 1 (4 puntos)"
      ]
    },
    {
      "attachments": {},
      "cell_type": "markdown",
      "metadata": {
        "id": "nNIym0A9DzzX"
      },
      "source": [
        "El script solicita al usuario ingresar dos enteros positivos en BINARIO. El script muestra la suma de los números ingresados por el usuario. El resultado de la suma deberá, obviamente, mostrarse en binario. Los binarios ingresados por el usuario pueden tener un número diferente de bits. NO ESTÁ PERMITIDO utilizar la función `int(numero, 2)`, la cual trata al valor almacenado en la variable `numero` como si fuera un número binario. Ejemplo:\n",
        "\n",
        "El usuario ingresa:\t101110 1101\n",
        "El algoritmo muestra:\t101110 + 1101 = 111011"
      ]
    },
    {
      "cell_type": "code",
      "execution_count": 29,
      "metadata": {
        "id": "rbAivMruFs05"
      },
      "outputs": [
        {
          "name": "stdout",
          "output_type": "stream",
          "text": [
            "101110 + 1101 = 0111011\n"
          ]
        }
      ],
      "source": [
        "def obtenerDecimal(binario_str):\n",
        "    resultado = 0\n",
        "    exponente = 0\n",
        "    for i in binario_str[::-1]:\n",
        "        if int(i) != 0:\n",
        "            resultado += 2**exponente\n",
        "        exponente += 1\n",
        "    return resultado\n",
        "\n",
        "\n",
        "def obtenerBinarioStr(num_decimal):\n",
        "    bases = []\n",
        "    base = 0\n",
        "    exponente = 0\n",
        "    while num_decimal > base:\n",
        "        base = 2**exponente\n",
        "        bases.append(base)\n",
        "        exponente += 1\n",
        "    binario_str = ''\n",
        "    for i in bases[::-1]:\n",
        "        if num_decimal >= i:\n",
        "            binario_str += '1'\n",
        "            num_decimal -= i\n",
        "        else:\n",
        "         binario_str += '0'\n",
        "    return binario_str\n",
        "\n",
        "\n",
        "num_binario = input('\\ningrese un numero binario: ')\n",
        "num_binario_2 = input('\\ningrese el segundo numero binario: ')\n",
        "\n",
        "num1 = obtenerDecimal(num_binario)\n",
        "num2 = obtenerDecimal(num_binario_2)\n",
        "\n",
        "print(f'{num_binario} + {num_binario_2} = {obtenerBinarioStr(num1 + num2)}')      "
      ]
    },
    {
      "attachments": {},
      "cell_type": "markdown",
      "metadata": {
        "id": "oHcruiz9Fwht"
      },
      "source": [
        "## Ejercicio 2 (4 puntos)"
      ]
    },
    {
      "attachments": {},
      "cell_type": "markdown",
      "metadata": {
        "id": "wneKqhzAF1xN"
      },
      "source": [
        "En la teoría de números, un número narcisista es un número igual a la suma de sus propios dígitos, cada uno de los cuales está elevado a la potencia de la cantidad de dígitos. Ejemplos:\n",
        "\n",
        "* El número 153 es narcisista ya que 13 + 53 + 33 = 1 + 125 + 27 = 153\n",
        "* El número 9474 es narcisista ya que 94 + 44 + 74 + 44 = 9474\n",
        "\n",
        "El script solicita al usuario ingresar un entero positivo. El script muestra si el valor ingresado corresponde a un número narcisista o no. Por ejemplo:\n",
        "\n",
        "* Si el usuario ingresa 153, el algoritmo deberá mostrar:\n",
        "\n",
        "> 153 SÍ es un número narcisista (1^3 + 5^3 + 3^3 es igual a 153)\n",
        "\n",
        "* Si el usuario ingresa 54748, el algoritmo deberá mostrar:\n",
        "\n",
        "> 54748 SÍ es un número narcisista (5^5 + 4^5 + 7^5 + 4^5 + 8^5 es igual a 54748)\n",
        "\n",
        "* Si el usuario ingresa 125, el algoritmo deberá mostrar:\n",
        "\n",
        "> 125 NO es un número narcisista (1^3 + 2^3 + 5^3 NO es igual a 125)\n",
        "\n",
        "El resultado mostrado por el script deberá seguir EXACTAMENTE el formato indicado en los ejemplos."
      ]
    },
    {
      "cell_type": "code",
      "execution_count": 12,
      "metadata": {
        "id": "YBXZyZbaz-Dr"
      },
      "outputs": [
        {
          "name": "stdout",
          "output_type": "stream",
          "text": [
            "54748 SI es un numero narcisista (5^5 + 4^5 + 7^5 + 4^5 + 8^5  SI es igual a 54748)\n"
          ]
        }
      ],
      "source": [
        "def detectarNumeroNarcicista(numero):\n",
        "    is_narcisista = False\n",
        "    numero_str = f'{numero}'\n",
        "    exponente = len(numero_str)\n",
        "    expresion = ''\n",
        "    total = 0\n",
        "    for i in numero_str:\n",
        "        total += int(i)**exponente\n",
        "        expresion += f'{i}^{exponente} + '\n",
        "    if total == numero:\n",
        "        is_narcisista = True\n",
        "    return is_narcisista, expresion[:-2]\n",
        "\n",
        "def verificarNumero(numero):\n",
        "    is_narcisista, expresion = detectarNumeroNarcicista(numero)\n",
        "    res = 'NO' if not is_narcisista else 'SI'\n",
        "    print(f'{numero} {res} es un numero narcisista ({expresion} {res} es igual a {numero})')\n",
        "    \n",
        "numero = int(input('\\nIngrese un numero entero: '))\n",
        "verificarNumero(numero)"
      ]
    },
    {
      "attachments": {},
      "cell_type": "markdown",
      "metadata": {
        "id": "uYFVIFOSIEeQ"
      },
      "source": [
        "## Ejercicio 3 (4 puntos)"
      ]
    },
    {
      "attachments": {},
      "cell_type": "markdown",
      "metadata": {
        "id": "mxH9xfu6IH2H"
      },
      "source": [
        "Asuma que está dada una lista de números enteros. El script solicita al usuario que ingrese un número entero. El script debe mostrar todas las combinaciones ÚNICAS de dos números de la lista que sumados dan como resultado el número ingresado por el usuario. Las combinaciones deberán mostrarse como una lista de tuplas. Por ejemplo, suponga que se tiene la lista:\n",
        "\n",
        "`[11, 15, 2, 13, 4, 19, 9, 3, 7, 18, 1, 5, 11, 20, 12]`\n",
        "\n",
        "Suponga, además, que el usuario ingresa el número 20. El script deberá mostrar:\n",
        "\n",
        "`[(11, 9), (15, 5), (2, 18), (13, 7), (19, 1)]`\n",
        "\n",
        "El algoritmo deberá funcionar para cualquier lista de números enteros y para cualquier número entero ingresado por el usuario."
      ]
    },
    {
      "cell_type": "code",
      "execution_count": 4,
      "metadata": {
        "id": "P-y0kpAMW7aP"
      },
      "outputs": [
        {
          "name": "stdout",
          "output_type": "stream",
          "text": [
            "res = [(11, 9), (15, 5), (2, 18), (13, 7), (19, 1)]\n"
          ]
        }
      ],
      "source": [
        "def generarListaCombinaciones(numeros, numero):\n",
        "    combinaciones = []\n",
        "    for i in numeros:\n",
        "        for y in numeros:\n",
        "            if i + y == numero and (i, y) not in combinaciones and (y, i) not in combinaciones:\n",
        "                combinaciones.append((i, y))\n",
        "    return combinaciones\n",
        "            \n",
        "\n",
        "lista = [11, 15, 2, 13, 4, 19, 9, 3, 7, 18, 1, 5, 11, 20, 12]\n",
        "numero = int(input('\\nIngrese un numero entero: '))\n",
        "\n",
        "print(f'res = {generarListaCombinaciones(lista, numero)}')  "
      ]
    },
    {
      "attachments": {},
      "cell_type": "markdown",
      "metadata": {
        "id": "_S3exHbAW813"
      },
      "source": [
        "## Ejercicio 4 (8 puntos)"
      ]
    },
    {
      "attachments": {},
      "cell_type": "markdown",
      "metadata": {
        "id": "fnnJTyMBXH4f"
      },
      "source": [
        "Suponga que se tiene un diccionario que contenga como claves los nombres de varios estudiantes, y como valor las calificaciones desagregadas obtenidas por esos estudiantes para una materia específica. Las calificaciones corresponden a los siguientes COMPONENTES: Aprovechamiento 1 (sobre 25), Examen Interciclo (sobre 20), Aprovechamiento 2 (sobre 25), Examen Final (sobre 30), Examen Supletorio (sobre 30), y Calificación General (la suma sobre 100 de las calificaciones parciales). Es decir, para cada estudiante vamos a tener 6 calificaciones (una por cada componente), por ejemplo:\n",
        "\n",
        "![image.png](data:image/png;base64,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)\n",
        "Escriba una función en Python separada para cada una de las siguientes tareas:\n",
        "\n",
        "1. Agregar las calificaciones de un nuevo estudiante al diccionario. La función deberá recibir como parámetros el nombre y las calificaciones del estudiante en los 5 componentes. El sexto componente (Calificación General) se deberá calcular automáticamente como la suma de los otros componentes. En caso de que la calificación del supletorio esté disponible, recuerde que la nota del supletorio reemplaza al examen final en el cálculo de la calificación general **(1 punto)**\n",
        "2. Modificar una calificación individual de un estudiante específico. La función deberá recibir como parámetros el nombre del estudiante, el componente que quiere modificar, y la nueva calificación. **(1 punto)**\n",
        "3. Eliminar un estudiante. La función deberá recibir como parámetro el nombre del estudiante que se desea eliminar. **(1 punto)**\n",
        "4. Mostrar las calificaciones de todos los componentes de un estudiante específico. La función deberá recibir como parámetro el nombre del estudiante. **(1 punto)**\n",
        "5. Mostrar el nombre y la nota de los estudiantes con la calificación mayor y menor en un componente específico. La función deberá recibir como parámetro el nombre del componente para el cual se desea determinar el máximo y el mínimo. **(1 punto)**\n",
        "6. Mostrar el promedio de las calificaciones de todos los estudiantes en un componente específico. La función deberá recibir como parámetro el nombre del componente para el cual se desea visualizar el promedio. **(1 punto)**\n",
        "\n",
        "El script deberá mostrar un menú que permita al usuario escoger la tarea que desea realizar de la siguiente manera **(1 punto)**:\n",
        "\n",
        "1. Agregar estudiante\n",
        "2. Modificar calificación\n",
        "3. Eliminar estudiante\n",
        "4. Mostrar todas las calificaciones de un estudiante\n",
        "5. Mostrar estudiantes con calificaciones mayores y menores\n",
        "6. Mostrar calificación promedio\n",
        "\n",
        "Escoja una opción [1-6]:\n",
        "\n",
        "Para cada tarea se deberá solicitar al usuario la información requerida y mostrar los resultados correspondientes.\n",
        "\n",
        "Para este ejercicio, Ud. deberá decidir cómo estructura los datos dentro del diccionario. De igual manera, deberá proveer un ejemplo del diccionario llenado con los datos de 5 estudiantes como mínimo para poder probar el funcionamiento de su script. **(1 punto)**"
      ]
    },
    {
      "cell_type": "code",
      "execution_count": 25,
      "metadata": {
        "id": "6gSVXCal0CBZ"
      },
      "outputs": [
        {
          "ename": "ValueError",
          "evalue": "invalid literal for int() with base 10: ''",
          "output_type": "error",
          "traceback": [
            "\u001b[1;31m---------------------------------------------------------------------------\u001b[0m",
            "\u001b[1;31mValueError\u001b[0m                                Traceback (most recent call last)",
            "Cell \u001b[1;32mIn[25], line 66\u001b[0m\n\u001b[0;32m     61\u001b[0m     nota_max \u001b[39m=\u001b[39m notas[\u001b[39m1\u001b[39m]\n\u001b[0;32m     62\u001b[0m     nota_max \u001b[39m=\u001b[39m notas[\u001b[39m1\u001b[39m]\n\u001b[1;32m---> 66\u001b[0m \u001b[39mprint\u001b[39m(\u001b[39mf\u001b[39m\u001b[39m'\u001b[39m\u001b[39mres = \u001b[39m\u001b[39m{\u001b[39;00magregarCalificacion(\u001b[39m\"\u001b[39;49m\u001b[39mMaria\u001b[39;49m\u001b[39m\"\u001b[39;49m,\u001b[39m \u001b[39;49m{})\u001b[39m}\u001b[39;00m\u001b[39m'\u001b[39m)\n\u001b[0;32m     69\u001b[0m \u001b[39m#estudiante = input('\\nIngrese el nombre del estudiante: ')\u001b[39;00m\n",
            "Cell \u001b[1;32mIn[25], line 4\u001b[0m, in \u001b[0;36magregarCalificacion\u001b[1;34m(nombre_estudiante, estudiantes)\u001b[0m\n\u001b[0;32m      3\u001b[0m \u001b[39mdef\u001b[39;00m \u001b[39magregarCalificacion\u001b[39m(nombre_estudiante, estudiantes):\n\u001b[1;32m----> 4\u001b[0m     nota_1 \u001b[39m=\u001b[39m \u001b[39mint\u001b[39;49m(\u001b[39minput\u001b[39;49m(\u001b[39m'\u001b[39;49m\u001b[39m\\n\u001b[39;49;00m\u001b[39mIngrese la nota del aprovechamiento 1: \u001b[39;49m\u001b[39m'\u001b[39;49m))\n\u001b[0;32m      5\u001b[0m     examen_1 \u001b[39m=\u001b[39m \u001b[39mint\u001b[39m(\u001b[39minput\u001b[39m(\u001b[39m'\u001b[39m\u001b[39m\\n\u001b[39;00m\u001b[39mIngrese la nota del examen interciclo: \u001b[39m\u001b[39m'\u001b[39m))\n\u001b[0;32m      6\u001b[0m     nota_2 \u001b[39m=\u001b[39m \u001b[39mint\u001b[39m(\u001b[39minput\u001b[39m(\u001b[39m'\u001b[39m\u001b[39m\\n\u001b[39;00m\u001b[39mIngrese la nota del aprovechamiento 2: \u001b[39m\u001b[39m'\u001b[39m))\n",
            "\u001b[1;31mValueError\u001b[0m: invalid literal for int() with base 10: ''"
          ]
        }
      ],
      "source": [
        "isEnListaEstudiantes = lambda nombre_estudiante, estudiantes: nombre_estudiante in estudiantes.keys()\n",
        "\n",
        "def agregarCalificacion(nombre_estudiante, estudiantes):\n",
        "    nota_1 = int(input('\\nIngrese la nota del aprovechamiento 1: '))\n",
        "    examen_1 = int(input('\\nIngrese la nota del examen interciclo: '))\n",
        "    nota_2 = int(input('\\nIngrese la nota del aprovechamiento 2: '))\n",
        "    examen_2 = int(input('\\nIngrese la nota del examen final: '))\n",
        "    supletorio = input('\\nEl estudiante rindio un examen supletorio (s/n)?: ')\n",
        "    notas = [nota_1, examen_1, nota_2, examen_2]\n",
        "    if supletorio == 's':\n",
        "        ex_sup = int(input('\\nIngrese la nota del examen supletorio: '))\n",
        "        notas.append(ex_sup)\n",
        "    else:\n",
        "        notas.append(-1)\n",
        "    posc_examen_no_valido = 4\n",
        "    if notas[4] != -1:\n",
        "        posc_examen_no_valido = 3\n",
        "    total = 0\n",
        "    for psc, valor in enumerate(notas):\n",
        "        if psc != posc_examen_no_valido:\n",
        "            total += valor\n",
        "    notas.append(total)    \n",
        "    estudiantes[nombre_estudiante] = notas\n",
        "    return estudiantes\n",
        "\n",
        "\n",
        "def modificarNotas(nombre_estudiante, posc_nota, nueva_nota, estudiantes):\n",
        "    num_notas = len(estudiantes[nombre_estudiante])\n",
        "    for psc in range(num_notas):\n",
        "        if psc == posc_nota:\n",
        "            estudiantes[nombre_estudiante][psc] = nueva_nota\n",
        "    return estudiantes\n",
        "    \n",
        "\n",
        "def eliminarEstudiante(nombre_estudiante, estudiantes):\n",
        "    estudiantes.pop(nombre_estudiante)\n",
        "    return estudiantes\n",
        "\n",
        "\n",
        "def mostrarCalificacionesEstudiante(nombre_estudiante, estudiantes):\n",
        "    titulos = ['Aprovechamiento 1[25]','Examen Interciclo[20]','Aprovechamiento 2[25]','Examen Final[30]','Examen Supletorio 1[30]','Calificacion General[100]']\n",
        "    notas = []\n",
        "    for i in estudiantes[nombre_estudiante]:\n",
        "        if i == -1:\n",
        "            notas.append('')\n",
        "        else:\n",
        "            notas.append(f'{i}')\n",
        "    tabla = [titulos, notas]\n",
        "    for fila in tabla:\n",
        "        print('\\t'.join(str(columna) for columna in fila))\n",
        "    return estudiantes       \n",
        "\n",
        "\n",
        "def obtenerEstudiantesConMayorMenorCalificacion(psc_nota, estudiantes):\n",
        "    nombres = estudiantes.keys()\n",
        "    notas = [i[psc_nota] for i in estudiantes]\n",
        "    notas_nombres = {}\n",
        "    for psc, val in enumerate(notas):\n",
        "        notas_nombres[val] = estudiantes[psc]\n",
        "    notas_ordenadas = sorted(notas)\n",
        "    nota_min = notas[1]\n",
        "    est_nota_min = notas_nombres[nota_min]\n",
        "    nota_max = notas[-1]\n",
        "    est_nota_max = notas_nombres[nota_max]\n",
        "    return [nota_min, nota_max, est_nota_min, est_nota_max]\n",
        "    \n",
        "\n",
        "print(f'res = {agregarCalificacion(\"Maria\", {})}')\n",
        "\n",
        "\n",
        "#estudiante = input('\\nIngrese el nombre del estudiante: ')\n",
        "    \n",
        "    "
      ]
    }
  ],
  "metadata": {
    "colab": {
      "provenance": []
    },
    "kernelspec": {
      "display_name": "Python 3",
      "name": "python3"
    },
    "language_info": {
      "codemirror_mode": {
        "name": "ipython",
        "version": 3
      },
      "file_extension": ".py",
      "mimetype": "text/x-python",
      "name": "python",
      "nbconvert_exporter": "python",
      "pygments_lexer": "ipython3",
      "version": "3.11.3"
    }
  },
  "nbformat": 4,
  "nbformat_minor": 0
}
