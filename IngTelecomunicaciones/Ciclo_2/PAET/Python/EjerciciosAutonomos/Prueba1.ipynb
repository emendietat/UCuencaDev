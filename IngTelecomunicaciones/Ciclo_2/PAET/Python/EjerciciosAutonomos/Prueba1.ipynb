{
  "cells": [
    {
      "cell_type": "markdown",
      "metadata": {
        "id": "hkMeAS9__ZC-"
      },
      "source": [
        "# Prueba de Programación Orientada a las Telecomunicaciones\n",
        "## 4 de mayo de 2023\n",
        "\n",
        "*   Cuando termine de resolver los ejercicios o antes de que se termine el tiempo, deberá enviar el Jupyter notebook a través de la tarea del aula virtual que corresponde a esta prueba.\n",
        "*   Envíe su Jupyter notebook con suficiente antelación. Se recomienda empezar el envío al menos 10 minutos antes de que finalice el tiempo de la prueba. Se penalizarán los envíos atrasados con 1 punto menos por cada minuto de retraso."
      ]
    },
    {
      "cell_type": "markdown",
      "metadata": {
        "id": "L_mpETlM_ZDA"
      },
      "source": [
        "## Ejercicio 1 (2 puntos)\n",
        "\n",
        "Dada una frase, escriba un script en Python que genere una lista que contenga únicamente las palabras de la frase que tengan menos de 4 letras. Para generar la lista, debe usar listas por comprensión."
      ]
    },
    {
      "cell_type": "code",
      "execution_count": 1,
      "metadata": {
        "id": "nXBaul4w_ZDA"
      },
      "outputs": [
        {
          "name": "stdout",
          "output_type": "stream",
          "text": [
            "\n",
            "Palabras con menos de 4 letras: ['En', 'una', 'de', 'se', 'fue', 'a', 'el', 'y', 'con', 'su', 'y']\n"
          ]
        }
      ],
      "source": [
        "def obtenerLista(frase):\n",
        "    '''\n",
        "    Obtiene una frase y genera una lista unicamnte con las palabras que contienen menos de 4 letras\n",
        "    -------\n",
        "    PARAMS\n",
        "    ------\n",
        "    frase : String\n",
        "        frase que contiene las palabras a filtrar\n",
        "        \n",
        "    ------\n",
        "    RETURN\n",
        "    ------\n",
        "    lista : List<String>\n",
        "        lista con las palabras filtradas.\n",
        "    '''\n",
        "    palabras = frase.split()\n",
        "    return [palabra for palabra in palabras if len(palabra) < 4]\n",
        "\n",
        "frase = 'En una luminosa tarde de domingo, Juan Pérez se fue a nadar bajo el sol, y regresó con su piel roja y ardiente'\n",
        "\n",
        "print(f'\\nPalabras con menos de 4 letras: {obtenerLista(frase)}')"
      ]
    },
    {
      "cell_type": "markdown",
      "metadata": {
        "id": "O21bEsdUCBo9"
      },
      "source": [
        "## Ejercicio 2 (2 puntos)"
      ]
    },
    {
      "cell_type": "markdown",
      "metadata": {
        "id": "Fvz6E4SGFSgT"
      },
      "source": [
        "Escriba un script en Python que solicite al usuario ingresar un entero positivo y que genere una lista que contenga todos los números entre 1 y el número ingresado por el usuario que sean múltiplos de los enteros en el intervalo [2, 9]. Para generar la lista, debe utilizar listas por comprensión. Luego de generar la lista, deberá eliminar los valores duplicados, en caso de que existiesen."
      ]
    },
    {
      "cell_type": "code",
      "execution_count": 18,
      "metadata": {
        "id": "IDp_wy0KDdup"
      },
      "outputs": [
        {
          "name": "stdout",
          "output_type": "stream",
          "text": [
            "\n",
            "Numeros: [2, 3, 4, 5, 6, 7, 8, 9]\n"
          ]
        }
      ],
      "source": [
        "\n",
        "def generarMultiplos(num_final):\n",
        "   '''\n",
        "    genera una lista con los multiplos en [2,9] de los numeros contenidos entre 1 y 'num_final'\n",
        "    -------\n",
        "    PARAMS\n",
        "    ------\n",
        "    num_final : int \n",
        "    ------\n",
        "    RETURN\n",
        "    ------\n",
        "    lista : List<int>\n",
        "        numeros multiplos\n",
        "    '''\n",
        "   return [y for i in range(1, num_final) for y in range(2,10) if i % y == 0]\n",
        "\n",
        "\n",
        "def eliminarRepetidos(lista):\n",
        "   numeros = []\n",
        "   for i in lista:\n",
        "      if i not in numeros:\n",
        "         numeros.append(i)\n",
        "   return numeros\n",
        "\n",
        "\n",
        "numero = int(input(\"\\nIngrese un numero entero positivo: \"))\n",
        "print(f'\\nNumeros: {eliminarRepetidos(generarMultiplos(numero))}')"
      ]
    },
    {
      "cell_type": "markdown",
      "metadata": {
        "id": "GljP0NDm_ZDB"
      },
      "source": [
        "## Ejercicio 3 (3 puntos)"
      ]
    },
    {
      "cell_type": "markdown",
      "metadata": {
        "id": "ECkB7R-s_ZDB"
      },
      "source": [
        "Dada una frase, escriba un script en Python que muestre cuántas veces ocurre una palabra ingresada por el usuario en dicha frase. Por ejemplo:\n",
        "\n",
        "Frase: 'Claro que sí, dinero. Tú sabes que el dinero no es todo en el dinero.'\n",
        "\n",
        "Palabra ingresada por el usuario: 'dinero'\n",
        "\n",
        "El script debe mostrar: 3\n",
        "\n",
        "Para este ejercicio no está permitido utilizar la función count() del objeto string."
      ]
    },
    {
      "cell_type": "code",
      "execution_count": 4,
      "metadata": {
        "id": "RFAr9s4G_ZDB"
      },
      "outputs": [
        {
          "name": "stdout",
          "output_type": "stream",
          "text": [
            "\n",
            "Res: 3\n"
          ]
        }
      ],
      "source": [
        "def obtenerOcurrencias(frase, palabra):\n",
        "    '''\n",
        "    Obtiene el numero de veces que se repite una palabra dentro de una frase\n",
        "    -------\n",
        "    PARAMS\n",
        "    ------\n",
        "    frase : String\n",
        "        frase que contiene las palabras a filtrar\n",
        "    palabra : Palabra que se necesita saber su numero de ocurrencias dentro del texto. \n",
        "    ------\n",
        "    RETURN\n",
        "    ------\n",
        "    cont_ocurrencias : int\n",
        "        numero de veces que se repite la palabra dentro de la frase.\n",
        "    '''\n",
        "    cont_ocurrencias = 0\n",
        "    palabras = frase.split()\n",
        "    for i in palabras:\n",
        "        i = i.replace('.', '')\n",
        "        i = i.replace(',', '')\n",
        "        if i == palabra:\n",
        "            cont_ocurrencias += 1\n",
        "    return cont_ocurrencias\n",
        "\n",
        "frase = 'Claro que sí, dinero. Tú sabes que el dinero no es todo en el dinero.'\n",
        "palabra = input('\\nIngrese una palabra: ')\n",
        "print(f'\\nNumero de ocurrencias: {obtenerOcurrencias(frase, palabra)}')\n"
      ]
    },
    {
      "cell_type": "markdown",
      "metadata": {
        "id": "Wx3FizNjFGoB"
      },
      "source": [
        "## Ejercicio 4 (4 puntos)\n"
      ]
    },
    {
      "cell_type": "markdown",
      "metadata": {
        "id": "l9XTXzcKFjE2"
      },
      "source": [
        "Dada una lista de números, escriba un script en Python que genere un diccionario que contenga el número de veces que se repite cada elemento de la lista. Por ejemplo:\n",
        "\n",
        "lista = [11, 45, 8, 11, 23, 45, 23, 45, 89]\n",
        "\n",
        "El script debe mostrar: {11: 2, 45:3, 8: 1, 23: 2, 89: 1}"
      ]
    },
    {
      "cell_type": "code",
      "execution_count": 5,
      "metadata": {
        "id": "cD54eY4AF9GW"
      },
      "outputs": [
        {
          "name": "stdout",
          "output_type": "stream",
          "text": [
            "\n",
            "Numeros: {11: 2, 45: 3, 8: 1, 23: 2, 89: 1}\n"
          ]
        }
      ],
      "source": [
        "def obtenerOcurrenciasLista(numeros, numero):\n",
        "    '''\n",
        "    Obtiene el numero de ocurrencias de un numero en una lista de numeros\n",
        "    -------\n",
        "    PARAMS\n",
        "    ------\n",
        "    numeros : list<int>\n",
        "        lista de numeros para filtrar.\n",
        "    numero : int\n",
        "        numero que se desea contar.\n",
        "    RETURN\n",
        "    ------\n",
        "    cont_ocurrencias : int\n",
        "        numero de veces que se repite el numero dentro de la lista.\n",
        "    '''\n",
        "    cont_ocurrencias = 0\n",
        "    for i in numeros:\n",
        "        if numero == i:\n",
        "            cont_ocurrencias += 1\n",
        "    return cont_ocurrencias\n",
        "\n",
        "def generarDiccionario(lista):\n",
        "    '''\n",
        "    Genera un diccionario con los numeros de la lista y su numero de ocurrencias.\n",
        "    -------\n",
        "    PARAMS\n",
        "    ------\n",
        "    lista : list<int>\n",
        "        lista de numeros para filtrar.\n",
        "    ------\n",
        "    RETURN\n",
        "    ------\n",
        "     numeros : Dict<int>\n",
        "        Diccionario con cada numero de la lista y su numero de ocurrencias.\n",
        "    '''\n",
        "    numeros = {}\n",
        "    for i in lista:\n",
        "        numeros[i] = obtenerOcurrenciasLista(lista, i)\n",
        "    return numeros\n",
        "\n",
        "lista = [11, 45, 8, 11, 23, 45, 23, 45, 89]\n",
        "print(f'\\nNumeros: {generarDiccionario(lista)}')\n"
      ]
    },
    {
      "cell_type": "markdown",
      "metadata": {
        "id": "MMWaHHGYGKKp"
      },
      "source": [
        "## Ejercicio 5 (4 puntos)"
      ]
    },
    {
      "cell_type": "markdown",
      "metadata": {
        "id": "5gK7rfX7GM84"
      },
      "source": [
        "Dada una frase, escriba un script en Python que genere una lista que contenga todos los números que están presentes en la frase. En la frase no existe un caracter de separación entre palabras y/o números. Sólo debe considerar números enteros positivos: Por ejemplo:\n",
        "\n",
        "Frase: 'salario=425 coeficiente de Gini 44/100 interés anual en ahorros 8 fin'\n",
        "\n",
        "El script debe generar: [425, 44, 100, 8]"
      ]
    },
    {
      "cell_type": "code",
      "execution_count": 12,
      "metadata": {
        "id": "q5lvDDUsHycz"
      },
      "outputs": [
        {
          "name": "stdout",
          "output_type": "stream",
          "text": [
            "\n",
            "Lista: [425, 44, 100, 8]\n"
          ]
        }
      ],
      "source": [
        "def filtrarNumeros(palabra):\n",
        "    '''\n",
        "    obtiene los numeros enteros contenidos en una palabra\n",
        "    -------\n",
        "    PARAMS\n",
        "    ------\n",
        "    palabra : String\n",
        "        palabra que se desea filtrar.\n",
        "    ------\n",
        "    RETURN\n",
        "    ------\n",
        "     numeros : List<int>\n",
        "        Lista con los numeros contenidos en la palabra.\n",
        "    '''\n",
        "    numero_str = ''\n",
        "    numeros = []\n",
        "    for i in f'{palabra}/':\n",
        "        if not i.isdigit() and numero_str != '':\n",
        "            numeros.append(int(numero_str))\n",
        "            numero_str = ''\n",
        "        if i.isdigit():\n",
        "            numero_str += i\n",
        "    return numeros\n",
        "    \n",
        "def obtenerListaNumeros(frase):\n",
        "    '''\n",
        "    obtiene los numeros enteros contenidos en una frase\n",
        "    -------\n",
        "    PARAMS\n",
        "    ------\n",
        "    frase : String\n",
        "        frase que se desea filtrar.\n",
        "    ------\n",
        "    RETURN\n",
        "    ------\n",
        "     numeros : List<int>\n",
        "        Lista con los numeros contenidos en la frase.\n",
        "    '''\n",
        "    palabras = frase.split()\n",
        "    numeros = []\n",
        "    for i in palabras:\n",
        "        numeros += filtrarNumeros(i)\n",
        "    return numeros\n",
        "\n",
        "   \n",
        "    \n",
        "frase = 'salario=425 coeficiente de Gini 44/100 interés anual en ahorros 8 fin'\n",
        "print(f'\\nLista: {obtenerListaNumeros(frase)}')"
      ]
    }
  ],
  "metadata": {
    "celltoolbar": "Raw Cell Format",
    "colab": {
      "provenance": []
    },
    "kernelspec": {
      "display_name": "Python 3",
      "language": "python",
      "name": "python3"
    },
    "language_info": {
      "codemirror_mode": {
        "name": "ipython",
        "version": 3
      },
      "file_extension": ".py",
      "mimetype": "text/x-python",
      "name": "python",
      "nbconvert_exporter": "python",
      "pygments_lexer": "ipython3",
      "version": "3.11.2"
    }
  },
  "nbformat": 4,
  "nbformat_minor": 0
}
