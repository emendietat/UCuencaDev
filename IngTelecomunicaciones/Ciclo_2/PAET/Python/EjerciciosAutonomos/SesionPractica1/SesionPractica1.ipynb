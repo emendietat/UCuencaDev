{
 "cells": [
  {
   "cell_type": "markdown",
   "metadata": {},
   "source": [
    "# Sesión de Ejercicios 2"
   ]
  },
  {
   "cell_type": "markdown",
   "metadata": {},
   "source": [
    "En esta sesión de ejercicios, el estudiante se familizará con los conceptos de operadores y condicionales. Así mismo, al final de la sesión, el estudiante podrá utilizar conjuntamente condicionales usando operadores lógicos.\n",
    "\n",
    "Durante todas las sesiones de ejercicios, <strong>se deberán formar grupos de 2 estudiantes </strong>.\n",
    "\n",
    "Al terminar los ejercicios, guardar el archivo de la siguiene manera: Si nombre es Juan Perez Mendieta y su compañero es Pedro Perlaza Alvarez, su archivo deberá ser nombrado como PerezM_PerlazaA.ipynb"
   ]
  },
  {
   "cell_type": "markdown",
   "metadata": {},
   "source": [
    "## Usando operadores"
   ]
  },
  {
   "cell_type": "markdown",
   "metadata": {},
   "source": [
    "Primero, los operadores matemáticos. Ejecute la celda de comandos y revise los resultados."
   ]
  },
  {
   "cell_type": "code",
   "execution_count": null,
   "metadata": {},
   "outputs": [],
   "source": [
    "a = 30\n",
    "b = 10\n",
    "\n",
    "print(a + b)\n",
    "print(a - b)\n",
    "print(a * b)\n",
    "print(a % 2)\n",
    "print(a % 3)\n",
    "print(b % 3)\n",
    "print(a**3)\n",
    "print(a // b)"
   ]
  },
  {
   "cell_type": "markdown",
   "metadata": {},
   "source": [
    "Los operadores lógicos de comparación retornan siempre valores lógicos, i.e. True o False. <br>\n",
    "Ejecutar la siguiente celda de comandos y revisar los resultados."
   ]
  },
  {
   "cell_type": "code",
   "execution_count": null,
   "metadata": {},
   "outputs": [],
   "source": [
    "a = 30\n",
    "b = 10\n",
    "\n",
    "print(a == b)\n",
    "print(a != b)\n",
    "print(a > b)\n",
    "print(a < b)"
   ]
  },
  {
   "cell_type": "markdown",
   "metadata": {},
   "source": [
    "También se pueden ejecutar varias comparaciones a la vez, a través de otros operadores como ´and´, ´or´, o ´not´ <br>\n",
    "Ejecutar la siguiente celda y revisar los resultados."
   ]
  },
  {
   "cell_type": "code",
   "execution_count": null,
   "metadata": {},
   "outputs": [],
   "source": [
    "a = 30\n",
    "b = 10\n",
    "\n",
    "print(a == b and a > b)\n",
    "print(a == b or a > b)\n",
    "print(not a == b)\n",
    "print(a != b and a > b and a > 0)  # se pueden tener tantos operadores como sean necesarios"
   ]
  },
  {
   "cell_type": "markdown",
   "metadata": {},
   "source": [
    "En Python, se pueden leer valores desde el teclado mediante el comando input(). A continuación un ejemplo:"
   ]
  },
  {
   "cell_type": "code",
   "execution_count": null,
   "metadata": {},
   "outputs": [],
   "source": [
    "a = int(input(\"Ingrese el valor para a\"))  # la función int, es usada para cambiar el tipo de dato ingresado a entero\n",
    "print(\"El valor de a es \", a)"
   ]
  },
  {
   "cell_type": "markdown",
   "metadata": {},
   "source": [
    "Por defecto, input() retorna un valor del tipo ´str´. Muchas veces se requiere de un valor entero, para ello se utiliza la función int(). Esta transforma el valor ingresado en un valor entero"
   ]
  },
  {
   "cell_type": "markdown",
   "metadata": {},
   "source": [
    "### Ejercicio 1"
   ]
  },
  {
   "cell_type": "markdown",
   "metadata": {},
   "source": [
    "Cree código de tal manera que 2 valores: $x$ y $y$ sean ingresados mediante el teclado. Realizar varias comparaciones lógicas y mostrar los resultados"
   ]
  },
  {
   "cell_type": "code",
   "execution_count": null,
   "metadata": {},
   "outputs": [],
   "source": [
    "# Ingrese su código aquí\n",
    "\n"
   ]
  },
  {
   "cell_type": "markdown",
   "metadata": {},
   "source": [
    "Lea 2 variables: $x$ y $y$ desde el teclado, realice varias operaciones matemáticas, y muestre los resultados"
   ]
  },
  {
   "cell_type": "code",
   "execution_count": null,
   "metadata": {},
   "outputs": [],
   "source": [
    "# Ingrese su código aquí\n",
    "\n"
   ]
  },
  {
   "cell_type": "markdown",
   "metadata": {},
   "source": [
    "## Manejo de condicionales"
   ]
  },
  {
   "cell_type": "markdown",
   "metadata": {},
   "source": [
    "Los estamentos condicionales son usados para redireccionar el flujo de programa dependiendo de una o varias condiciones que deben ser controladas. <br>\n",
    "Ejecute el siguiente código varias veces cambiando el valor ingresado y revisar los resultados"
   ]
  },
  {
   "cell_type": "code",
   "execution_count": null,
   "metadata": {},
   "outputs": [],
   "source": [
    "x = int(input(\"Ingrese un valor numérico\"))\n",
    "\n",
    "if x > 0:\n",
    "    print(\"El valor ingresado es positivo\")"
   ]
  },
  {
   "cell_type": "markdown",
   "metadata": {},
   "source": [
    "### Ejercicio 2"
   ]
  },
  {
   "cell_type": "markdown",
   "metadata": {},
   "source": [
    "Modifique el código anterior para que también muestre un mensaje cuando el valor ingresado sea 0"
   ]
  },
  {
   "cell_type": "code",
   "execution_count": 1,
   "metadata": {},
   "outputs": [],
   "source": [
    "# Ingrese su código aquí\n",
    "\n"
   ]
  },
  {
   "cell_type": "markdown",
   "metadata": {},
   "source": [
    "Ahora, extienda la funcionalidad de su código para que también muestre un mensaje indicando si el número ingresado fue negativo"
   ]
  },
  {
   "cell_type": "code",
   "execution_count": 2,
   "metadata": {},
   "outputs": [],
   "source": [
    "# Ingrese su código aquí\n",
    "\n"
   ]
  },
  {
   "cell_type": "markdown",
   "metadata": {},
   "source": [
    "### Condicionales con varias condiciones"
   ]
  },
  {
   "cell_type": "markdown",
   "metadata": {},
   "source": [
    "Se requiere verificar que el usaurio y contraseña de un usuario sean los correctos. Analizar y ejecutar el código acontinuación."
   ]
  },
  {
   "cell_type": "code",
   "execution_count": null,
   "metadata": {},
   "outputs": [],
   "source": [
    "usuario = input(\"Usuario\")\n",
    "clave = input(\"Clave\")\n",
    "\n",
    "if usuario == \"admin\" and clave == \"password\":  # se chequean 2 condiciones\n",
    "    print(\"Inicio exitoso\")\n",
    "else:\n",
    "    print(\"Usuario o clave incorrectos\")"
   ]
  },
  {
   "cell_type": "markdown",
   "metadata": {},
   "source": [
    "#### Ejercicio 3"
   ]
  },
  {
   "cell_type": "markdown",
   "metadata": {},
   "source": [
    "Se requiere implementar una condición extra: El usuario solo puede autenticarse entre 7 am y 7 pm.  Implementar el código acontinuación:"
   ]
  },
  {
   "cell_type": "code",
   "execution_count": 3,
   "metadata": {},
   "outputs": [],
   "source": [
    "# Ingrese su código aquí\n",
    "\n"
   ]
  },
  {
   "cell_type": "markdown",
   "metadata": {},
   "source": [
    "### Múltiples condicionales"
   ]
  },
  {
   "cell_type": "markdown",
   "metadata": {},
   "source": [
    "Se tiene un panel de control con un aviso luminoso de hasta 3 colores: amarillo, verde, azul. Si la luz es verde, el estado del sistema es correcto; si la luz del sistema es amarilla, el sistema está soportando fallos; si la luz es roja, el sistema está en estado crítico."
   ]
  },
  {
   "cell_type": "code",
   "execution_count": null,
   "metadata": {},
   "outputs": [],
   "source": [
    "color = input(\"Ingrese un color [amarillo|verde|rojo]\")\n",
    "\n",
    "if color == \"verde\":\n",
    "    print(\"OK\")\n",
    "elif color == \"amarillo\":\n",
    "    print(\"Warning\")\n",
    "elif color == \"rojo\":\n",
    "    print(\"Error\")\n",
    "else:\n",
    "    print(\"Color desconocido\")"
   ]
  },
  {
   "cell_type": "markdown",
   "metadata": {},
   "source": [
    "#### Ejercicio 4"
   ]
  },
  {
   "cell_type": "markdown",
   "metadata": {},
   "source": [
    "Existen ahora 2 luces que pueden tener los mismos 3 colores. Implemente un sistema que muestre los siguientes mensajes dependiendo de la combinación de colores: <br>\n",
    "<br>\n",
    "verde + verde --> OK <br>\n",
    "verde + amarillo --> OK<br>\n",
    "amarillo + amarillo --> Warning<br>\n",
    "rojo + verde --> Error<br>\n",
    "rojo + amarillo --> Error<br>\n",
    "rojo + rojo --> Critical<br>"
   ]
  },
  {
   "cell_type": "code",
   "execution_count": 4,
   "metadata": {},
   "outputs": [],
   "source": [
    "# Ingrese su código aquí\n",
    "\n"
   ]
  },
  {
   "cell_type": "markdown",
   "metadata": {},
   "source": [
    "### Condicionales anidados"
   ]
  },
  {
   "cell_type": "markdown",
   "metadata": {},
   "source": [
    "Se tienen valores de precipitaciones de un sensor. Dependiendo de si la estación actual es verano o invierno, se establecen rangos en los que las mediciones (mm/h) se consideran normales o anormales"
   ]
  },
  {
   "cell_type": "code",
   "execution_count": null,
   "metadata": {},
   "outputs": [],
   "source": [
    "epoca = \"invierno\"\n",
    "medicion = 50\n",
    "\n",
    "if epoca == \"verano\":\n",
    "    if 0 <= medicion <= 100:\n",
    "        print(\"Rango normal\")\n",
    "    elif 100 < medicion <= 200:\n",
    "        print(\"Anormal\")\n",
    "    else:\n",
    "        print(\"Muy anormal\")\n",
    "else:\n",
    "    if 0 <= medicion <= 200:\n",
    "        print(\"Rango normal\")\n",
    "    elif 200 < medicion <= 400:\n",
    "        print(\"Anormal\")\n",
    "    else:\n",
    "        print(\"Muy anormal\")"
   ]
  },
  {
   "cell_type": "markdown",
   "metadata": {},
   "source": [
    "El siguiente código es equivalente al anterior. ¿Por que?"
   ]
  },
  {
   "cell_type": "code",
   "execution_count": null,
   "metadata": {},
   "outputs": [],
   "source": [
    "epoca = \"invierno\"\n",
    "medicion = 300\n",
    "\n",
    "if epoca == \"verano\":\n",
    "    if 0 <= medicion and medicion <= 100:\n",
    "        print(\"Rango normal\")\n",
    "    elif 100 < medicion and medicion <= 200:\n",
    "        print(\"Anormal\")\n",
    "    else:\n",
    "        print(\"Muy anormal\")\n",
    "else:\n",
    "    if 0 <= medicion and medicion <= 200:\n",
    "        print(\"Rango normal\")\n",
    "    elif 200 < medicion and medicion <= 400:\n",
    "        print(\"Anormal\")\n",
    "    else:\n",
    "        print(\"Muy anormal\")"
   ]
  },
  {
   "cell_type": "markdown",
   "metadata": {},
   "source": [
    "#### Ejercicio 5"
   ]
  },
  {
   "cell_type": "markdown",
   "metadata": {},
   "source": [
    "Extienda el código anterior para que tome en cuenta otras estaciones como primavera y otoño. Cree categorias para cada estación."
   ]
  },
  {
   "cell_type": "code",
   "execution_count": 5,
   "metadata": {},
   "outputs": [],
   "source": [
    "# Ingrese su código aquí\n",
    "\n",
    " "
   ]
  },
  {
   "cell_type": "markdown",
   "metadata": {},
   "source": [
    "## Ejercicio 6"
   ]
  },
  {
   "cell_type": "markdown",
   "metadata": {},
   "source": [
    "Escriba un programa que convierta temperaturas de grados celsius a fahrenheit y viceversa. <br>\n",
    "Fórmula: $C = (5/9) * (F - 32)$\n",
    "\n",
    "Salida esperada : <br>\n",
    "60°C es 140 en Fahrenheit <br>\n",
    "45°F es 7 en Celsius"
   ]
  },
  {
   "cell_type": "markdown",
   "metadata": {},
   "source": [
    "\n"
   ]
  },
  {
   "cell_type": "code",
   "execution_count": 1,
   "metadata": {},
   "outputs": [
    {
     "name": "stdout",
     "output_type": "stream",
     "text": [
      "Si desea transformar de Celsius a Fahrenheit precione C, si desea tranformar de fahrenheit a Celsius prresione f c\n",
      "ingrese el valor de la temperatura60\n",
      "140\n"
     ]
    }
   ],
   "source": [
    "#Se pregunta al usuario si desea tranfomar de Celsius a Fahrenheit o viceversa\n",
    "orden = input(\"Si desea transformar de Celsius a Fahrenheit precione C, si desea tranformar de fahrenheit a Celsius prresione f \") \n",
    "temperatura = int(input(\"ingrese el valor de la temperatura\"))\n",
    "\n",
    "if orden == \"f\":\n",
    "    respuesta = (5/9) * (temperatura - 32)\n",
    "elif orden == \"c\":\n",
    "    respuesta = (9/5) * temperatura + 32\n",
    "else:\n",
    "    print(\"caracater desconocido\")\n",
    "\n",
    "print (int(respuesta))"
   ]
  },
  {
   "cell_type": "code",
   "execution_count": null,
   "metadata": {},
   "outputs": [],
   "source": []
  },
  {
   "cell_type": "code",
   "execution_count": null,
   "metadata": {},
   "outputs": [],
   "source": []
  },
  {
   "cell_type": "code",
   "execution_count": null,
   "metadata": {},
   "outputs": [],
   "source": []
  },
  {
   "cell_type": "code",
   "execution_count": null,
   "metadata": {},
   "outputs": [],
   "source": []
  },
  {
   "cell_type": "markdown",
   "metadata": {},
   "source": [
    "## Ejercicio 7"
   ]
  },
  {
   "cell_type": "markdown",
   "metadata": {},
   "source": [
    "Se requiere comparar un número ingresado, $x$, con otros números previamente almacenados para determinar: <br>\n",
    "- Cuantos números iguales a $x$ existen.\n",
    "- Cuantos números mayores a $x$ existen\n",
    "- Cuantos números menores a $x$ existen"
   ]
  },
  {
   "cell_type": "code",
   "execution_count": 9,
   "metadata": {},
   "outputs": [
    {
     "name": "stdout",
     "output_type": "stream",
     "text": [
      "Ingrese el valor de x10\n",
      "Existen: 0 mayores\n",
      "Existen: 3 menores\n",
      "Existen: 1 iguales\n"
     ]
    }
   ],
   "source": [
    "x = int(input(\"Ingrese el valor de x\"))\n",
    "\n",
    "# números previamente almacenados\n",
    "num1 = 10\n",
    "num2 = 5\n",
    "num3 = 4\n",
    "num4 = 6\n",
    "num5 = 3\n",
    "\n",
    "#son variables contares\n",
    "\n",
    "mayor = 0\n",
    "menor = 0\n",
    "igual = 0\n",
    "\n",
    "#se compara si el valor es mayor, menor o igual al numero 1.\n",
    "if x > num1:\n",
    "    menor += 1\n",
    "elif x < num1:\n",
    "    mayor += 1\n",
    "else:\n",
    "    igual += 1\n",
    "#se compara si el valor es mayor, menor o igual al numero 2.\n",
    "if x > num2:\n",
    "    menor += 1\n",
    "elif x < num2:\n",
    "    mayor += 1\n",
    "else:\n",
    "    igual += 1\n",
    "#se compara si el valor es mayor, menor o igual al numero 3.\n",
    "if x > num3:\n",
    "    menor= 1\n",
    "elif x < num3:\n",
    "    mayor += 1\n",
    "else:\n",
    "    igual += 1\n",
    "#se compara si el valor es mayor, menor o igual al numero 4.\n",
    "if x > num4:\n",
    "    menor += 1\n",
    "elif x < num4:\n",
    "    mayor += 1\n",
    "else:\n",
    "    igual += 1\n",
    "#se compara si el valor es mayor, menor o igual al numero 5.\n",
    "if x > num5:\n",
    "    menor += 1\n",
    "elif x < num5:\n",
    "    mayor += 1\n",
    "else: \n",
    "    igual += 1\n",
    "\n",
    "print(\"Existen:\", mayor, \"mayores\")\n",
    "print(\"Existen:\", menor, \"menores\")\n",
    "print(\"Existen:\", igual, \"iguales\")"
   ]
  },
  {
   "cell_type": "markdown",
   "metadata": {},
   "source": [
    "## Ejercicio 8"
   ]
  },
  {
   "cell_type": "markdown",
   "metadata": {},
   "source": [
    "Dados 4 números, determine cual es el número mayor entre ellos"
   ]
  },
  {
   "cell_type": "code",
   "execution_count": 8,
   "metadata": {},
   "outputs": [],
   "source": []
  },
  {
   "cell_type": "markdown",
   "metadata": {},
   "source": [
    "## Ejercicio 9"
   ]
  },
  {
   "cell_type": "markdown",
   "metadata": {},
   "source": [
    "Escribir un programa para obtener la fecha del día siguiente a una fecha dada\n",
    "\n",
    "Salida esperada:\n",
    "\n",
    "Ingrese un año: 2016                                                      \n",
    "Ingrese un mes [1-12]: 08                                                \n",
    "Ingrese un día [1-31]: 23                                                  \n",
    "La fecha siguiente es [yyyy-mm-dd] 2016-8-24\n"
   ]
  },
  {
   "cell_type": "code",
   "execution_count": null,
   "metadata": {},
   "outputs": [],
   "source": [
    "# Ingrese su código aquí\n",
    "\n"
   ]
  }
 ],
 "metadata": {
  "kernelspec": {
   "display_name": "Python 3 (ipykernel)",
   "language": "python",
   "name": "python3"
  },
  "language_info": {
   "codemirror_mode": {
    "name": "ipython",
    "version": 3
   },
   "file_extension": ".py",
   "mimetype": "text/x-python",
   "name": "python",
   "nbconvert_exporter": "python",
   "pygments_lexer": "ipython3",
   "version": "3.9.7"
  },
  "widgets": {
   "application/vnd.jupyter.widget-state+json": {
    "state": {},
    "version_major": 2,
    "version_minor": 0
   }
  }
 },
 "nbformat": 4,
 "nbformat_minor": 4
}
